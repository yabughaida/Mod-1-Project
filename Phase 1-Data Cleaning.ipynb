{
 "cells": [
  {
   "cell_type": "markdown",
   "metadata": {},
   "source": [
    "### Mod 1 Project --- Data Movie"
   ]
  },
  {
   "cell_type": "code",
   "execution_count": 1,
   "metadata": {},
   "outputs": [],
   "source": [
    "#top 50 lucrative movies from  tn_movie_budgets and bom_movie_gross   (find their ratings)\n",
    "# most (top50) popular movies from tmdb_movies\n",
    "# highest(top 50) ratings from imdb_title_ratings\n",
    "\n",
    "# select common movies from above list\n",
    "#find their genre, directors"
   ]
  },
  {
   "cell_type": "markdown",
   "metadata": {},
   "source": [
    "### Import libraries & database"
   ]
  },
  {
   "cell_type": "code",
   "execution_count": 2,
   "metadata": {
    "scrolled": false
   },
   "outputs": [
    {
     "name": "stdout",
     "output_type": "stream",
     "text": [
      "Requirement already satisfied: mysql-connector-python in c:\\users\\yazan\\anaconda3\\lib\\site-packages (8.0.20)\n",
      "Requirement already satisfied: protobuf>=3.0.0 in c:\\users\\yazan\\anaconda3\\lib\\site-packages (from mysql-connector-python) (3.12.2)\n",
      "Requirement already satisfied: six>=1.9 in c:\\users\\yazan\\anaconda3\\lib\\site-packages (from protobuf>=3.0.0->mysql-connector-python) (1.14.0)\n",
      "Requirement already satisfied: setuptools in c:\\users\\yazan\\anaconda3\\lib\\site-packages (from protobuf>=3.0.0->mysql-connector-python) (45.2.0.post20200210)\n"
     ]
    }
   ],
   "source": [
    "!pip install mysql-connector-python"
   ]
  },
  {
   "cell_type": "code",
   "execution_count": 3,
   "metadata": {},
   "outputs": [],
   "source": [
    "import pandas as pd\n",
    "import numpy as np\n",
    "import mysql.connector\n",
    "import datetime as dt\n",
    "import matplotlib.pyplot as plt\n",
    "import seaborn as sns\n",
    "%matplotlib inline"
   ]
  },
  {
   "cell_type": "code",
   "execution_count": 4,
   "metadata": {},
   "outputs": [],
   "source": [
    "con = mysql.connector.connect(user='hbs-student', password='super-secure-password?',\n",
    "                              host='hbs-ds-060120.c1doesqrid0e.us-east-1.rds.amazonaws.com',\n",
    "                              database='movies')\n",
    "cur = con.cursor()"
   ]
  },
  {
   "cell_type": "markdown",
   "metadata": {},
   "source": [
    "# Data Cleaning"
   ]
  },
  {
   "cell_type": "markdown",
   "metadata": {},
   "source": [
    "### IMDB Titles"
   ]
  },
  {
   "cell_type": "code",
   "execution_count": 5,
   "metadata": {},
   "outputs": [],
   "source": [
    "query = ('''\n",
    "SELECT *\n",
    "FROM imdb_title_basics imdb_b\n",
    "JOIN imdb_title_crew imdb_c USING (tconst)\n",
    "JOIN imdb_title_ratings imdb_e USING (tconst)\n",
    "''')\n",
    "imdb_titles = pd.read_sql_query(query, con)\n",
    "#joining all IMDB title tables using title ids and name ids"
   ]
  },
  {
   "cell_type": "code",
   "execution_count": 6,
   "metadata": {
    "scrolled": true
   },
   "outputs": [
    {
     "data": {
      "text/plain": [
       "tconst                 0\n",
       "primary_title          0\n",
       "original_title         0\n",
       "start_year             0\n",
       "runtime_minutes     7620\n",
       "genres                 0\n",
       "directors              0\n",
       "writers            10561\n",
       "averagerating          0\n",
       "numvotes               0\n",
       "dtype: int64"
      ]
     },
     "execution_count": 6,
     "metadata": {},
     "output_type": "execute_result"
    }
   ],
   "source": [
    "imdb_titles.isna().sum()\n",
    "#checking for null values"
   ]
  },
  {
   "cell_type": "code",
   "execution_count": 7,
   "metadata": {},
   "outputs": [],
   "source": [
    "imdb_titles = imdb_titles.dropna(subset=['runtime_minutes'])\n",
    "imdb_titles = imdb_titles.dropna(subset=['writers'])\n",
    "#Removing rows with null values for runtime minutes and writers"
   ]
  },
  {
   "cell_type": "code",
   "execution_count": 8,
   "metadata": {},
   "outputs": [],
   "source": [
    "pd.set_option('display.max_columns',None)\n",
    "# Want to see all columns to see which are going to be useful"
   ]
  },
  {
   "cell_type": "code",
   "execution_count": 9,
   "metadata": {},
   "outputs": [],
   "source": [
    "imdb_titles['genres'] = imdb_titles['genres'].map(lambda x: x.split(','))\n",
    "imdb_titles['directors'] = imdb_titles['directors'].map(lambda x: x.split(','))\n",
    "imdb_titles['writers'] = imdb_titles['writers'].map(lambda x: x.split(','))\n",
    "# Converting genres, directors, writers to lists, so we can easily check most popular later."
   ]
  },
  {
   "cell_type": "code",
   "execution_count": 10,
   "metadata": {},
   "outputs": [],
   "source": [
    "imdb_titles['age_of_movie']= 2020 - imdb_titles['start_year']\n",
    "#Creating new column to have \"age of movie\" as a reference"
   ]
  },
  {
   "cell_type": "code",
   "execution_count": 11,
   "metadata": {},
   "outputs": [
    {
     "data": {
      "text/html": [
       "<div>\n",
       "<style scoped>\n",
       "    .dataframe tbody tr th:only-of-type {\n",
       "        vertical-align: middle;\n",
       "    }\n",
       "\n",
       "    .dataframe tbody tr th {\n",
       "        vertical-align: top;\n",
       "    }\n",
       "\n",
       "    .dataframe thead th {\n",
       "        text-align: right;\n",
       "    }\n",
       "</style>\n",
       "<table border=\"1\" class=\"dataframe\">\n",
       "  <thead>\n",
       "    <tr style=\"text-align: right;\">\n",
       "      <th></th>\n",
       "      <th>tconst</th>\n",
       "      <th>primary_title</th>\n",
       "      <th>original_title</th>\n",
       "      <th>start_year</th>\n",
       "      <th>runtime_minutes</th>\n",
       "      <th>genres</th>\n",
       "      <th>directors</th>\n",
       "      <th>writers</th>\n",
       "      <th>averagerating</th>\n",
       "      <th>numvotes</th>\n",
       "      <th>age_of_movie</th>\n",
       "    </tr>\n",
       "  </thead>\n",
       "  <tbody>\n",
       "    <tr>\n",
       "      <th>0</th>\n",
       "      <td>tt0063540</td>\n",
       "      <td>Sunghursh</td>\n",
       "      <td>Sunghursh</td>\n",
       "      <td>2013</td>\n",
       "      <td>175.0</td>\n",
       "      <td>[Action, Crime, Drama]</td>\n",
       "      <td>[nm0712540]</td>\n",
       "      <td>[nm0023551, nm1194313, nm0347899, nm1391276]</td>\n",
       "      <td>7.0</td>\n",
       "      <td>77</td>\n",
       "      <td>7</td>\n",
       "    </tr>\n",
       "    <tr>\n",
       "      <th>2</th>\n",
       "      <td>tt0069049</td>\n",
       "      <td>The Other Side of the Wind</td>\n",
       "      <td>The Other Side of the Wind</td>\n",
       "      <td>2018</td>\n",
       "      <td>122.0</td>\n",
       "      <td>[Drama]</td>\n",
       "      <td>[nm0000080]</td>\n",
       "      <td>[nm0000080, nm0462648]</td>\n",
       "      <td>6.9</td>\n",
       "      <td>4517</td>\n",
       "      <td>2</td>\n",
       "    </tr>\n",
       "    <tr>\n",
       "      <th>4</th>\n",
       "      <td>tt0100275</td>\n",
       "      <td>The Wandering Soap Opera</td>\n",
       "      <td>La Telenovela Errante</td>\n",
       "      <td>2017</td>\n",
       "      <td>80.0</td>\n",
       "      <td>[Comedy, Drama, Fantasy]</td>\n",
       "      <td>[nm0765384, nm0749914]</td>\n",
       "      <td>[nm1360635, nm0749914]</td>\n",
       "      <td>6.5</td>\n",
       "      <td>119</td>\n",
       "      <td>3</td>\n",
       "    </tr>\n",
       "    <tr>\n",
       "      <th>6</th>\n",
       "      <td>tt0137204</td>\n",
       "      <td>Joe Finds Grace</td>\n",
       "      <td>Joe Finds Grace</td>\n",
       "      <td>2017</td>\n",
       "      <td>83.0</td>\n",
       "      <td>[Adventure, Animation, Comedy]</td>\n",
       "      <td>[nm0365480]</td>\n",
       "      <td>[nm0365480]</td>\n",
       "      <td>8.1</td>\n",
       "      <td>263</td>\n",
       "      <td>3</td>\n",
       "    </tr>\n",
       "    <tr>\n",
       "      <th>7</th>\n",
       "      <td>tt0146592</td>\n",
       "      <td>Pál Adrienn</td>\n",
       "      <td>Pál Adrienn</td>\n",
       "      <td>2010</td>\n",
       "      <td>136.0</td>\n",
       "      <td>[Drama]</td>\n",
       "      <td>[nm1030585]</td>\n",
       "      <td>[nm1030585, nm1921430]</td>\n",
       "      <td>6.8</td>\n",
       "      <td>451</td>\n",
       "      <td>10</td>\n",
       "    </tr>\n",
       "  </tbody>\n",
       "</table>\n",
       "</div>"
      ],
      "text/plain": [
       "      tconst               primary_title              original_title  \\\n",
       "0  tt0063540                   Sunghursh                   Sunghursh   \n",
       "2  tt0069049  The Other Side of the Wind  The Other Side of the Wind   \n",
       "4  tt0100275    The Wandering Soap Opera       La Telenovela Errante   \n",
       "6  tt0137204             Joe Finds Grace             Joe Finds Grace   \n",
       "7  tt0146592                 Pál Adrienn                 Pál Adrienn   \n",
       "\n",
       "   start_year  runtime_minutes                          genres  \\\n",
       "0        2013            175.0          [Action, Crime, Drama]   \n",
       "2        2018            122.0                         [Drama]   \n",
       "4        2017             80.0        [Comedy, Drama, Fantasy]   \n",
       "6        2017             83.0  [Adventure, Animation, Comedy]   \n",
       "7        2010            136.0                         [Drama]   \n",
       "\n",
       "                directors                                       writers  \\\n",
       "0             [nm0712540]  [nm0023551, nm1194313, nm0347899, nm1391276]   \n",
       "2             [nm0000080]                        [nm0000080, nm0462648]   \n",
       "4  [nm0765384, nm0749914]                        [nm1360635, nm0749914]   \n",
       "6             [nm0365480]                                   [nm0365480]   \n",
       "7             [nm1030585]                        [nm1030585, nm1921430]   \n",
       "\n",
       "   averagerating  numvotes  age_of_movie  \n",
       "0            7.0        77             7  \n",
       "2            6.9      4517             2  \n",
       "4            6.5       119             3  \n",
       "6            8.1       263             3  \n",
       "7            6.8       451            10  "
      ]
     },
     "execution_count": 11,
     "metadata": {},
     "output_type": "execute_result"
    }
   ],
   "source": [
    "imdb_titles.head()"
   ]
  },
  {
   "cell_type": "markdown",
   "metadata": {},
   "source": [
    "### IMDB Crew"
   ]
  },
  {
   "cell_type": "code",
   "execution_count": 12,
   "metadata": {},
   "outputs": [],
   "source": [
    "query = ('''\n",
    "SELECT *\n",
    "FROM imdb_name_basics\n",
    "''')\n",
    "imdb_crew = pd.read_sql_query(query, con)"
   ]
  },
  {
   "cell_type": "code",
   "execution_count": 13,
   "metadata": {
    "scrolled": true
   },
   "outputs": [
    {
     "data": {
      "text/plain": [
       "nconst                     0\n",
       "primary_name               0\n",
       "birth_year            523912\n",
       "death_year            599865\n",
       "primary_profession         0\n",
       "known_for_titles           0\n",
       "dtype: int64"
      ]
     },
     "execution_count": 13,
     "metadata": {},
     "output_type": "execute_result"
    }
   ],
   "source": [
    "imdb_crew.isna().sum()\n",
    "# Checking for null values"
   ]
  },
  {
   "cell_type": "code",
   "execution_count": 14,
   "metadata": {
    "scrolled": true
   },
   "outputs": [],
   "source": [
    "imdb_crew = imdb_crew.fillna(0)\n",
    "#Replacing null values with 0"
   ]
  },
  {
   "cell_type": "code",
   "execution_count": 15,
   "metadata": {},
   "outputs": [],
   "source": [
    "imdb_crew['birth_year'] = imdb_crew['birth_year'].map(lambda x: int(x))\n",
    "imdb_crew['death_year'] = imdb_crew['death_year'].map(lambda x: int(x))\n",
    "#Converting birth years and death years to integer"
   ]
  },
  {
   "cell_type": "code",
   "execution_count": 16,
   "metadata": {},
   "outputs": [
    {
     "name": "stdout",
     "output_type": "stream",
     "text": [
      "<class 'pandas.core.frame.DataFrame'>\n",
      "RangeIndex: 606648 entries, 0 to 606647\n",
      "Data columns (total 6 columns):\n",
      " #   Column              Non-Null Count   Dtype \n",
      "---  ------              --------------   ----- \n",
      " 0   nconst              606648 non-null  object\n",
      " 1   primary_name        606648 non-null  object\n",
      " 2   birth_year          606648 non-null  int64 \n",
      " 3   death_year          606648 non-null  int64 \n",
      " 4   primary_profession  606648 non-null  object\n",
      " 5   known_for_titles    606648 non-null  object\n",
      "dtypes: int64(2), object(4)\n",
      "memory usage: 27.8+ MB\n"
     ]
    }
   ],
   "source": [
    "imdb_crew.info()"
   ]
  },
  {
   "cell_type": "code",
   "execution_count": 17,
   "metadata": {},
   "outputs": [],
   "source": [
    "imdb_crew['primary_profession'] = imdb_crew['primary_profession'].map(lambda x: x.split(','))\n",
    "imdb_crew['known_for_titles'] = imdb_crew['known_for_titles'].map(lambda x: x.split(','))\n",
    "#Converting these to lists so we can easily reference them later"
   ]
  },
  {
   "cell_type": "code",
   "execution_count": 18,
   "metadata": {
    "scrolled": false
   },
   "outputs": [
    {
     "data": {
      "text/html": [
       "<div>\n",
       "<style scoped>\n",
       "    .dataframe tbody tr th:only-of-type {\n",
       "        vertical-align: middle;\n",
       "    }\n",
       "\n",
       "    .dataframe tbody tr th {\n",
       "        vertical-align: top;\n",
       "    }\n",
       "\n",
       "    .dataframe thead th {\n",
       "        text-align: right;\n",
       "    }\n",
       "</style>\n",
       "<table border=\"1\" class=\"dataframe\">\n",
       "  <thead>\n",
       "    <tr style=\"text-align: right;\">\n",
       "      <th></th>\n",
       "      <th>nconst</th>\n",
       "      <th>primary_name</th>\n",
       "      <th>birth_year</th>\n",
       "      <th>death_year</th>\n",
       "      <th>primary_profession</th>\n",
       "      <th>known_for_titles</th>\n",
       "    </tr>\n",
       "  </thead>\n",
       "  <tbody>\n",
       "    <tr>\n",
       "      <th>0</th>\n",
       "      <td>nm0000002</td>\n",
       "      <td>Lauren Bacall</td>\n",
       "      <td>1924</td>\n",
       "      <td>2014</td>\n",
       "      <td>[actress, soundtrack]</td>\n",
       "      <td>[tt0038355, tt0117057, tt0071877, tt0037382]</td>\n",
       "    </tr>\n",
       "    <tr>\n",
       "      <th>1</th>\n",
       "      <td>nm0000003</td>\n",
       "      <td>Brigitte Bardot</td>\n",
       "      <td>1934</td>\n",
       "      <td>0</td>\n",
       "      <td>[actress, soundtrack, producer]</td>\n",
       "      <td>[tt0049189, tt0057345, tt0054452, tt0059956]</td>\n",
       "    </tr>\n",
       "    <tr>\n",
       "      <th>2</th>\n",
       "      <td>nm0000005</td>\n",
       "      <td>Ingmar Bergman</td>\n",
       "      <td>1918</td>\n",
       "      <td>2007</td>\n",
       "      <td>[writer, director, actor]</td>\n",
       "      <td>[tt0069467, tt0050986, tt0083922, tt0050976]</td>\n",
       "    </tr>\n",
       "    <tr>\n",
       "      <th>3</th>\n",
       "      <td>nm0000006</td>\n",
       "      <td>Ingrid Bergman</td>\n",
       "      <td>1915</td>\n",
       "      <td>1982</td>\n",
       "      <td>[actress, soundtrack, producer]</td>\n",
       "      <td>[tt0071877, tt0036855, tt0038109, tt0038787]</td>\n",
       "    </tr>\n",
       "    <tr>\n",
       "      <th>4</th>\n",
       "      <td>nm0000007</td>\n",
       "      <td>Humphrey Bogart</td>\n",
       "      <td>1899</td>\n",
       "      <td>1957</td>\n",
       "      <td>[actor, soundtrack, producer]</td>\n",
       "      <td>[tt0034583, tt0033870, tt0037382, tt0043265]</td>\n",
       "    </tr>\n",
       "  </tbody>\n",
       "</table>\n",
       "</div>"
      ],
      "text/plain": [
       "      nconst     primary_name  birth_year  death_year  \\\n",
       "0  nm0000002    Lauren Bacall        1924        2014   \n",
       "1  nm0000003  Brigitte Bardot        1934           0   \n",
       "2  nm0000005   Ingmar Bergman        1918        2007   \n",
       "3  nm0000006   Ingrid Bergman        1915        1982   \n",
       "4  nm0000007  Humphrey Bogart        1899        1957   \n",
       "\n",
       "                primary_profession  \\\n",
       "0            [actress, soundtrack]   \n",
       "1  [actress, soundtrack, producer]   \n",
       "2        [writer, director, actor]   \n",
       "3  [actress, soundtrack, producer]   \n",
       "4    [actor, soundtrack, producer]   \n",
       "\n",
       "                               known_for_titles  \n",
       "0  [tt0038355, tt0117057, tt0071877, tt0037382]  \n",
       "1  [tt0049189, tt0057345, tt0054452, tt0059956]  \n",
       "2  [tt0069467, tt0050986, tt0083922, tt0050976]  \n",
       "3  [tt0071877, tt0036855, tt0038109, tt0038787]  \n",
       "4  [tt0034583, tt0033870, tt0037382, tt0043265]  "
      ]
     },
     "execution_count": 18,
     "metadata": {},
     "output_type": "execute_result"
    }
   ],
   "source": [
    "imdb_crew.head()"
   ]
  },
  {
   "cell_type": "code",
   "execution_count": 19,
   "metadata": {},
   "outputs": [],
   "source": [
    "imdb_crew['age'] = imdb_crew.apply(lambda row: (2020 - row['birth_year']) if row['death_year'] == 0 else None, axis=1)\n",
    "#Adding an age column. If the age is 2020, it means that there is no birth year available. If the age is equal to None, it means the person is dead."
   ]
  },
  {
   "cell_type": "markdown",
   "metadata": {},
   "source": [
    "### BOM"
   ]
  },
  {
   "cell_type": "code",
   "execution_count": 20,
   "metadata": {},
   "outputs": [],
   "source": [
    "query = ('''\n",
    "SELECT * FROM bom_movie_gross\n",
    "''')\n",
    "bom = pd.read_sql_query(query, con)"
   ]
  },
  {
   "cell_type": "code",
   "execution_count": 21,
   "metadata": {},
   "outputs": [],
   "source": [
    "#drop Null value in domestic_gross\n",
    "bom = bom.dropna(subset =['domestic_gross'])\n",
    "\n",
    "#convert Null value in foreign_gross to 0\n",
    "bom.foreign_gross = bom.foreign_gross.fillna(0)\n",
    "\n",
    "#convert domestic_gross and foreign_gross from float to int\n",
    "bom.domestic_gross = bom.domestic_gross.map(lambda x: int(x))   \n",
    "bom.foreign_gross = bom.foreign_gross.map(lambda x: int(x))  "
   ]
  },
  {
   "cell_type": "code",
   "execution_count": 22,
   "metadata": {},
   "outputs": [],
   "source": [
    "#remove spaces on both end of strings\n",
    "bom.title = bom.title.map(lambda x: x.strip())\n",
    "bom.studio = bom.studio.map(lambda x: x.strip())"
   ]
  },
  {
   "cell_type": "markdown",
   "metadata": {},
   "source": [
    "### TN"
   ]
  },
  {
   "cell_type": "code",
   "execution_count": 23,
   "metadata": {},
   "outputs": [],
   "source": [
    "query_tn = ('''\n",
    "SELECT * FROM tn_movie_budgets\n",
    "''')\n",
    "tn = pd.read_sql_query(query_tn, con)"
   ]
  },
  {
   "cell_type": "code",
   "execution_count": 24,
   "metadata": {},
   "outputs": [],
   "source": [
    "# convert release_date to date format\n",
    "tn.release_date = tn.release_date.map(lambda x: dt.datetime.strptime(x, '%b %d, %Y'))\n",
    "\n",
    "# convert production_budget, domestic_gross, worldwide_gross to date format\n",
    "tn.production_budget = tn.production_budget.map(lambda x: int(x.replace(',','').replace('$','')))\n",
    "tn.domestic_gross = tn.domestic_gross.map(lambda x: int(x.replace(',','').replace('$','')))\n",
    "tn.worldwide_gross = tn.worldwide_gross.map(lambda x: int(x.replace(',','').replace('$','')))\n",
    "\n",
    "#add profit column\n",
    "tn['profit'] = tn.worldwide_gross - tn.production_budget"
   ]
  },
  {
   "cell_type": "code",
   "execution_count": 25,
   "metadata": {},
   "outputs": [],
   "source": [
    "#remove spaces on both end of strings\n",
    "tn.movie = tn.movie.map(lambda x: x.strip())"
   ]
  },
  {
   "cell_type": "markdown",
   "metadata": {},
   "source": [
    "### TMDB"
   ]
  },
  {
   "cell_type": "code",
   "execution_count": 26,
   "metadata": {},
   "outputs": [],
   "source": [
    "query_tmdb = ('''\n",
    "SELECT * FROM tmdb_movies\n",
    "''')\n",
    "tmdb = pd.read_sql_query(query_tmdb, con)"
   ]
  },
  {
   "cell_type": "code",
   "execution_count": 27,
   "metadata": {},
   "outputs": [],
   "source": [
    "query_tmdb_link = ('''\n",
    "SELECT * FROM tmdb_imdb_link\n",
    "''')\n",
    "tmdb_link = pd.read_sql_query(query_tmdb_link, con)"
   ]
  },
  {
   "cell_type": "code",
   "execution_count": 28,
   "metadata": {},
   "outputs": [],
   "source": [
    "#convert genre_ids to int\n",
    "tmdb.genre_ids.map(lambda x: int(x))\n",
    "\n",
    "#remove spaces on both end of strings\n",
    "tmdb.original_language = tmdb.original_language.map(lambda x: x.strip())\n",
    "tmdb.original_title = tmdb.original_title.map(lambda x: x.strip())\n",
    "tmdb.title = tmdb.title.map(lambda x: x.strip())"
   ]
  },
  {
   "cell_type": "code",
   "execution_count": 29,
   "metadata": {},
   "outputs": [],
   "source": [
    "#Join tmdb and tmdb_link tables\n",
    "tmdb = tmdb.join(tmdb_link.set_index('tmdb_id'), on = 'id', how = 'left')"
   ]
  },
  {
   "cell_type": "code",
   "execution_count": 30,
   "metadata": {},
   "outputs": [],
   "source": [
    "#clean the joined table\n",
    "tmdb.imdb_id = tmdb.imdb_id.fillna(0).map(lambda x: int(x))"
   ]
  },
  {
   "cell_type": "markdown",
   "metadata": {},
   "source": [
    "### RT"
   ]
  },
  {
   "cell_type": "code",
   "execution_count": 31,
   "metadata": {},
   "outputs": [],
   "source": [
    "query_rt_info = ('''\n",
    "SELECT * FROM rt_movie_info\n",
    "''')\n",
    "rt_info = pd.read_sql_query(query_rt_info, con)"
   ]
  },
  {
   "cell_type": "code",
   "execution_count": 32,
   "metadata": {},
   "outputs": [],
   "source": [
    "query_rt_reviews = ('''\n",
    "SELECT * FROM rt_reviews\n",
    "''')\n",
    "rt_reviews = pd.read_sql_query(query_rt_reviews, con)"
   ]
  },
  {
   "cell_type": "code",
   "execution_count": 33,
   "metadata": {},
   "outputs": [],
   "source": [
    "query_rt_link = ('''\n",
    "SELECT * FROM rt_imdb_link\n",
    "''')\n",
    "rt_link = pd.read_sql_query(query_rt_link, con)"
   ]
  },
  {
   "cell_type": "markdown",
   "metadata": {},
   "source": [
    "### RT_Info Cleaning"
   ]
  },
  {
   "cell_type": "code",
   "execution_count": 34,
   "metadata": {},
   "outputs": [
    {
     "name": "stderr",
     "output_type": "stream",
     "text": [
      "C:\\Users\\yazan\\anaconda3\\lib\\site-packages\\pandas\\core\\indexing.py:670: SettingWithCopyWarning: \n",
      "A value is trying to be set on a copy of a slice from a DataFrame\n",
      "\n",
      "See the caveats in the documentation: https://pandas.pydata.org/pandas-docs/stable/user_guide/indexing.html#returning-a-view-versus-a-copy\n",
      "  self._setitem_with_indexer(indexer, value)\n"
     ]
    }
   ],
   "source": [
    "#replace empty value in theater_date and dvd_date with Jan 1,1000\n",
    "rt_info['theater_date'].loc[rt_info.theater_date == ''] = 'Jan 1, 1000'\n",
    "rt_info['dvd_date'].loc[rt_info.dvd_date == ''] = 'Jan 1, 1000'"
   ]
  },
  {
   "cell_type": "code",
   "execution_count": 35,
   "metadata": {},
   "outputs": [],
   "source": [
    "#convert theater_date and dvd_date to datetime format\n",
    "rt_info.theater_date = rt_info.theater_date.map(lambda x: dt.datetime.strptime(x, '%b %d, %Y').date())\n",
    "rt_info.dvd_date = rt_info.dvd_date.map(lambda x: dt.datetime.strptime(x, '%b %d, %Y').date())"
   ]
  },
  {
   "cell_type": "code",
   "execution_count": 36,
   "metadata": {},
   "outputs": [],
   "source": [
    "#clean box_office date\n",
    "rt_info['box_office'].loc[rt_info.box_office == ''] = '0'\n",
    "rt_info['box_office'] = rt_info.box_office.map(lambda x: int(x.replace(',', '')))"
   ]
  },
  {
   "cell_type": "code",
   "execution_count": 37,
   "metadata": {},
   "outputs": [],
   "source": [
    "#clean runtime (replace empty value with 0)\n",
    "rt_info['runtime'].loc[rt_info.runtime == ''] = '0'\n",
    "rt_info['runtime'] = rt_info.runtime.map(lambda x: int(x.replace('minutes', '')))"
   ]
  },
  {
   "cell_type": "code",
   "execution_count": 38,
   "metadata": {},
   "outputs": [],
   "source": [
    "#remove spaces on both end of strings\n",
    "rt_info.synopsis = rt_info.synopsis.map(lambda x: x.strip())\n",
    "rt_info.rating = rt_info.rating.map(lambda x: x.strip())\n",
    "rt_info.genre = rt_info.genre.map(lambda x: x.strip())\n",
    "rt_info.director = rt_info.director.map(lambda x: x.strip())\n",
    "rt_info.writer = rt_info.writer.map(lambda x: x.strip())"
   ]
  },
  {
   "cell_type": "code",
   "execution_count": 39,
   "metadata": {},
   "outputs": [],
   "source": [
    "rt_info['genre'] = rt_info['genre'].map(lambda x: x.split('|'))\n",
    "rt_info['writer'] = rt_info['writer'].map(lambda x: x.split('|'))\n",
    "rt_info['director'] = rt_info['director'].map(lambda x: x.split('|'))\n",
    "#Converting genre, writer, director to list so we can reference them easily"
   ]
  },
  {
   "cell_type": "code",
   "execution_count": 40,
   "metadata": {},
   "outputs": [],
   "source": [
    "rt_info = rt_info.drop(columns=['box_office','currency'],axis=1)\n",
    "#Dropping box_office because we have better data on another table, dropping currency because we removed box office data"
   ]
  },
  {
   "cell_type": "markdown",
   "metadata": {},
   "source": [
    "### RT_Reviews Cleaning"
   ]
  },
  {
   "cell_type": "code",
   "execution_count": 41,
   "metadata": {},
   "outputs": [],
   "source": [
    "#convert date to datetime format\n",
    "rt_reviews.date = rt_reviews.date.map(lambda x: dt.datetime.strptime(x, '%B %d, %Y').date())"
   ]
  },
  {
   "cell_type": "code",
   "execution_count": 42,
   "metadata": {},
   "outputs": [],
   "source": [
    "#convert top_critic to int\n",
    "rt_reviews.top_critic = rt_reviews.top_critic.map(lambda x: int(x))"
   ]
  },
  {
   "cell_type": "code",
   "execution_count": 43,
   "metadata": {},
   "outputs": [],
   "source": [
    "#remove spaces on both end of strings\n",
    "rt_reviews.review = rt_reviews.review.map(lambda x: x.strip())\n",
    "rt_reviews.rating = rt_reviews.rating.map(lambda x: x.strip())\n",
    "rt_reviews.fresh = rt_reviews.fresh.map(lambda x: x.strip())\n",
    "rt_reviews.critic = rt_reviews.critic.map(lambda x: x.strip())\n",
    "rt_reviews.publisher = rt_reviews.publisher.map(lambda x: x.strip())"
   ]
  },
  {
   "cell_type": "markdown",
   "metadata": {},
   "source": [
    "### RT_link cleaning"
   ]
  },
  {
   "cell_type": "code",
   "execution_count": 44,
   "metadata": {},
   "outputs": [],
   "source": [
    "rt_link.year = rt_link.year.fillna(1000)"
   ]
  },
  {
   "cell_type": "code",
   "execution_count": 45,
   "metadata": {},
   "outputs": [
    {
     "name": "stdout",
     "output_type": "stream",
     "text": [
      "<class 'pandas.core.frame.DataFrame'>\n",
      "RangeIndex: 17468 entries, 0 to 17467\n",
      "Data columns (total 6 columns):\n",
      " #   Column       Non-Null Count  Dtype  \n",
      "---  ------       --------------  -----  \n",
      " 0   imdbid       17468 non-null  int64  \n",
      " 1   rtid         17468 non-null  int64  \n",
      " 2   title        17468 non-null  object \n",
      " 3   year         17468 non-null  float64\n",
      " 4   mpaa_rating  17468 non-null  object \n",
      " 5   runtime      17468 non-null  object \n",
      "dtypes: float64(1), int64(2), object(3)\n",
      "memory usage: 818.9+ KB\n"
     ]
    }
   ],
   "source": [
    "rt_link.info()"
   ]
  },
  {
   "cell_type": "code",
   "execution_count": 46,
   "metadata": {},
   "outputs": [],
   "source": [
    "#replace empty space to year 1000 in year\n",
    "rt_link.year = rt_link.year.fillna(1000)\n",
    "\n",
    "#convert date to datetime format\n",
    "rt_link.year = rt_link.year.map(lambda x: (int(x)))"
   ]
  },
  {
   "cell_type": "code",
   "execution_count": 47,
   "metadata": {},
   "outputs": [],
   "source": [
    "#replace empty space in runtime to 0\n",
    "rt_link['runtime'].loc[rt_link.runtime == ''] = '0'\n",
    "\n",
    "#convert runtime to int format\n",
    "rt_link.runtime = rt_link.runtime.map(lambda x: (int(x)))"
   ]
  },
  {
   "cell_type": "markdown",
   "metadata": {},
   "source": [
    "# Top 200 Profitable Movies after 2000"
   ]
  },
  {
   "cell_type": "markdown",
   "metadata": {},
   "source": [
    "### BOM Database"
   ]
  },
  {
   "cell_type": "code",
   "execution_count": 48,
   "metadata": {},
   "outputs": [],
   "source": [
    "# get top 200 lucrative domestic movies\n",
    "bom_top200_domestic = bom.sort_values('domestic_gross', ascending = False).head(200)   "
   ]
  },
  {
   "cell_type": "markdown",
   "metadata": {},
   "source": [
    "### TN Database"
   ]
  },
  {
   "cell_type": "code",
   "execution_count": 49,
   "metadata": {},
   "outputs": [],
   "source": [
    "# get top 200 revenue domestic movies\n",
    "tn_top200_domestic = tn.sort_values('domestic_gross',ascending=False).head(200)\n",
    "\n",
    "# get top 200 revenue worldwide movies\n",
    "tn_top200_world = tn.sort_values('worldwide_gross',ascending=False).head(200)\n",
    "\n",
    "# get top 200 profit movies\n",
    "tn_top200_profit = tn.sort_values('profit',ascending=False).head(200)"
   ]
  },
  {
   "cell_type": "markdown",
   "metadata": {},
   "source": [
    "# Top 200 Highest Rated Movies after 2000"
   ]
  },
  {
   "cell_type": "code",
   "execution_count": 50,
   "metadata": {},
   "outputs": [],
   "source": [
    "#Because the ratings on the RT table are inconsistent (Some show A+, some 4/5, some 7.5/10, etc), I will use the IMDB and TMDB ratings"
   ]
  },
  {
   "cell_type": "code",
   "execution_count": 51,
   "metadata": {},
   "outputs": [],
   "source": [
    "#To get tmdb['imdb_id'] to line up with the imdb table, I want to remove the \"tt\" at the beginning of the values in the imdb_titles['tconst'] column.\n",
    "imdb_titles['tconst'] = imdb_titles['tconst'].str[2:]\n",
    "#Similarly, I want to make sure that tmdb['imdb_id'] has 7 digits, using 0 as a filler, so that they match\n",
    "tmdb['imdb_id'] = tmdb['imdb_id'].astype(str).str.rjust(7,'0')"
   ]
  },
  {
   "cell_type": "code",
   "execution_count": 52,
   "metadata": {
    "scrolled": true
   },
   "outputs": [],
   "source": [
    "rating = imdb_titles.merge(tmdb,left_on='tconst',right_on='imdb_id')"
   ]
  },
  {
   "cell_type": "code",
   "execution_count": 55,
   "metadata": {},
   "outputs": [],
   "source": [
    "#Dropping some less relevant columns\n",
    "rating = rating.drop(columns=['original_title_x','original_title_y','id','genre_ids'])"
   ]
  },
  {
   "cell_type": "code",
   "execution_count": 56,
   "metadata": {
    "scrolled": true
   },
   "outputs": [
    {
     "data": {
      "text/html": [
       "<div>\n",
       "<style scoped>\n",
       "    .dataframe tbody tr th:only-of-type {\n",
       "        vertical-align: middle;\n",
       "    }\n",
       "\n",
       "    .dataframe tbody tr th {\n",
       "        vertical-align: top;\n",
       "    }\n",
       "\n",
       "    .dataframe thead th {\n",
       "        text-align: right;\n",
       "    }\n",
       "</style>\n",
       "<table border=\"1\" class=\"dataframe\">\n",
       "  <thead>\n",
       "    <tr style=\"text-align: right;\">\n",
       "      <th></th>\n",
       "      <th>tconst</th>\n",
       "      <th>primary_title</th>\n",
       "      <th>start_year</th>\n",
       "      <th>runtime_minutes</th>\n",
       "      <th>genres</th>\n",
       "      <th>directors</th>\n",
       "      <th>writers</th>\n",
       "      <th>averagerating</th>\n",
       "      <th>numvotes</th>\n",
       "      <th>age_of_movie</th>\n",
       "      <th>original_language</th>\n",
       "      <th>popularity</th>\n",
       "      <th>release_date</th>\n",
       "      <th>title</th>\n",
       "      <th>vote_average</th>\n",
       "      <th>vote_count</th>\n",
       "      <th>imdb_id</th>\n",
       "    </tr>\n",
       "  </thead>\n",
       "  <tbody>\n",
       "    <tr>\n",
       "      <th>0</th>\n",
       "      <td>0069049</td>\n",
       "      <td>The Other Side of the Wind</td>\n",
       "      <td>2018</td>\n",
       "      <td>122.0</td>\n",
       "      <td>[Drama]</td>\n",
       "      <td>[nm0000080]</td>\n",
       "      <td>[nm0000080, nm0462648]</td>\n",
       "      <td>6.9</td>\n",
       "      <td>4517</td>\n",
       "      <td>2</td>\n",
       "      <td>en</td>\n",
       "      <td>9.800</td>\n",
       "      <td>2018-11-02</td>\n",
       "      <td>The Other Side of the Wind</td>\n",
       "      <td>7.0</td>\n",
       "      <td>64</td>\n",
       "      <td>0069049</td>\n",
       "    </tr>\n",
       "    <tr>\n",
       "      <th>1</th>\n",
       "      <td>0249516</td>\n",
       "      <td>Foodfight!</td>\n",
       "      <td>2012</td>\n",
       "      <td>91.0</td>\n",
       "      <td>[Action, Animation, Comedy]</td>\n",
       "      <td>[nm0440415]</td>\n",
       "      <td>[nm0440415, nm0923312, nm0295165, nm0841854, n...</td>\n",
       "      <td>1.9</td>\n",
       "      <td>8248</td>\n",
       "      <td>8</td>\n",
       "      <td>en</td>\n",
       "      <td>4.705</td>\n",
       "      <td>2013-05-07</td>\n",
       "      <td>Foodfight!</td>\n",
       "      <td>2.1</td>\n",
       "      <td>46</td>\n",
       "      <td>0249516</td>\n",
       "    </tr>\n",
       "    <tr>\n",
       "      <th>2</th>\n",
       "      <td>0293069</td>\n",
       "      <td>Dark Blood</td>\n",
       "      <td>2012</td>\n",
       "      <td>86.0</td>\n",
       "      <td>[Thriller]</td>\n",
       "      <td>[nm0806293]</td>\n",
       "      <td>[nm0059172]</td>\n",
       "      <td>6.6</td>\n",
       "      <td>1053</td>\n",
       "      <td>8</td>\n",
       "      <td>en</td>\n",
       "      <td>1.721</td>\n",
       "      <td>2013-03-06</td>\n",
       "      <td>Dark Blood</td>\n",
       "      <td>6.1</td>\n",
       "      <td>7</td>\n",
       "      <td>0293069</td>\n",
       "    </tr>\n",
       "    <tr>\n",
       "      <th>3</th>\n",
       "      <td>0315642</td>\n",
       "      <td>Wazir</td>\n",
       "      <td>2016</td>\n",
       "      <td>103.0</td>\n",
       "      <td>[Action, Crime, Drama]</td>\n",
       "      <td>[nm2349060]</td>\n",
       "      <td>[nm7430071, nm1249226, nm0006765, nm0430785, n...</td>\n",
       "      <td>7.1</td>\n",
       "      <td>15378</td>\n",
       "      <td>4</td>\n",
       "      <td>hi</td>\n",
       "      <td>3.881</td>\n",
       "      <td>2016-01-08</td>\n",
       "      <td>Wazir</td>\n",
       "      <td>6.6</td>\n",
       "      <td>63</td>\n",
       "      <td>0315642</td>\n",
       "    </tr>\n",
       "    <tr>\n",
       "      <th>4</th>\n",
       "      <td>0323808</td>\n",
       "      <td>The Wicker Tree</td>\n",
       "      <td>2011</td>\n",
       "      <td>96.0</td>\n",
       "      <td>[Drama, Horror]</td>\n",
       "      <td>[nm0362736]</td>\n",
       "      <td>[nm0362736]</td>\n",
       "      <td>3.9</td>\n",
       "      <td>2328</td>\n",
       "      <td>9</td>\n",
       "      <td>en</td>\n",
       "      <td>2.962</td>\n",
       "      <td>2012-01-27</td>\n",
       "      <td>The Wicker Tree</td>\n",
       "      <td>4.4</td>\n",
       "      <td>25</td>\n",
       "      <td>0323808</td>\n",
       "    </tr>\n",
       "  </tbody>\n",
       "</table>\n",
       "</div>"
      ],
      "text/plain": [
       "    tconst               primary_title  start_year  runtime_minutes  \\\n",
       "0  0069049  The Other Side of the Wind        2018            122.0   \n",
       "1  0249516                  Foodfight!        2012             91.0   \n",
       "2  0293069                  Dark Blood        2012             86.0   \n",
       "3  0315642                       Wazir        2016            103.0   \n",
       "4  0323808             The Wicker Tree        2011             96.0   \n",
       "\n",
       "                        genres    directors  \\\n",
       "0                      [Drama]  [nm0000080]   \n",
       "1  [Action, Animation, Comedy]  [nm0440415]   \n",
       "2                   [Thriller]  [nm0806293]   \n",
       "3       [Action, Crime, Drama]  [nm2349060]   \n",
       "4              [Drama, Horror]  [nm0362736]   \n",
       "\n",
       "                                             writers  averagerating  numvotes  \\\n",
       "0                             [nm0000080, nm0462648]            6.9      4517   \n",
       "1  [nm0440415, nm0923312, nm0295165, nm0841854, n...            1.9      8248   \n",
       "2                                        [nm0059172]            6.6      1053   \n",
       "3  [nm7430071, nm1249226, nm0006765, nm0430785, n...            7.1     15378   \n",
       "4                                        [nm0362736]            3.9      2328   \n",
       "\n",
       "   age_of_movie original_language  popularity release_date  \\\n",
       "0             2                en       9.800   2018-11-02   \n",
       "1             8                en       4.705   2013-05-07   \n",
       "2             8                en       1.721   2013-03-06   \n",
       "3             4                hi       3.881   2016-01-08   \n",
       "4             9                en       2.962   2012-01-27   \n",
       "\n",
       "                        title  vote_average  vote_count  imdb_id  \n",
       "0  The Other Side of the Wind           7.0          64  0069049  \n",
       "1                  Foodfight!           2.1          46  0249516  \n",
       "2                  Dark Blood           6.1           7  0293069  \n",
       "3                       Wazir           6.6          63  0315642  \n",
       "4             The Wicker Tree           4.4          25  0323808  "
      ]
     },
     "execution_count": 56,
     "metadata": {},
     "output_type": "execute_result"
    }
   ],
   "source": [
    "rating.head()"
   ]
  },
  {
   "cell_type": "code",
   "execution_count": 58,
   "metadata": {},
   "outputs": [],
   "source": [
    "rating['aggregate_score'] = round(rating.apply(lambda row: (row['averagerating'] * row['numvotes']) + (row['vote_average'] * row['vote_count']) * row['popularity'],axis=1),2)\n",
    "#Creating an aggregate score: (IMDB Rating * IMDB number of votes) + (TMDB average rating * TMDB numvotes) * Popularity"
   ]
  },
  {
   "cell_type": "code",
   "execution_count": 59,
   "metadata": {},
   "outputs": [],
   "source": [
    "top_200_rating = rating.sort_values(by=['aggregate_score'],ascending=False).head(200)"
   ]
  },
  {
   "cell_type": "code",
   "execution_count": 60,
   "metadata": {},
   "outputs": [
    {
     "data": {
      "text/html": [
       "<div>\n",
       "<style scoped>\n",
       "    .dataframe tbody tr th:only-of-type {\n",
       "        vertical-align: middle;\n",
       "    }\n",
       "\n",
       "    .dataframe tbody tr th {\n",
       "        vertical-align: top;\n",
       "    }\n",
       "\n",
       "    .dataframe thead th {\n",
       "        text-align: right;\n",
       "    }\n",
       "</style>\n",
       "<table border=\"1\" class=\"dataframe\">\n",
       "  <thead>\n",
       "    <tr style=\"text-align: right;\">\n",
       "      <th></th>\n",
       "      <th>tconst</th>\n",
       "      <th>primary_title</th>\n",
       "      <th>start_year</th>\n",
       "      <th>runtime_minutes</th>\n",
       "      <th>genres</th>\n",
       "      <th>directors</th>\n",
       "      <th>writers</th>\n",
       "      <th>averagerating</th>\n",
       "      <th>numvotes</th>\n",
       "      <th>age_of_movie</th>\n",
       "      <th>original_language</th>\n",
       "      <th>popularity</th>\n",
       "      <th>release_date</th>\n",
       "      <th>title</th>\n",
       "      <th>vote_average</th>\n",
       "      <th>vote_count</th>\n",
       "      <th>imdb_id</th>\n",
       "      <th>aggregate_score</th>\n",
       "    </tr>\n",
       "  </thead>\n",
       "  <tbody>\n",
       "    <tr>\n",
       "      <th>849</th>\n",
       "      <td>1375666</td>\n",
       "      <td>Inception</td>\n",
       "      <td>2010</td>\n",
       "      <td>148.0</td>\n",
       "      <td>[Action, Adventure, Sci-Fi]</td>\n",
       "      <td>[nm0634240]</td>\n",
       "      <td>[nm0634240]</td>\n",
       "      <td>8.8</td>\n",
       "      <td>1841066</td>\n",
       "      <td>10</td>\n",
       "      <td>en</td>\n",
       "      <td>27.920</td>\n",
       "      <td>2010-07-16</td>\n",
       "      <td>Inception</td>\n",
       "      <td>8.3</td>\n",
       "      <td>22186</td>\n",
       "      <td>1375666</td>\n",
       "      <td>21342675.70</td>\n",
       "    </tr>\n",
       "    <tr>\n",
       "      <th>153</th>\n",
       "      <td>0848228</td>\n",
       "      <td>The Avengers</td>\n",
       "      <td>2012</td>\n",
       "      <td>143.0</td>\n",
       "      <td>[Action, Adventure, Sci-Fi]</td>\n",
       "      <td>[nm0923736]</td>\n",
       "      <td>[nm0923736, nm0672015]</td>\n",
       "      <td>8.1</td>\n",
       "      <td>1183655</td>\n",
       "      <td>8</td>\n",
       "      <td>en</td>\n",
       "      <td>50.289</td>\n",
       "      <td>2012-05-04</td>\n",
       "      <td>The Avengers</td>\n",
       "      <td>7.6</td>\n",
       "      <td>19673</td>\n",
       "      <td>0848228</td>\n",
       "      <td>17106555.28</td>\n",
       "    </tr>\n",
       "    <tr>\n",
       "      <th>130</th>\n",
       "      <td>0816692</td>\n",
       "      <td>Interstellar</td>\n",
       "      <td>2014</td>\n",
       "      <td>169.0</td>\n",
       "      <td>[Adventure, Drama, Sci-Fi]</td>\n",
       "      <td>[nm0634240]</td>\n",
       "      <td>[nm0634300, nm0634240]</td>\n",
       "      <td>8.6</td>\n",
       "      <td>1299334</td>\n",
       "      <td>6</td>\n",
       "      <td>en</td>\n",
       "      <td>28.440</td>\n",
       "      <td>2014-11-05</td>\n",
       "      <td>Interstellar</td>\n",
       "      <td>8.2</td>\n",
       "      <td>18597</td>\n",
       "      <td>0816692</td>\n",
       "      <td>15511241.58</td>\n",
       "    </tr>\n",
       "    <tr>\n",
       "      <th>7139</th>\n",
       "      <td>4154756</td>\n",
       "      <td>Avengers: Infinity War</td>\n",
       "      <td>2018</td>\n",
       "      <td>149.0</td>\n",
       "      <td>[Action, Adventure, Sci-Fi]</td>\n",
       "      <td>[nm0751577, nm0751648]</td>\n",
       "      <td>[nm1321655, nm1321656, nm0498278, nm0456158, n...</td>\n",
       "      <td>8.5</td>\n",
       "      <td>670926</td>\n",
       "      <td>2</td>\n",
       "      <td>en</td>\n",
       "      <td>80.773</td>\n",
       "      <td>2018-04-27</td>\n",
       "      <td>Avengers: Infinity War</td>\n",
       "      <td>8.3</td>\n",
       "      <td>13948</td>\n",
       "      <td>4154756</td>\n",
       "      <td>15053831.97</td>\n",
       "    </tr>\n",
       "    <tr>\n",
       "      <th>3206</th>\n",
       "      <td>2015381</td>\n",
       "      <td>Guardians of the Galaxy</td>\n",
       "      <td>2014</td>\n",
       "      <td>121.0</td>\n",
       "      <td>[Action, Adventure, Comedy]</td>\n",
       "      <td>[nm0348181]</td>\n",
       "      <td>[nm3238648, nm0314153, nm0562554, nm0348181, n...</td>\n",
       "      <td>8.1</td>\n",
       "      <td>948394</td>\n",
       "      <td>6</td>\n",
       "      <td>en</td>\n",
       "      <td>49.606</td>\n",
       "      <td>2014-08-01</td>\n",
       "      <td>Guardians of the Galaxy</td>\n",
       "      <td>7.9</td>\n",
       "      <td>17958</td>\n",
       "      <td>2015381</td>\n",
       "      <td>14719505.33</td>\n",
       "    </tr>\n",
       "  </tbody>\n",
       "</table>\n",
       "</div>"
      ],
      "text/plain": [
       "       tconst            primary_title  start_year  runtime_minutes  \\\n",
       "849   1375666                Inception        2010            148.0   \n",
       "153   0848228             The Avengers        2012            143.0   \n",
       "130   0816692             Interstellar        2014            169.0   \n",
       "7139  4154756   Avengers: Infinity War        2018            149.0   \n",
       "3206  2015381  Guardians of the Galaxy        2014            121.0   \n",
       "\n",
       "                           genres               directors  \\\n",
       "849   [Action, Adventure, Sci-Fi]             [nm0634240]   \n",
       "153   [Action, Adventure, Sci-Fi]             [nm0923736]   \n",
       "130    [Adventure, Drama, Sci-Fi]             [nm0634240]   \n",
       "7139  [Action, Adventure, Sci-Fi]  [nm0751577, nm0751648]   \n",
       "3206  [Action, Adventure, Comedy]             [nm0348181]   \n",
       "\n",
       "                                                writers  averagerating  \\\n",
       "849                                         [nm0634240]            8.8   \n",
       "153                              [nm0923736, nm0672015]            8.1   \n",
       "130                              [nm0634300, nm0634240]            8.6   \n",
       "7139  [nm1321655, nm1321656, nm0498278, nm0456158, n...            8.5   \n",
       "3206  [nm3238648, nm0314153, nm0562554, nm0348181, n...            8.1   \n",
       "\n",
       "      numvotes  age_of_movie original_language  popularity release_date  \\\n",
       "849    1841066            10                en      27.920   2010-07-16   \n",
       "153    1183655             8                en      50.289   2012-05-04   \n",
       "130    1299334             6                en      28.440   2014-11-05   \n",
       "7139    670926             2                en      80.773   2018-04-27   \n",
       "3206    948394             6                en      49.606   2014-08-01   \n",
       "\n",
       "                        title  vote_average  vote_count  imdb_id  \\\n",
       "849                 Inception           8.3       22186  1375666   \n",
       "153              The Avengers           7.6       19673  0848228   \n",
       "130              Interstellar           8.2       18597  0816692   \n",
       "7139   Avengers: Infinity War           8.3       13948  4154756   \n",
       "3206  Guardians of the Galaxy           7.9       17958  2015381   \n",
       "\n",
       "      aggregate_score  \n",
       "849       21342675.70  \n",
       "153       17106555.28  \n",
       "130       15511241.58  \n",
       "7139      15053831.97  \n",
       "3206      14719505.33  "
      ]
     },
     "execution_count": 60,
     "metadata": {},
     "output_type": "execute_result"
    }
   ],
   "source": [
    "top_200_rating.head()"
   ]
  }
 ],
 "metadata": {
  "kernelspec": {
   "display_name": "Python 3",
   "language": "python",
   "name": "python3"
  },
  "language_info": {
   "codemirror_mode": {
    "name": "ipython",
    "version": 3
   },
   "file_extension": ".py",
   "mimetype": "text/x-python",
   "name": "python",
   "nbconvert_exporter": "python",
   "pygments_lexer": "ipython3",
   "version": "3.7.6"
  }
 },
 "nbformat": 4,
 "nbformat_minor": 4
}
