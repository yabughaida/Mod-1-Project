{
 "cells": [
  {
   "cell_type": "markdown",
   "metadata": {},
   "source": [
    "### Mod 1 Project --- Data Movie"
   ]
  },
  {
   "cell_type": "code",
   "execution_count": 1,
   "metadata": {},
   "outputs": [],
   "source": [
    "#top 50 lucrative movies from  tn_movie_budgets and bom_movie_gross   (find their ratings)\n",
    "# most (top50) popular movies from tmdb_movies\n",
    "# highest(top 50) ratings from imdb_title_ratings\n",
    "\n",
    "# select common movies from above list\n",
    "#find their genre, directors"
   ]
  },
  {
   "cell_type": "markdown",
   "metadata": {},
   "source": [
    "### Import libraries & database"
   ]
  },
  {
   "cell_type": "code",
   "execution_count": 2,
   "metadata": {
    "scrolled": false
   },
   "outputs": [
    {
     "name": "stdout",
     "output_type": "stream",
     "text": [
      "Requirement already satisfied: mysql-connector-python in c:\\users\\yazan\\anaconda3\\lib\\site-packages (8.0.20)\n",
      "Requirement already satisfied: protobuf>=3.0.0 in c:\\users\\yazan\\anaconda3\\lib\\site-packages (from mysql-connector-python) (3.12.2)\n",
      "Requirement already satisfied: setuptools in c:\\users\\yazan\\anaconda3\\lib\\site-packages (from protobuf>=3.0.0->mysql-connector-python) (45.2.0.post20200210)\n",
      "Requirement already satisfied: six>=1.9 in c:\\users\\yazan\\anaconda3\\lib\\site-packages (from protobuf>=3.0.0->mysql-connector-python) (1.14.0)\n"
     ]
    }
   ],
   "source": [
    "!pip install mysql-connector-python"
   ]
  },
  {
   "cell_type": "code",
   "execution_count": 3,
   "metadata": {},
   "outputs": [],
   "source": [
    "import pandas as pd\n",
    "import numpy as np\n",
    "import mysql.connector\n",
    "import datetime as dt\n",
    "import matplotlib.pyplot as plt\n",
    "import seaborn as sns\n",
    "%matplotlib inline"
   ]
  },
  {
   "cell_type": "code",
   "execution_count": 4,
   "metadata": {},
   "outputs": [],
   "source": [
    "con = mysql.connector.connect(user='hbs-student', password='super-secure-password?',\n",
    "                              host='hbs-ds-060120.c1doesqrid0e.us-east-1.rds.amazonaws.com',\n",
    "                              database='movies')\n",
    "cur = con.cursor()"
   ]
  },
  {
   "cell_type": "markdown",
   "metadata": {},
   "source": [
    "# Data Cleaning"
   ]
  },
  {
   "cell_type": "markdown",
   "metadata": {},
   "source": [
    "### IMDB Titles"
   ]
  },
  {
   "cell_type": "code",
   "execution_count": null,
   "metadata": {},
   "outputs": [],
   "source": [
    "query = ('''\n",
    "SELECT *\n",
    "FROM imdb_title_akas imdb_a\n",
    "JOIN imdb_title_basics imdb_b ON imdb_a.title_id = imdb_b.tconst\n",
    "JOIN imdb_title_crew imdb_c ON imdb_b.tconst = imdb_c.tconst\n",
    "JOIN imdb_title_principals imdb_d ON imdb_b.tconst = imdb_d.tconst\n",
    "JOIN imdb_title_ratings imdb_e ON imdb_b.tconst = imdb_e.tconst\n",
    "''')\n",
    "imdb_titles = pd.read_sql_query(query, con)\n",
    "#joining all IMDB title tables using title ids and name ids"
   ]
  },
  {
   "cell_type": "code",
   "execution_count": null,
   "metadata": {
    "scrolled": true
   },
   "outputs": [],
   "source": [
    "imdb_titles.isna().sum()\n",
    "#checking for null values"
   ]
  },
  {
   "cell_type": "code",
   "execution_count": null,
   "metadata": {},
   "outputs": [],
   "source": [
    "imdb_titles = imdb_titles.dropna(subset=['runtime_minutes'])\n",
    "imdb_titles = imdb_titles.dropna(subset=['writers'])\n",
    "#Removing rows with null values for runtime minutes and writers"
   ]
  },
  {
   "cell_type": "markdown",
   "metadata": {},
   "source": [
    "### IMDB Crew"
   ]
  },
  {
   "cell_type": "code",
   "execution_count": null,
   "metadata": {},
   "outputs": [],
   "source": [
    "query = ('''\n",
    "SELECT *\n",
    "FROM imdb_name_basics\n",
    "''')\n",
    "imdb_crew = pd.read_sql_query(query, con)"
   ]
  },
  {
   "cell_type": "code",
   "execution_count": null,
   "metadata": {
    "scrolled": true
   },
   "outputs": [],
   "source": [
    "imdb_crew.isna().sum()\n",
    "# Checking for null values"
   ]
  },
  {
   "cell_type": "code",
   "execution_count": null,
   "metadata": {},
   "outputs": [],
   "source": [
    "imdb_crew.info()"
   ]
  },
  {
   "cell_type": "code",
   "execution_count": null,
   "metadata": {},
   "outputs": [],
   "source": [
    "\n",
    "#dropping these two columns due to large amount of null values and lack of relevancy for analysis\n",
    "#Take out all rows with death years.\n",
    "#Create new column for age"
   ]
  },
  {
   "cell_type": "code",
   "execution_count": null,
   "metadata": {},
   "outputs": [],
   "source": [
    "imdb_crew.head()"
   ]
  },
  {
   "cell_type": "code",
   "execution_count": null,
   "metadata": {
    "scrolled": false
   },
   "outputs": [],
   "source": [
    "imdb_crew['known_for_titles']"
   ]
  },
  {
   "cell_type": "code",
   "execution_count": null,
   "metadata": {},
   "outputs": [],
   "source": [
    "query = ('''\n",
    "SELECT tconst, primary_title\n",
    "FROM imdb_title_basics\n",
    "''')\n",
    "imdb_key = pd.read_sql_query(query, con)\n",
    "#Creating a key to identify which title_ids correspond to which titles"
   ]
  },
  {
   "cell_type": "code",
   "execution_count": null,
   "metadata": {
    "scrolled": true
   },
   "outputs": [],
   "source": [
    "imdb_titles.head()"
   ]
  },
  {
   "cell_type": "code",
   "execution_count": null,
   "metadata": {},
   "outputs": [],
   "source": [
    "imdb_key"
   ]
  },
  {
   "cell_type": "code",
   "execution_count": null,
   "metadata": {
    "scrolled": true
   },
   "outputs": [],
   "source": [
    "imdb_crew = imdb_crew.assign(known_for_titles=imdb_crew['known_for_titles'].str.split(',')).explode('known_for_titles')\n",
    "# Separating the title IDs in the \"known for\" column"
   ]
  },
  {
   "cell_type": "code",
   "execution_count": null,
   "metadata": {},
   "outputs": [],
   "source": [
    "type(imdb_key)"
   ]
  },
  {
   "cell_type": "code",
   "execution_count": null,
   "metadata": {
    "scrolled": true
   },
   "outputs": [],
   "source": [
    "imdb_crew_with_key = imdb_crew.merge(imdb_key, how='left', left_on='known_for_titles', right_on='tconst')\n",
    "# Trying to match \"known for\" title codes with film names"
   ]
  },
  {
   "cell_type": "code",
   "execution_count": null,
   "metadata": {},
   "outputs": [],
   "source": [
    "imdb_crew_with_key = imdb_crew_with_key.dropna(subset=['tconst','primary_title'])"
   ]
  },
  {
   "cell_type": "code",
   "execution_count": null,
   "metadata": {},
   "outputs": [],
   "source": [
    "imdb_crew_with_key.head()"
   ]
  },
  {
   "cell_type": "markdown",
   "metadata": {},
   "source": [
    "### BOM"
   ]
  },
  {
   "cell_type": "code",
   "execution_count": null,
   "metadata": {},
   "outputs": [],
   "source": [
    "query = ('''\n",
    "SELECT * FROM bom_movie_gross\n",
    "''')\n",
    "bom = pd.read_sql_query(query, con)"
   ]
  },
  {
   "cell_type": "code",
   "execution_count": null,
   "metadata": {},
   "outputs": [],
   "source": [
    "#drop Null value in domestic_gross\n",
    "bom = bom.dropna(subset =['domestic_gross'])\n",
    "\n",
    "#convert Null value in foreign_gross to 0\n",
    "bom.foreign_gross = bom.foreign_gross.fillna(0)\n",
    "\n",
    "#convert domestic_gross and foreign_gross from float to int\n",
    "bom.domestic_gross = bom.domestic_gross.map(lambda x: int(x))   \n",
    "bom.foreign_gross = bom.foreign_gross.map(lambda x: int(x))  "
   ]
  },
  {
   "cell_type": "code",
   "execution_count": null,
   "metadata": {},
   "outputs": [],
   "source": [
    "#remove spaces on both end of strings\n",
    "bom.title = bom.title.map(lambda x: x.strip())\n",
    "bom.studio = bom.studio.map(lambda x: x.strip())"
   ]
  },
  {
   "cell_type": "code",
   "execution_count": null,
   "metadata": {},
   "outputs": [],
   "source": [
    "bom.info()"
   ]
  },
  {
   "cell_type": "markdown",
   "metadata": {},
   "source": [
    "### TN"
   ]
  },
  {
   "cell_type": "code",
   "execution_count": null,
   "metadata": {},
   "outputs": [],
   "source": [
    "query_tn = ('''\n",
    "SELECT * FROM tn_movie_budgets\n",
    "''')\n",
    "tn = pd.read_sql_query(query_tn, con)"
   ]
  },
  {
   "cell_type": "code",
   "execution_count": null,
   "metadata": {},
   "outputs": [],
   "source": [
    "# convert release_date to date format\n",
    "tn.release_date = tn.release_date.map(lambda x: dt.datetime.strptime(x, '%b %d, %Y'))\n",
    "\n",
    "# convert production_budget, domestic_gross, worldwide_gross to date format\n",
    "tn.production_budget = tn.production_budget.map(lambda x: int(x.replace(',','').replace('$','')))\n",
    "tn.domestic_gross = tn.domestic_gross.map(lambda x: int(x.replace(',','').replace('$','')))\n",
    "tn.worldwide_gross = tn.worldwide_gross.map(lambda x: int(x.replace(',','').replace('$','')))\n",
    "\n",
    "#add profit column\n",
    "tn['profit'] = tn.worldwide_gross - tn.production_budget"
   ]
  },
  {
   "cell_type": "code",
   "execution_count": null,
   "metadata": {},
   "outputs": [],
   "source": [
    "#remove spaces on both end of strings\n",
    "tn.movie = tn.movie.map(lambda x: x.strip())"
   ]
  },
  {
   "cell_type": "code",
   "execution_count": null,
   "metadata": {},
   "outputs": [],
   "source": [
    "tn.info()"
   ]
  },
  {
   "cell_type": "markdown",
   "metadata": {},
   "source": [
    "### TMDB"
   ]
  },
  {
   "cell_type": "code",
   "execution_count": null,
   "metadata": {},
   "outputs": [],
   "source": [
    "query_tmdb = ('''\n",
    "SELECT * FROM tmdb_movies\n",
    "''')\n",
    "tmdb = pd.read_sql_query(query_tmdb, con)"
   ]
  },
  {
   "cell_type": "code",
   "execution_count": null,
   "metadata": {},
   "outputs": [],
   "source": [
    "query_tmdb_link = ('''\n",
    "SELECT * FROM tmdb_imdb_link\n",
    "''')\n",
    "tmdb_link = pd.read_sql_query(query_tmdb_link, con)"
   ]
  },
  {
   "cell_type": "code",
   "execution_count": null,
   "metadata": {},
   "outputs": [],
   "source": [
    "#convert genre_ids to int\n",
    "tmdb.genre_ids.map(lambda x: int(x))\n",
    "\n",
    "#remove spaces on both end of strings\n",
    "tmdb.original_language = tmdb.original_language.map(lambda x: x.strip())\n",
    "tmdb.original_title = tmdb.original_title.map(lambda x: x.strip())\n",
    "tmdb.title = tmdb.title.map(lambda x: x.strip())"
   ]
  },
  {
   "cell_type": "code",
   "execution_count": null,
   "metadata": {},
   "outputs": [],
   "source": [
    "#Join tmdb and tmdb_link tables\n",
    "tmdb = tmdb.join(tmdb_link.set_index('tmdb_id'), on = 'id', how = 'left')"
   ]
  },
  {
   "cell_type": "code",
   "execution_count": null,
   "metadata": {},
   "outputs": [],
   "source": [
    "#clean the joined table\n",
    "tmdb.imdb_id = tmdb.imdb_id.fillna(0).map(lambda x: int(x))"
   ]
  },
  {
   "cell_type": "code",
   "execution_count": null,
   "metadata": {},
   "outputs": [],
   "source": [
    "tmdb.info()"
   ]
  },
  {
   "cell_type": "markdown",
   "metadata": {},
   "source": [
    "### RT"
   ]
  },
  {
   "cell_type": "code",
   "execution_count": null,
   "metadata": {},
   "outputs": [],
   "source": [
    "query_rt_info = ('''\n",
    "SELECT * FROM rt_movie_info\n",
    "''')\n",
    "rt_info = pd.read_sql_query(query_rt_info, con)"
   ]
  },
  {
   "cell_type": "code",
   "execution_count": null,
   "metadata": {},
   "outputs": [],
   "source": [
    "query_rt_reviews = ('''\n",
    "SELECT * FROM rt_reviews\n",
    "''')\n",
    "rt_reviews = pd.read_sql_query(query_rt_reviews, con)"
   ]
  },
  {
   "cell_type": "code",
   "execution_count": null,
   "metadata": {},
   "outputs": [],
   "source": [
    "query_rt_link = ('''\n",
    "SELECT * FROM rt_imdb_link\n",
    "''')\n",
    "rt_link = pd.read_sql_query(query_rt_link, con)"
   ]
  },
  {
   "cell_type": "code",
   "execution_count": null,
   "metadata": {},
   "outputs": [],
   "source": [
    "rt_info.info()"
   ]
  },
  {
   "cell_type": "markdown",
   "metadata": {},
   "source": [
    "### RT_Info Cleaning"
   ]
  },
  {
   "cell_type": "code",
   "execution_count": null,
   "metadata": {},
   "outputs": [],
   "source": [
    "#replace empty value in theater_date and dvd_date with Jan 1,1000\n",
    "rt_info['theater_date'].loc[rt_info.theater_date == ''] = 'Jan 1, 1000'\n",
    "rt_info['dvd_date'].loc[rt_info.dvd_date == ''] = 'Jan 1, 1000'"
   ]
  },
  {
   "cell_type": "code",
   "execution_count": null,
   "metadata": {},
   "outputs": [],
   "source": [
    "#convert theater_date and dvd_date to datetime format\n",
    "rt_info.theater_date = rt_info.theater_date.map(lambda x: dt.datetime.strptime(x, '%b %d, %Y').date())\n",
    "rt_info.dvd_date = rt_info.dvd_date.map(lambda x: dt.datetime.strptime(x, '%b %d, %Y').date())"
   ]
  },
  {
   "cell_type": "code",
   "execution_count": null,
   "metadata": {},
   "outputs": [],
   "source": [
    "#clean box_office date\n",
    "rt_info['box_office'].loc[rt_info.box_office == ''] = '0'\n",
    "rt_info['box_office'] = rt_info.box_office.map(lambda x: int(x.replace(',', '')))"
   ]
  },
  {
   "cell_type": "code",
   "execution_count": null,
   "metadata": {},
   "outputs": [],
   "source": [
    "#clean runtime (replace empty value with 0)\n",
    "rt_info['runtime'].loc[rt_info.runtime == ''] = '0'\n",
    "rt_info['runtime'] = rt_info.runtime.map(lambda x: int(x.replace('minutes', '')))"
   ]
  },
  {
   "cell_type": "code",
   "execution_count": null,
   "metadata": {},
   "outputs": [],
   "source": [
    "#remove spaces on both end of strings\n",
    "rt_info.synopsis = rt_info.synopsis.map(lambda x: x.strip())\n",
    "rt_info.rating = rt_info.rating.map(lambda x: x.strip())\n",
    "rt_info.genre = rt_info.genre.map(lambda x: x.strip())\n",
    "rt_info.director = rt_info.director.map(lambda x: x.strip())\n",
    "rt_info.writer = rt_info.writer.map(lambda x: x.strip())"
   ]
  },
  {
   "cell_type": "code",
   "execution_count": null,
   "metadata": {},
   "outputs": [],
   "source": [
    "rt_info.info()"
   ]
  },
  {
   "cell_type": "markdown",
   "metadata": {},
   "source": [
    "### RT_Reviews Cleaning"
   ]
  },
  {
   "cell_type": "code",
   "execution_count": null,
   "metadata": {},
   "outputs": [],
   "source": [
    "#convert date to datetime format\n",
    "rt_reviews.date = rt_reviews.date.map(lambda x: dt.datetime.strptime(x, '%B %d, %Y').date())"
   ]
  },
  {
   "cell_type": "code",
   "execution_count": null,
   "metadata": {},
   "outputs": [],
   "source": [
    "#convert top_critic to int\n",
    "rt_reviews.top_critic = rt_reviews.top_critic.map(lambda x: int(x))"
   ]
  },
  {
   "cell_type": "code",
   "execution_count": null,
   "metadata": {},
   "outputs": [],
   "source": [
    "#remove spaces on both end of strings\n",
    "rt_reviews.review = rt_reviews.review.map(lambda x: x.strip())\n",
    "rt_reviews.rating = rt_reviews.rating.map(lambda x: x.strip())\n",
    "rt_reviews.fresh = rt_reviews.fresh.map(lambda x: x.strip())\n",
    "rt_reviews.critic = rt_reviews.critic.map(lambda x: x.strip())\n",
    "rt_reviews.publisher = rt_reviews.publisher.map(lambda x: x.strip())"
   ]
  },
  {
   "cell_type": "code",
   "execution_count": null,
   "metadata": {},
   "outputs": [],
   "source": [
    "rt_reviews.info()"
   ]
  },
  {
   "cell_type": "markdown",
   "metadata": {},
   "source": [
    "### RT_link cleaning"
   ]
  },
  {
   "cell_type": "code",
   "execution_count": null,
   "metadata": {},
   "outputs": [],
   "source": [
    "rt_link.year = rt_link.year.fillna(1000)"
   ]
  },
  {
   "cell_type": "code",
   "execution_count": null,
   "metadata": {},
   "outputs": [],
   "source": [
    "rt_link.info()"
   ]
  },
  {
   "cell_type": "code",
   "execution_count": null,
   "metadata": {},
   "outputs": [],
   "source": [
    "#replace empty space to year 1000 in year\n",
    "rt_link.year = rt_link.year.fillna(1000)\n",
    "\n",
    "#convert date to datetime format\n",
    "rt_link.year = rt_link.year.map(lambda x: (int(x)))"
   ]
  },
  {
   "cell_type": "code",
   "execution_count": null,
   "metadata": {},
   "outputs": [],
   "source": [
    "#replace empty space in runtime to 0\n",
    "rt_link['runtime'].loc[rt_link.runtime == ''] = '0'\n",
    "\n",
    "#convert runtime to int format\n",
    "rt_link.runtime = rt_link.runtime.map(lambda x: (int(x)))"
   ]
  },
  {
   "cell_type": "code",
   "execution_count": null,
   "metadata": {},
   "outputs": [],
   "source": [
    "rt_link.info()"
   ]
  },
  {
   "cell_type": "code",
   "execution_count": null,
   "metadata": {},
   "outputs": [],
   "source": [
    "rt_link.shape"
   ]
  },
  {
   "cell_type": "markdown",
   "metadata": {},
   "source": [
    "# Bringing Them All Together"
   ]
  },
  {
   "cell_type": "code",
   "execution_count": null,
   "metadata": {},
   "outputs": [],
   "source": []
  },
  {
   "cell_type": "markdown",
   "metadata": {},
   "source": [
    "# Top 200 Lucrative Movies"
   ]
  },
  {
   "cell_type": "markdown",
   "metadata": {},
   "source": [
    "### BOM Database"
   ]
  },
  {
   "cell_type": "code",
   "execution_count": null,
   "metadata": {},
   "outputs": [],
   "source": [
    "# get top 200 lucrative domestic movies\n",
    "bom_top200_domestic = bom.sort_values('domestic_gross', ascending = False).head(200)   "
   ]
  },
  {
   "cell_type": "markdown",
   "metadata": {},
   "source": [
    "### TN Database"
   ]
  },
  {
   "cell_type": "code",
   "execution_count": null,
   "metadata": {},
   "outputs": [],
   "source": [
    "# get top 200 revenue domestic movies\n",
    "tn_top200_domestic = tn.sort_values('domestic_gross',ascending=False).head(200)\n",
    "\n",
    "# get top 200 revenue worldwide movies\n",
    "tn_top200_world = tn.sort_values('worldwide_gross',ascending=False).head(200)\n",
    "\n",
    "# get top 200 profit movies\n",
    "tn_top200_profit = tn.sort_values('profit',ascending=False).head(200)"
   ]
  }
 ],
 "metadata": {
  "kernelspec": {
   "display_name": "Python 3",
   "language": "python",
   "name": "python3"
  },
  "language_info": {
   "codemirror_mode": {
    "name": "ipython",
    "version": 3
   },
   "file_extension": ".py",
   "mimetype": "text/x-python",
   "name": "python",
   "nbconvert_exporter": "python",
   "pygments_lexer": "ipython3",
   "version": "3.7.6"
  }
 },
 "nbformat": 4,
 "nbformat_minor": 4
}
