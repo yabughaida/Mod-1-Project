{
 "cells": [
  {
   "cell_type": "markdown",
   "metadata": {},
   "source": [
    "### Mod 1 Project --- Data Movie"
   ]
  },
  {
   "cell_type": "code",
   "execution_count": 1,
   "metadata": {},
   "outputs": [],
   "source": [
    "#top 50 lucrative movies from  tn_movie_budgets and bom_movie_gross   (find their ratings)\n",
    "# most (top50) popular movies from tmdb_movies\n",
    "# highest(top 50) ratings from imdb_title_ratings\n",
    "\n",
    "# select common movies from above list\n",
    "#find their genre, directors"
   ]
  },
  {
   "cell_type": "markdown",
   "metadata": {},
   "source": [
    "### Import libraries & database"
   ]
  },
  {
   "cell_type": "code",
   "execution_count": 2,
   "metadata": {
    "scrolled": false
   },
   "outputs": [
    {
     "name": "stdout",
     "output_type": "stream",
     "text": [
      "Requirement already satisfied: mysql-connector-python in c:\\users\\yazan\\anaconda3\\lib\\site-packages (8.0.20)\n",
      "Requirement already satisfied: protobuf>=3.0.0 in c:\\users\\yazan\\anaconda3\\lib\\site-packages (from mysql-connector-python) (3.12.2)\n",
      "Requirement already satisfied: setuptools in c:\\users\\yazan\\anaconda3\\lib\\site-packages (from protobuf>=3.0.0->mysql-connector-python) (45.2.0.post20200210)\n",
      "Requirement already satisfied: six>=1.9 in c:\\users\\yazan\\anaconda3\\lib\\site-packages (from protobuf>=3.0.0->mysql-connector-python) (1.14.0)\n"
     ]
    }
   ],
   "source": [
    "!pip install mysql-connector-python"
   ]
  },
  {
   "cell_type": "code",
   "execution_count": 3,
   "metadata": {},
   "outputs": [],
   "source": [
    "import pandas as pd\n",
    "import numpy as np\n",
    "import mysql.connector\n",
    "import datetime as dt\n",
    "import matplotlib.pyplot as plt\n",
    "import seaborn as sns\n",
    "%matplotlib inline"
   ]
  },
  {
   "cell_type": "code",
   "execution_count": 4,
   "metadata": {},
   "outputs": [],
   "source": [
    "con = mysql.connector.connect(user='hbs-student', password='super-secure-password?',\n",
    "                              host='hbs-ds-060120.c1doesqrid0e.us-east-1.rds.amazonaws.com',\n",
    "                              database='movies')\n",
    "cur = con.cursor()"
   ]
  },
  {
   "cell_type": "markdown",
   "metadata": {},
   "source": [
    "# Data Cleaning"
   ]
  },
  {
   "cell_type": "markdown",
   "metadata": {},
   "source": [
    "### IMDB"
   ]
  },
  {
   "cell_type": "code",
   "execution_count": 5,
   "metadata": {},
   "outputs": [],
   "source": [
    "query = ('''\n",
    "SELECT *\n",
    "FROM imdb_title_akas imdb_a\n",
    "JOIN imdb_title_basics imdb_b ON imdb_a.title_id = imdb_b.tconst\n",
    "JOIN imdb_title_crew imdb_c ON imdb_b.tconst = imdb_c.tconst\n",
    "JOIN imdb_title_principals imdb_d ON imdb_b.tconst = imdb_d.tconst\n",
    "JOIN imdb_title_ratings imdb_e ON imdb_b.tconst = imdb_e.tconst\n",
    "''')\n",
    "imdb_titles = pd.read_sql_query(query, con)\n",
    "#joining all IMDB title tables using title ids and name ids"
   ]
  },
  {
   "cell_type": "code",
   "execution_count": 6,
   "metadata": {},
   "outputs": [
    {
     "data": {
      "text/plain": [
       "title_id                  0\n",
       "ordering                  0\n",
       "title                     0\n",
       "region                    0\n",
       "language                  0\n",
       "types                     0\n",
       "attributes                0\n",
       "is_original_title         0\n",
       "tconst                    0\n",
       "primary_title             0\n",
       "original_title            0\n",
       "start_year                0\n",
       "runtime_minutes       95038\n",
       "genres                    0\n",
       "tconst                    0\n",
       "directors                 0\n",
       "writers              139830\n",
       "tconst                    0\n",
       "ordering                  0\n",
       "nconst                    0\n",
       "category                  0\n",
       "job                       0\n",
       "characters                0\n",
       "tconst                    0\n",
       "averagerating             0\n",
       "numvotes                  0\n",
       "dtype: int64"
      ]
     },
     "execution_count": 6,
     "metadata": {},
     "output_type": "execute_result"
    }
   ],
   "source": [
    "imdb_titles.isna().sum()\n",
    "#checking for null values"
   ]
  },
  {
   "cell_type": "code",
   "execution_count": 7,
   "metadata": {},
   "outputs": [],
   "source": [
    "imdb_titles = imdb_titles.dropna(subset=['runtime_minutes'])\n",
    "imdb_titles = imdb_titles.dropna(subset=['writers'])\n",
    "#Removing rows with null values for runtime minutes and writers"
   ]
  },
  {
   "cell_type": "code",
   "execution_count": 8,
   "metadata": {},
   "outputs": [],
   "source": [
    "query = ('''\n",
    "SELECT *\n",
    "FROM imdb_name_basics\n",
    "''')\n",
    "imdb_crew = pd.read_sql_query(query, con)"
   ]
  },
  {
   "cell_type": "code",
   "execution_count": 9,
   "metadata": {},
   "outputs": [
    {
     "data": {
      "text/plain": [
       "nconst                     0\n",
       "primary_name               0\n",
       "birth_year            523912\n",
       "death_year            599865\n",
       "primary_profession         0\n",
       "known_for_titles           0\n",
       "dtype: int64"
      ]
     },
     "execution_count": 9,
     "metadata": {},
     "output_type": "execute_result"
    }
   ],
   "source": [
    "imdb_crew.isna().sum()"
   ]
  },
  {
   "cell_type": "code",
   "execution_count": 10,
   "metadata": {},
   "outputs": [],
   "source": [
    "imdb_crew = imdb_crew.drop(['birth_year','death_year'], axis=1)\n",
    "#dropping these two columns due to large amount of null values and lack of relevancy for analysis"
   ]
  },
  {
   "cell_type": "code",
   "execution_count": 14,
   "metadata": {
    "scrolled": false
   },
   "outputs": [
    {
     "data": {
      "text/plain": [
       "0         tt0038355,tt0117057,tt0071877,tt0037382\n",
       "1         tt0049189,tt0057345,tt0054452,tt0059956\n",
       "2         tt0069467,tt0050986,tt0083922,tt0050976\n",
       "3         tt0071877,tt0036855,tt0038109,tt0038787\n",
       "4         tt0034583,tt0033870,tt0037382,tt0043265\n",
       "                           ...                   \n",
       "606643                                  tt7722258\n",
       "606644                                 tt10299418\n",
       "606645                                  tt4844148\n",
       "606646                                  tt8739208\n",
       "606647                                  tt8295580\n",
       "Name: known_for_titles, Length: 606648, dtype: object"
      ]
     },
     "execution_count": 14,
     "metadata": {},
     "output_type": "execute_result"
    }
   ],
   "source": [
    "imdb_crew['known_for_titles']"
   ]
  },
  {
   "cell_type": "code",
   "execution_count": 15,
   "metadata": {},
   "outputs": [],
   "source": [
    "query = ('''\n",
    "SELECT tconst, primary_title\n",
    "FROM imdb_title_basics\n",
    "''')\n",
    "imdb_key = pd.read_sql_query(query, con)\n",
    "#Creating a key to identify which title_ids correspond to which titles"
   ]
  },
  {
   "cell_type": "code",
   "execution_count": 25,
   "metadata": {
    "scrolled": true
   },
   "outputs": [
    {
     "data": {
      "text/html": [
       "<div>\n",
       "<style scoped>\n",
       "    .dataframe tbody tr th:only-of-type {\n",
       "        vertical-align: middle;\n",
       "    }\n",
       "\n",
       "    .dataframe tbody tr th {\n",
       "        vertical-align: top;\n",
       "    }\n",
       "\n",
       "    .dataframe thead th {\n",
       "        text-align: right;\n",
       "    }\n",
       "</style>\n",
       "<table border=\"1\" class=\"dataframe\">\n",
       "  <thead>\n",
       "    <tr style=\"text-align: right;\">\n",
       "      <th></th>\n",
       "      <th>title_id</th>\n",
       "      <th>ordering</th>\n",
       "      <th>title</th>\n",
       "      <th>region</th>\n",
       "      <th>language</th>\n",
       "      <th>types</th>\n",
       "      <th>attributes</th>\n",
       "      <th>is_original_title</th>\n",
       "      <th>tconst</th>\n",
       "      <th>primary_title</th>\n",
       "      <th>...</th>\n",
       "      <th>writers</th>\n",
       "      <th>tconst</th>\n",
       "      <th>ordering</th>\n",
       "      <th>nconst</th>\n",
       "      <th>category</th>\n",
       "      <th>job</th>\n",
       "      <th>characters</th>\n",
       "      <th>tconst</th>\n",
       "      <th>averagerating</th>\n",
       "      <th>numvotes</th>\n",
       "    </tr>\n",
       "  </thead>\n",
       "  <tbody>\n",
       "    <tr>\n",
       "      <th>0</th>\n",
       "      <td>tt0063540</td>\n",
       "      <td>1</td>\n",
       "      <td>Sangharsh</td>\n",
       "      <td>IN</td>\n",
       "      <td>hi</td>\n",
       "      <td></td>\n",
       "      <td>alternative transliteration</td>\n",
       "      <td>0</td>\n",
       "      <td>tt0063540</td>\n",
       "      <td>Sunghursh</td>\n",
       "      <td>...</td>\n",
       "      <td>nm0023551,nm1194313,nm0347899,nm1391276</td>\n",
       "      <td>tt0063540</td>\n",
       "      <td>10</td>\n",
       "      <td>nm0006210</td>\n",
       "      <td>composer</td>\n",
       "      <td></td>\n",
       "      <td></td>\n",
       "      <td>tt0063540</td>\n",
       "      <td>7.0</td>\n",
       "      <td>77</td>\n",
       "    </tr>\n",
       "    <tr>\n",
       "      <th>1</th>\n",
       "      <td>tt0063540</td>\n",
       "      <td>1</td>\n",
       "      <td>Sangharsh</td>\n",
       "      <td>IN</td>\n",
       "      <td>hi</td>\n",
       "      <td></td>\n",
       "      <td>alternative transliteration</td>\n",
       "      <td>0</td>\n",
       "      <td>tt0063540</td>\n",
       "      <td>Sunghursh</td>\n",
       "      <td>...</td>\n",
       "      <td>nm0023551,nm1194313,nm0347899,nm1391276</td>\n",
       "      <td>tt0063540</td>\n",
       "      <td>1</td>\n",
       "      <td>nm0474801</td>\n",
       "      <td>actor</td>\n",
       "      <td></td>\n",
       "      <td>[\"Kundan S. Prasad\",\"Bajrangi\"]</td>\n",
       "      <td>tt0063540</td>\n",
       "      <td>7.0</td>\n",
       "      <td>77</td>\n",
       "    </tr>\n",
       "    <tr>\n",
       "      <th>2</th>\n",
       "      <td>tt0063540</td>\n",
       "      <td>1</td>\n",
       "      <td>Sangharsh</td>\n",
       "      <td>IN</td>\n",
       "      <td>hi</td>\n",
       "      <td></td>\n",
       "      <td>alternative transliteration</td>\n",
       "      <td>0</td>\n",
       "      <td>tt0063540</td>\n",
       "      <td>Sunghursh</td>\n",
       "      <td>...</td>\n",
       "      <td>nm0023551,nm1194313,nm0347899,nm1391276</td>\n",
       "      <td>tt0063540</td>\n",
       "      <td>2</td>\n",
       "      <td>nm0904537</td>\n",
       "      <td>actress</td>\n",
       "      <td></td>\n",
       "      <td>[\"Munni\",\"Laila-E-Aasmaan\"]</td>\n",
       "      <td>tt0063540</td>\n",
       "      <td>7.0</td>\n",
       "      <td>77</td>\n",
       "    </tr>\n",
       "    <tr>\n",
       "      <th>3</th>\n",
       "      <td>tt0063540</td>\n",
       "      <td>1</td>\n",
       "      <td>Sangharsh</td>\n",
       "      <td>IN</td>\n",
       "      <td>hi</td>\n",
       "      <td></td>\n",
       "      <td>alternative transliteration</td>\n",
       "      <td>0</td>\n",
       "      <td>tt0063540</td>\n",
       "      <td>Sunghursh</td>\n",
       "      <td>...</td>\n",
       "      <td>nm0023551,nm1194313,nm0347899,nm1391276</td>\n",
       "      <td>tt0063540</td>\n",
       "      <td>3</td>\n",
       "      <td>nm0756379</td>\n",
       "      <td>actor</td>\n",
       "      <td></td>\n",
       "      <td>[\"Ganeshi N. Prasad\"]</td>\n",
       "      <td>tt0063540</td>\n",
       "      <td>7.0</td>\n",
       "      <td>77</td>\n",
       "    </tr>\n",
       "    <tr>\n",
       "      <th>4</th>\n",
       "      <td>tt0063540</td>\n",
       "      <td>1</td>\n",
       "      <td>Sangharsh</td>\n",
       "      <td>IN</td>\n",
       "      <td>hi</td>\n",
       "      <td></td>\n",
       "      <td>alternative transliteration</td>\n",
       "      <td>0</td>\n",
       "      <td>tt0063540</td>\n",
       "      <td>Sunghursh</td>\n",
       "      <td>...</td>\n",
       "      <td>nm0023551,nm1194313,nm0347899,nm1391276</td>\n",
       "      <td>tt0063540</td>\n",
       "      <td>4</td>\n",
       "      <td>nm0474876</td>\n",
       "      <td>actor</td>\n",
       "      <td></td>\n",
       "      <td>[\"Dwarka N. Prasad\"]</td>\n",
       "      <td>tt0063540</td>\n",
       "      <td>7.0</td>\n",
       "      <td>77</td>\n",
       "    </tr>\n",
       "  </tbody>\n",
       "</table>\n",
       "<p>5 rows × 26 columns</p>\n",
       "</div>"
      ],
      "text/plain": [
       "    title_id  ordering      title region language types  \\\n",
       "0  tt0063540         1  Sangharsh     IN       hi         \n",
       "1  tt0063540         1  Sangharsh     IN       hi         \n",
       "2  tt0063540         1  Sangharsh     IN       hi         \n",
       "3  tt0063540         1  Sangharsh     IN       hi         \n",
       "4  tt0063540         1  Sangharsh     IN       hi         \n",
       "\n",
       "                    attributes  is_original_title     tconst primary_title  \\\n",
       "0  alternative transliteration                  0  tt0063540     Sunghursh   \n",
       "1  alternative transliteration                  0  tt0063540     Sunghursh   \n",
       "2  alternative transliteration                  0  tt0063540     Sunghursh   \n",
       "3  alternative transliteration                  0  tt0063540     Sunghursh   \n",
       "4  alternative transliteration                  0  tt0063540     Sunghursh   \n",
       "\n",
       "   ...                                  writers     tconst  ordering  \\\n",
       "0  ...  nm0023551,nm1194313,nm0347899,nm1391276  tt0063540        10   \n",
       "1  ...  nm0023551,nm1194313,nm0347899,nm1391276  tt0063540         1   \n",
       "2  ...  nm0023551,nm1194313,nm0347899,nm1391276  tt0063540         2   \n",
       "3  ...  nm0023551,nm1194313,nm0347899,nm1391276  tt0063540         3   \n",
       "4  ...  nm0023551,nm1194313,nm0347899,nm1391276  tt0063540         4   \n",
       "\n",
       "      nconst  category job                       characters     tconst  \\\n",
       "0  nm0006210  composer                                       tt0063540   \n",
       "1  nm0474801     actor      [\"Kundan S. Prasad\",\"Bajrangi\"]  tt0063540   \n",
       "2  nm0904537   actress          [\"Munni\",\"Laila-E-Aasmaan\"]  tt0063540   \n",
       "3  nm0756379     actor                [\"Ganeshi N. Prasad\"]  tt0063540   \n",
       "4  nm0474876     actor                 [\"Dwarka N. Prasad\"]  tt0063540   \n",
       "\n",
       "   averagerating numvotes  \n",
       "0            7.0       77  \n",
       "1            7.0       77  \n",
       "2            7.0       77  \n",
       "3            7.0       77  \n",
       "4            7.0       77  \n",
       "\n",
       "[5 rows x 26 columns]"
      ]
     },
     "execution_count": 25,
     "metadata": {},
     "output_type": "execute_result"
    }
   ],
   "source": [
    "imdb_titles.head()"
   ]
  },
  {
   "cell_type": "code",
   "execution_count": 16,
   "metadata": {},
   "outputs": [
    {
     "data": {
      "text/html": [
       "<div>\n",
       "<style scoped>\n",
       "    .dataframe tbody tr th:only-of-type {\n",
       "        vertical-align: middle;\n",
       "    }\n",
       "\n",
       "    .dataframe tbody tr th {\n",
       "        vertical-align: top;\n",
       "    }\n",
       "\n",
       "    .dataframe thead th {\n",
       "        text-align: right;\n",
       "    }\n",
       "</style>\n",
       "<table border=\"1\" class=\"dataframe\">\n",
       "  <thead>\n",
       "    <tr style=\"text-align: right;\">\n",
       "      <th></th>\n",
       "      <th>tconst</th>\n",
       "      <th>primary_title</th>\n",
       "    </tr>\n",
       "  </thead>\n",
       "  <tbody>\n",
       "    <tr>\n",
       "      <th>0</th>\n",
       "      <td>tt1699720</td>\n",
       "      <td>!Women Art Revolution</td>\n",
       "    </tr>\n",
       "    <tr>\n",
       "      <th>1</th>\n",
       "      <td>tt2346170</td>\n",
       "      <td>#1 Serial Killer</td>\n",
       "    </tr>\n",
       "    <tr>\n",
       "      <th>2</th>\n",
       "      <td>tt3120962</td>\n",
       "      <td>#5</td>\n",
       "    </tr>\n",
       "    <tr>\n",
       "      <th>3</th>\n",
       "      <td>tt8219776</td>\n",
       "      <td>#5</td>\n",
       "    </tr>\n",
       "    <tr>\n",
       "      <th>4</th>\n",
       "      <td>tt4470336</td>\n",
       "      <td>#50Fathers</td>\n",
       "    </tr>\n",
       "    <tr>\n",
       "      <th>...</th>\n",
       "      <td>...</td>\n",
       "      <td>...</td>\n",
       "    </tr>\n",
       "    <tr>\n",
       "      <th>146139</th>\n",
       "      <td>tt9741450</td>\n",
       "      <td>¿Quién Soy?</td>\n",
       "    </tr>\n",
       "    <tr>\n",
       "      <th>146140</th>\n",
       "      <td>tt3867932</td>\n",
       "      <td>¿Whisky?</td>\n",
       "    </tr>\n",
       "    <tr>\n",
       "      <th>146141</th>\n",
       "      <td>tt7207944</td>\n",
       "      <td>¿Y los tamales?</td>\n",
       "    </tr>\n",
       "    <tr>\n",
       "      <th>146142</th>\n",
       "      <td>tt2533534</td>\n",
       "      <td>Ørkenens sønner - Varm luft i canal grande</td>\n",
       "    </tr>\n",
       "    <tr>\n",
       "      <th>146143</th>\n",
       "      <td>tt10150420</td>\n",
       "      <td>Øyeblikk</td>\n",
       "    </tr>\n",
       "  </tbody>\n",
       "</table>\n",
       "<p>146144 rows × 2 columns</p>\n",
       "</div>"
      ],
      "text/plain": [
       "            tconst                               primary_title\n",
       "0        tt1699720                       !Women Art Revolution\n",
       "1        tt2346170                            #1 Serial Killer\n",
       "2        tt3120962                                          #5\n",
       "3        tt8219776                                          #5\n",
       "4        tt4470336                                  #50Fathers\n",
       "...            ...                                         ...\n",
       "146139   tt9741450                                 ¿Quién Soy?\n",
       "146140   tt3867932                                    ¿Whisky?\n",
       "146141   tt7207944                             ¿Y los tamales?\n",
       "146142   tt2533534  Ørkenens sønner - Varm luft i canal grande\n",
       "146143  tt10150420                                    Øyeblikk\n",
       "\n",
       "[146144 rows x 2 columns]"
      ]
     },
     "execution_count": 16,
     "metadata": {},
     "output_type": "execute_result"
    }
   ],
   "source": [
    "imdb_key"
   ]
  },
  {
   "cell_type": "code",
   "execution_count": 17,
   "metadata": {
    "scrolled": true
   },
   "outputs": [],
   "source": [
    "imdb_crew = imdb_crew.assign(known_for_titles=imdb_crew['known_for_titles'].str.split(',')).explode('known_for_titles')\n",
    "# Separating the title IDs in the \"known for\" column"
   ]
  },
  {
   "cell_type": "code",
   "execution_count": 24,
   "metadata": {},
   "outputs": [
    {
     "data": {
      "text/plain": [
       "pandas.core.frame.DataFrame"
      ]
     },
     "execution_count": 24,
     "metadata": {},
     "output_type": "execute_result"
    }
   ],
   "source": [
    "type(imdb_key)"
   ]
  },
  {
   "cell_type": "code",
   "execution_count": 28,
   "metadata": {
    "scrolled": true
   },
   "outputs": [],
   "source": [
    "imdb_crew_with_key = imdb_crew.merge(imdb_key, how='left', left_on='known_for_titles', right_on='tconst')\n",
    "# Trying to match \"known for\" title codes with film names"
   ]
  },
  {
   "cell_type": "code",
   "execution_count": 37,
   "metadata": {},
   "outputs": [],
   "source": [
    "imdb_crew_with_key = imdb_crew_with_key.dropna(subset=['tconst','primary_title'])"
   ]
  },
  {
   "cell_type": "code",
   "execution_count": 38,
   "metadata": {},
   "outputs": [
    {
     "name": "stdout",
     "output_type": "stream",
     "text": [
      "<class 'pandas.core.frame.DataFrame'>\n",
      "Int64Index: 791006 entries, 152 to 1668462\n",
      "Data columns (total 6 columns):\n",
      " #   Column              Non-Null Count   Dtype \n",
      "---  ------              --------------   ----- \n",
      " 0   nconst              791006 non-null  object\n",
      " 1   primary_name        791006 non-null  object\n",
      " 2   primary_profession  791006 non-null  object\n",
      " 3   known_for_titles    791006 non-null  object\n",
      " 4   tconst              791006 non-null  object\n",
      " 5   primary_title       791006 non-null  object\n",
      "dtypes: object(6)\n",
      "memory usage: 42.2+ MB\n"
     ]
    }
   ],
   "source": [
    "imdb_crew_with_key.info()"
   ]
  },
  {
   "cell_type": "markdown",
   "metadata": {},
   "source": [
    "### BOM"
   ]
  },
  {
   "cell_type": "code",
   "execution_count": 18,
   "metadata": {},
   "outputs": [],
   "source": [
    "query = ('''\n",
    "SELECT * FROM bom_movie_gross\n",
    "''')\n",
    "bom = pd.read_sql_query(query, con)"
   ]
  },
  {
   "cell_type": "code",
   "execution_count": 19,
   "metadata": {},
   "outputs": [],
   "source": [
    "#drop Null value in domestic_gross\n",
    "bom = bom.dropna(subset =['domestic_gross'])\n",
    "\n",
    "#convert domestic_gross from float to int\n",
    "bom.domestic_gross = bom.domestic_gross.map(lambda x: int(x))    "
   ]
  },
  {
   "cell_type": "markdown",
   "metadata": {},
   "source": [
    "### TN"
   ]
  },
  {
   "cell_type": "code",
   "execution_count": 20,
   "metadata": {},
   "outputs": [],
   "source": [
    "query_tn = ('''\n",
    "SELECT * FROM tn_movie_budgets\n",
    "''')\n",
    "tn = pd.read_sql_query(query_tn, con)"
   ]
  },
  {
   "cell_type": "code",
   "execution_count": 21,
   "metadata": {},
   "outputs": [],
   "source": [
    "# convert release_date to date format\n",
    "tn.release_date = tn.release_date.map(lambda x: dt.datetime.strptime(x, '%b %d, %Y'))\n",
    "\n",
    "# convert production_budget, domestic_gross, worldwide_gross to date format\n",
    "tn.production_budget = tn.production_budget.map(lambda x: int(x.replace(',','').replace('$','')))\n",
    "tn.domestic_gross = tn.domestic_gross.map(lambda x: int(x.replace(',','').replace('$','')))\n",
    "tn.worldwide_gross = tn.worldwide_gross.map(lambda x: int(x.replace(',','').replace('$','')))\n",
    "\n",
    "#add profit column\n",
    "tn['profit'] = tn.worldwide_gross - tn.production_budget"
   ]
  },
  {
   "cell_type": "markdown",
   "metadata": {},
   "source": [
    "### TMDB"
   ]
  },
  {
   "cell_type": "code",
   "execution_count": 22,
   "metadata": {},
   "outputs": [],
   "source": [
    "query_tmdb = ('''\n",
    "SELECT * FROM tmdb_movies\n",
    "''')\n",
    "tmdb = pd.read_sql_query(query_tmdb, con)"
   ]
  },
  {
   "cell_type": "markdown",
   "metadata": {},
   "source": [
    "### RT"
   ]
  },
  {
   "cell_type": "code",
   "execution_count": 23,
   "metadata": {},
   "outputs": [],
   "source": [
    "query_rt_info = ('''\n",
    "SELECT * FROM rt_movie_info\n",
    "''')\n",
    "rt_info = pd.read_sql_query(query_rt_info, con)"
   ]
  },
  {
   "cell_type": "code",
   "execution_count": 24,
   "metadata": {},
   "outputs": [],
   "source": [
    "query_rt_reviews = ('''\n",
    "SELECT * FROM rt_reviews\n",
    "''')\n",
    "rt_reviews = pd.read_sql_query(query_rt_reviews, con)"
   ]
  },
  {
   "cell_type": "markdown",
   "metadata": {},
   "source": [
    "# Bringing Them All Together"
   ]
  },
  {
   "cell_type": "code",
   "execution_count": null,
   "metadata": {},
   "outputs": [],
   "source": []
  },
  {
   "cell_type": "markdown",
   "metadata": {},
   "source": [
    "# Top 200 Lucrative Movies"
   ]
  },
  {
   "cell_type": "code",
   "execution_count": 25,
   "metadata": {},
   "outputs": [],
   "source": [
    "# get top 200 lucrative domestic movies\n",
    "bom_top200_domestic = bom.sort_values('domestic_gross', ascending = False).head(200)   "
   ]
  },
  {
   "cell_type": "code",
   "execution_count": null,
   "metadata": {},
   "outputs": [],
   "source": []
  }
 ],
 "metadata": {
  "kernelspec": {
   "display_name": "Python 3",
   "language": "python",
   "name": "python3"
  },
  "language_info": {
   "codemirror_mode": {
    "name": "ipython",
    "version": 3
   },
   "file_extension": ".py",
   "mimetype": "text/x-python",
   "name": "python",
   "nbconvert_exporter": "python",
   "pygments_lexer": "ipython3",
   "version": "3.7.6"
  }
 },
 "nbformat": 4,
 "nbformat_minor": 4
}
