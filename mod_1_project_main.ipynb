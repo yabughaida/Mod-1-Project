{
 "cells": [
  {
   "cell_type": "markdown",
   "metadata": {},
   "source": [
    "### Mod 1 Project --- Data Movie"
   ]
  },
  {
   "cell_type": "code",
   "execution_count": 1,
   "metadata": {},
   "outputs": [],
   "source": [
    "#top 50 lucrative movies from  tn_movie_budgets and bom_movie_gross   (find their ratings)\n",
    "# most (top50) popular movies from tmdb_movies\n",
    "# highest(top 50) ratings from imdb_title_ratings\n",
    "\n",
    "# select common movies from above list\n",
    "#find their genre, directors"
   ]
  },
  {
   "cell_type": "markdown",
   "metadata": {},
   "source": [
    "### Import libraries & database"
   ]
  },
  {
   "cell_type": "code",
   "execution_count": 1,
   "metadata": {
    "scrolled": false
   },
   "outputs": [
    {
     "name": "stdout",
     "output_type": "stream",
     "text": [
      "Requirement already satisfied: mysql-connector-python in c:\\users\\yazan\\anaconda3\\lib\\site-packages (8.0.20)\n",
      "Requirement already satisfied: protobuf>=3.0.0 in c:\\users\\yazan\\anaconda3\\lib\\site-packages (from mysql-connector-python) (3.12.2)\n",
      "Requirement already satisfied: six>=1.9 in c:\\users\\yazan\\anaconda3\\lib\\site-packages (from protobuf>=3.0.0->mysql-connector-python) (1.14.0)\n",
      "Requirement already satisfied: setuptools in c:\\users\\yazan\\anaconda3\\lib\\site-packages (from protobuf>=3.0.0->mysql-connector-python) (45.2.0.post20200210)\n"
     ]
    }
   ],
   "source": [
    "!pip install mysql-connector-python\n",
    "#!pip install fuzzywuzzy\n",
    "#!pip install python-Levenshtein"
   ]
  },
  {
   "cell_type": "code",
   "execution_count": 2,
   "metadata": {},
   "outputs": [],
   "source": [
    "import pandas as pd\n",
    "import numpy as np\n",
    "import mysql.connector\n",
    "import datetime as dt\n",
    "import matplotlib.pyplot as plt\n",
    "import seaborn as sns\n",
    "import string\n",
    "#from fuzzywuzzy import fuzz\n",
    "#from fuzzywuzzy import process\n",
    "%matplotlib inline"
   ]
  },
  {
   "cell_type": "code",
   "execution_count": 3,
   "metadata": {},
   "outputs": [],
   "source": [
    "con = mysql.connector.connect(user='hbs-student', password='super-secure-password?',\n",
    "                              host='hbs-ds-060120.c1doesqrid0e.us-east-1.rds.amazonaws.com',\n",
    "                              database='movies')\n",
    "cur = con.cursor()"
   ]
  },
  {
   "cell_type": "markdown",
   "metadata": {},
   "source": [
    "# Data Cleaning"
   ]
  },
  {
   "cell_type": "markdown",
   "metadata": {},
   "source": [
    "### IMDB Titles"
   ]
  },
  {
   "cell_type": "code",
   "execution_count": 4,
   "metadata": {},
   "outputs": [],
   "source": [
    "query = ('''\n",
    "SELECT *\n",
    "FROM imdb_title_basics imdb_b\n",
    "JOIN imdb_title_crew imdb_c USING (tconst)\n",
    "JOIN imdb_title_ratings imdb_e USING (tconst)\n",
    "''')\n",
    "imdb_titles = pd.read_sql_query(query, con)\n",
    "#joining all IMDB title tables using title ids and name ids"
   ]
  },
  {
   "cell_type": "code",
   "execution_count": 5,
   "metadata": {
    "scrolled": true
   },
   "outputs": [
    {
     "data": {
      "text/plain": [
       "tconst                 0\n",
       "primary_title          0\n",
       "original_title         0\n",
       "start_year             0\n",
       "runtime_minutes     7620\n",
       "genres                 0\n",
       "directors              0\n",
       "writers            10561\n",
       "averagerating          0\n",
       "numvotes               0\n",
       "dtype: int64"
      ]
     },
     "execution_count": 5,
     "metadata": {},
     "output_type": "execute_result"
    }
   ],
   "source": [
    "imdb_titles.isna().sum()\n",
    "#checking for null values"
   ]
  },
  {
   "cell_type": "code",
   "execution_count": 6,
   "metadata": {},
   "outputs": [],
   "source": [
    "imdb_titles = imdb_titles.dropna(subset=['runtime_minutes'])\n",
    "imdb_titles = imdb_titles.dropna(subset=['writers'])\n",
    "#Removing rows with null values for runtime minutes and writers"
   ]
  },
  {
   "cell_type": "code",
   "execution_count": 7,
   "metadata": {},
   "outputs": [],
   "source": [
    "pd.set_option('display.max_columns',None)\n",
    "# Want to see all columns to see which are going to be useful"
   ]
  },
  {
   "cell_type": "code",
   "execution_count": 8,
   "metadata": {},
   "outputs": [],
   "source": [
    "imdb_titles['genres'] = imdb_titles['genres'].map(lambda x: x.split(','))\n",
    "imdb_titles['directors'] = imdb_titles['directors'].map(lambda x: x.split(','))\n",
    "imdb_titles['writers'] = imdb_titles['writers'].map(lambda x: x.split(','))\n",
    "# Converting genres, directors, writers to lists, so we can easily check most popular later."
   ]
  },
  {
   "cell_type": "code",
   "execution_count": 9,
   "metadata": {},
   "outputs": [],
   "source": [
    "imdb_titles['age_of_movie']= 2020 - imdb_titles['start_year']\n",
    "#Creating new column to have \"age of movie\" as a reference"
   ]
  },
  {
   "cell_type": "code",
   "execution_count": 10,
   "metadata": {},
   "outputs": [],
   "source": [
    "imdb_titles['dummy_title'] = imdb_titles['primary_title'].str.replace('[^\\w\\s\\d]','')\n",
    "imdb_titles['dummy_title'] = imdb_titles['dummy_title'].str.replace('[ ]','_')\n",
    "imdb_titles['dummy_title'] = imdb_titles['dummy_title'].str.lower()\n",
    "imdb_titles['dummy_title'] = imdb_titles['dummy_title'].map(lambda x: x.strip())\n",
    "#Creating a dummy_title column, to be used for our dummy_key"
   ]
  },
  {
   "cell_type": "code",
   "execution_count": 11,
   "metadata": {},
   "outputs": [],
   "source": [
    "imdb_titles['start_year'] = imdb_titles['start_year'].map(lambda x: str(x))\n",
    "#Turning start_year to string so that I can combine it with dummy_title in another column"
   ]
  },
  {
   "cell_type": "code",
   "execution_count": 12,
   "metadata": {},
   "outputs": [],
   "source": [
    "imdb_titles['dummy_key'] = imdb_titles['dummy_title'] + \"_\" + imdb_titles['start_year']\n",
    "#Creating a new column for dummy_key"
   ]
  },
  {
   "cell_type": "code",
   "execution_count": 13,
   "metadata": {},
   "outputs": [],
   "source": [
    "imdb_titles = imdb_titles.drop(columns=['dummy_title'])\n",
    "#removing dummy_title since I have the dummy_key I need"
   ]
  },
  {
   "cell_type": "markdown",
   "metadata": {},
   "source": [
    "### IMDB Crew"
   ]
  },
  {
   "cell_type": "code",
   "execution_count": 14,
   "metadata": {},
   "outputs": [],
   "source": [
    "query = ('''\n",
    "SELECT *\n",
    "FROM imdb_name_basics\n",
    "''')\n",
    "imdb_crew = pd.read_sql_query(query, con)"
   ]
  },
  {
   "cell_type": "code",
   "execution_count": 15,
   "metadata": {
    "scrolled": true
   },
   "outputs": [
    {
     "data": {
      "text/plain": [
       "nconst                     0\n",
       "primary_name               0\n",
       "birth_year            523912\n",
       "death_year            599865\n",
       "primary_profession         0\n",
       "known_for_titles           0\n",
       "dtype: int64"
      ]
     },
     "execution_count": 15,
     "metadata": {},
     "output_type": "execute_result"
    }
   ],
   "source": [
    "imdb_crew.isna().sum()\n",
    "# Checking for null values"
   ]
  },
  {
   "cell_type": "code",
   "execution_count": 16,
   "metadata": {
    "scrolled": true
   },
   "outputs": [],
   "source": [
    "imdb_crew = imdb_crew.fillna(0)\n",
    "#Replacing null values with 0"
   ]
  },
  {
   "cell_type": "code",
   "execution_count": 17,
   "metadata": {},
   "outputs": [],
   "source": [
    "imdb_crew['birth_year'] = imdb_crew['birth_year'].map(lambda x: int(x))\n",
    "imdb_crew['death_year'] = imdb_crew['death_year'].map(lambda x: int(x))\n",
    "#Converting birth years and death years to integer"
   ]
  },
  {
   "cell_type": "code",
   "execution_count": 18,
   "metadata": {},
   "outputs": [
    {
     "name": "stdout",
     "output_type": "stream",
     "text": [
      "<class 'pandas.core.frame.DataFrame'>\n",
      "RangeIndex: 606648 entries, 0 to 606647\n",
      "Data columns (total 6 columns):\n",
      " #   Column              Non-Null Count   Dtype \n",
      "---  ------              --------------   ----- \n",
      " 0   nconst              606648 non-null  object\n",
      " 1   primary_name        606648 non-null  object\n",
      " 2   birth_year          606648 non-null  int64 \n",
      " 3   death_year          606648 non-null  int64 \n",
      " 4   primary_profession  606648 non-null  object\n",
      " 5   known_for_titles    606648 non-null  object\n",
      "dtypes: int64(2), object(4)\n",
      "memory usage: 27.8+ MB\n"
     ]
    }
   ],
   "source": [
    "imdb_crew.info()"
   ]
  },
  {
   "cell_type": "code",
   "execution_count": 19,
   "metadata": {},
   "outputs": [],
   "source": [
    "imdb_crew['primary_profession'] = imdb_crew['primary_profession'].map(lambda x: x.split(','))\n",
    "imdb_crew['known_for_titles'] = imdb_crew['known_for_titles'].map(lambda x: x.split(','))\n",
    "#Converting these to lists so we can easily reference them later"
   ]
  },
  {
   "cell_type": "code",
   "execution_count": 20,
   "metadata": {},
   "outputs": [],
   "source": [
    "imdb_crew['age'] = imdb_crew.apply(lambda row: (2020 - row['birth_year']) if row['death_year'] == 0 else None, axis=1)\n",
    "#Adding an age column. If the age is 2020, it means that there is no birth year available. If the age is equal to None, it means the person is dead."
   ]
  },
  {
   "cell_type": "markdown",
   "metadata": {},
   "source": [
    "### BOM"
   ]
  },
  {
   "cell_type": "code",
   "execution_count": 21,
   "metadata": {},
   "outputs": [],
   "source": [
    "query = ('''\n",
    "SELECT * FROM bom_movie_gross\n",
    "''')\n",
    "bom = pd.read_sql_query(query, con)"
   ]
  },
  {
   "cell_type": "code",
   "execution_count": 22,
   "metadata": {},
   "outputs": [],
   "source": [
    "#drop Null value in domestic_gross\n",
    "bom = bom.dropna(subset =['domestic_gross'])\n",
    "\n",
    "#convert Null value in foreign_gross to 0\n",
    "bom.foreign_gross = bom.foreign_gross.fillna(0)\n",
    "\n",
    "#convert domestic_gross and foreign_gross from float to int\n",
    "bom.domestic_gross = bom.domestic_gross.map(lambda x: int(x))   \n",
    "bom.foreign_gross = bom.foreign_gross.map(lambda x: int(x))  "
   ]
  },
  {
   "cell_type": "code",
   "execution_count": 23,
   "metadata": {},
   "outputs": [],
   "source": [
    "#remove spaces on both end of strings\n",
    "bom.title = bom.title.map(lambda x: x.strip())\n",
    "bom.studio = bom.studio.map(lambda x: x.strip())"
   ]
  },
  {
   "cell_type": "code",
   "execution_count": 24,
   "metadata": {},
   "outputs": [],
   "source": [
    "#convert year to str\n",
    "bom['year'] = bom['year'].map(str)\n",
    "\n",
    "#remove all punctuation and numbers inside movie title\n",
    "translator1 = str.maketrans('0123456789','..........')\n",
    "translator2 = str.maketrans('', '', string.punctuation)\n",
    "bom['title_cleaned'] = bom.title.map(lambda x: x.translate(translator1).translate(translator2).strip())\n",
    "\n",
    "#combine title and year\n",
    "bom['title_cleaned'] = bom['title_cleaned'] + '_' + bom['year']\n",
    "\n",
    "#replace all empty spaces with _ and lower all string\n",
    "bom['title_cleaned'] = bom['title_cleaned'].str.replace(' ','_').str.lower()\n",
    "\n",
    "#convert year back to int\n",
    "bom['year'] = bom['year'].map(int)"
   ]
  },
  {
   "cell_type": "markdown",
   "metadata": {},
   "source": [
    "### TN"
   ]
  },
  {
   "cell_type": "code",
   "execution_count": 25,
   "metadata": {},
   "outputs": [],
   "source": [
    "query_tn = ('''\n",
    "SELECT * FROM tn_movie_budgets\n",
    "''')\n",
    "tn = pd.read_sql_query(query_tn, con)"
   ]
  },
  {
   "cell_type": "code",
   "execution_count": 26,
   "metadata": {},
   "outputs": [],
   "source": [
    "# convert release_date to date format\n",
    "tn.release_date = tn.release_date.map(lambda x: dt.datetime.strptime(x, '%b %d, %Y'))\n",
    "\n",
    "# convert production_budget, domestic_gross, worldwide_gross to date format\n",
    "tn.production_budget = tn.production_budget.map(lambda x: int(x.replace(',','').replace('$','')))\n",
    "tn.domestic_gross = tn.domestic_gross.map(lambda x: int(x.replace(',','').replace('$','')))\n",
    "tn.worldwide_gross = tn.worldwide_gross.map(lambda x: int(x.replace(',','').replace('$','')))\n",
    "\n",
    "#add profit column\n",
    "tn['profit'] = tn.worldwide_gross - tn.production_budget"
   ]
  },
  {
   "cell_type": "code",
   "execution_count": 27,
   "metadata": {},
   "outputs": [],
   "source": [
    "#add new column for release year\n",
    "tn['year'] = tn.release_date.map(lambda x: str(x.year))\n",
    "\n",
    "#remove all punctuation and numbers inside movie title\n",
    "translator1 = str.maketrans('0123456789','..........')\n",
    "translator2 = str.maketrans('', '', string.punctuation)\n",
    "tn['title_cleaned'] = tn.movie.map(lambda x: x.translate(translator1).translate(translator2).strip())\n",
    "\n",
    "#combine title and year\n",
    "tn['title_cleaned'] = tn['title_cleaned']+'_'+tn['year']\n",
    "\n",
    "#replace all empty spaces with _ and lower all string\n",
    "tn['title_cleaned'] = tn['title_cleaned'].str.replace(' ','_').str.lower()\n",
    "\n",
    "#drop column year\n",
    "tn = tn.drop(axis = 1, columns='year')"
   ]
  },
  {
   "cell_type": "markdown",
   "metadata": {},
   "source": [
    "### TMDB"
   ]
  },
  {
   "cell_type": "code",
   "execution_count": 28,
   "metadata": {},
   "outputs": [],
   "source": [
    "query_tmdb = ('''\n",
    "SELECT * FROM tmdb_movies\n",
    "''')\n",
    "tmdb = pd.read_sql_query(query_tmdb, con)"
   ]
  },
  {
   "cell_type": "code",
   "execution_count": 29,
   "metadata": {},
   "outputs": [],
   "source": [
    "query_tmdb_link = ('''\n",
    "SELECT * FROM tmdb_imdb_link\n",
    "''')\n",
    "tmdb_link = pd.read_sql_query(query_tmdb_link, con)"
   ]
  },
  {
   "cell_type": "code",
   "execution_count": 30,
   "metadata": {},
   "outputs": [],
   "source": [
    "#convert genre_ids to int\n",
    "tmdb.genre_ids.map(lambda x: int(x))\n",
    "\n",
    "#remove spaces on both end of strings\n",
    "tmdb.original_language = tmdb.original_language.map(lambda x: x.strip())\n",
    "tmdb.original_title = tmdb.original_title.map(lambda x: x.strip())\n",
    "tmdb.title = tmdb.title.map(lambda x: x.strip())"
   ]
  },
  {
   "cell_type": "code",
   "execution_count": 31,
   "metadata": {},
   "outputs": [],
   "source": [
    "#Join tmdb and tmdb_link tables\n",
    "tmdb = tmdb.join(tmdb_link.set_index('tmdb_id'), on = 'id', how = 'left')"
   ]
  },
  {
   "cell_type": "code",
   "execution_count": 32,
   "metadata": {},
   "outputs": [],
   "source": [
    "#clean the joined table\n",
    "tmdb.imdb_id = tmdb.imdb_id.fillna(0).map(lambda x: int(x))"
   ]
  },
  {
   "cell_type": "code",
   "execution_count": 33,
   "metadata": {},
   "outputs": [],
   "source": [
    "#add new column for release year\n",
    "tmdb['year'] = tmdb.release_date.map(lambda x: str(x.year))\n",
    "\n",
    "#remove all punctuation and numbers inside movie title\n",
    "translator1 = str.maketrans('0123456789','..........')\n",
    "translator2 = str.maketrans('', '', string.punctuation)\n",
    "tmdb['title_cleaned'] = tmdb.title.map(lambda x: x.translate(translator1).translate(translator2).strip())\n",
    "\n",
    "#combine title and year\n",
    "tmdb['title_cleaned'] = tmdb['title_cleaned']+'_'+tmdb['year']\n",
    "\n",
    "#replace all empty spaces with _ and lower all string\n",
    "tmdb['title_cleaned'] = tmdb['title_cleaned'].str.replace(' ','_').str.lower()\n",
    "\n",
    "#drop column year\n",
    "tmdb = tmdb.drop(axis = 1, columns='year')"
   ]
  },
  {
   "cell_type": "markdown",
   "metadata": {},
   "source": [
    "### RT"
   ]
  },
  {
   "cell_type": "code",
   "execution_count": 34,
   "metadata": {},
   "outputs": [],
   "source": [
    "query_rt_info = ('''\n",
    "SELECT * FROM rt_movie_info\n",
    "''')\n",
    "rt_info = pd.read_sql_query(query_rt_info, con)"
   ]
  },
  {
   "cell_type": "code",
   "execution_count": 35,
   "metadata": {},
   "outputs": [],
   "source": [
    "query_rt_reviews = ('''\n",
    "SELECT * FROM rt_reviews\n",
    "''')\n",
    "rt_reviews = pd.read_sql_query(query_rt_reviews, con)"
   ]
  },
  {
   "cell_type": "code",
   "execution_count": 36,
   "metadata": {},
   "outputs": [],
   "source": [
    "query_rt_link = ('''\n",
    "SELECT * FROM rt_imdb_link\n",
    "''')\n",
    "rt_link = pd.read_sql_query(query_rt_link, con)"
   ]
  },
  {
   "cell_type": "markdown",
   "metadata": {},
   "source": [
    "### RT_Info Cleaning"
   ]
  },
  {
   "cell_type": "code",
   "execution_count": 37,
   "metadata": {},
   "outputs": [
    {
     "name": "stderr",
     "output_type": "stream",
     "text": [
      "C:\\Users\\yazan\\anaconda3\\lib\\site-packages\\pandas\\core\\indexing.py:670: SettingWithCopyWarning: \n",
      "A value is trying to be set on a copy of a slice from a DataFrame\n",
      "\n",
      "See the caveats in the documentation: https://pandas.pydata.org/pandas-docs/stable/user_guide/indexing.html#returning-a-view-versus-a-copy\n",
      "  self._setitem_with_indexer(indexer, value)\n"
     ]
    }
   ],
   "source": [
    "#replace empty value in theater_date and dvd_date with Jan 1,1000\n",
    "rt_info['theater_date'].loc[rt_info.theater_date == ''] = 'Jan 1, 1000'\n",
    "rt_info['dvd_date'].loc[rt_info.dvd_date == ''] = 'Jan 1, 1000'"
   ]
  },
  {
   "cell_type": "code",
   "execution_count": 38,
   "metadata": {},
   "outputs": [],
   "source": [
    "#convert theater_date and dvd_date to datetime format\n",
    "rt_info.theater_date = rt_info.theater_date.map(lambda x: dt.datetime.strptime(x, '%b %d, %Y').date())\n",
    "rt_info.dvd_date = rt_info.dvd_date.map(lambda x: dt.datetime.strptime(x, '%b %d, %Y').date())"
   ]
  },
  {
   "cell_type": "code",
   "execution_count": 39,
   "metadata": {},
   "outputs": [],
   "source": [
    "#clean box_office date\n",
    "rt_info['box_office'].loc[rt_info.box_office == ''] = '0'\n",
    "rt_info['box_office'] = rt_info.box_office.map(lambda x: int(x.replace(',', '')))"
   ]
  },
  {
   "cell_type": "code",
   "execution_count": 40,
   "metadata": {},
   "outputs": [],
   "source": [
    "#clean runtime (replace empty value with 0)\n",
    "rt_info['runtime'].loc[rt_info.runtime == ''] = '0'\n",
    "rt_info['runtime'] = rt_info.runtime.map(lambda x: int(x.replace('minutes', '')))"
   ]
  },
  {
   "cell_type": "code",
   "execution_count": 41,
   "metadata": {},
   "outputs": [],
   "source": [
    "#remove spaces on both end of strings\n",
    "rt_info.synopsis = rt_info.synopsis.map(lambda x: x.strip())\n",
    "rt_info.rating = rt_info.rating.map(lambda x: x.strip())\n",
    "rt_info.genre = rt_info.genre.map(lambda x: x.strip())\n",
    "rt_info.director = rt_info.director.map(lambda x: x.strip())\n",
    "rt_info.writer = rt_info.writer.map(lambda x: x.strip())"
   ]
  },
  {
   "cell_type": "code",
   "execution_count": 42,
   "metadata": {},
   "outputs": [],
   "source": [
    "rt_info['genre'] = rt_info['genre'].map(lambda x: x.split('|'))\n",
    "rt_info['writer'] = rt_info['writer'].map(lambda x: x.split('|'))\n",
    "rt_info['director'] = rt_info['director'].map(lambda x: x.split('|'))\n",
    "#Converting genre, writer, director to list so we can reference them easily"
   ]
  },
  {
   "cell_type": "code",
   "execution_count": 43,
   "metadata": {},
   "outputs": [],
   "source": [
    "rt_info = rt_info.drop(columns=['box_office','currency'],axis=1)\n",
    "#Dropping box_office because we have better data on another table, dropping currency because we removed box office data"
   ]
  },
  {
   "cell_type": "markdown",
   "metadata": {},
   "source": [
    "### RT_Reviews Cleaning"
   ]
  },
  {
   "cell_type": "code",
   "execution_count": 44,
   "metadata": {},
   "outputs": [],
   "source": [
    "#convert date to datetime format\n",
    "rt_reviews.date = rt_reviews.date.map(lambda x: dt.datetime.strptime(x, '%B %d, %Y').date())"
   ]
  },
  {
   "cell_type": "code",
   "execution_count": 45,
   "metadata": {},
   "outputs": [],
   "source": [
    "#convert top_critic to int\n",
    "rt_reviews.top_critic = rt_reviews.top_critic.map(lambda x: int(x))"
   ]
  },
  {
   "cell_type": "code",
   "execution_count": 46,
   "metadata": {},
   "outputs": [],
   "source": [
    "#remove spaces on both end of strings\n",
    "rt_reviews.review = rt_reviews.review.map(lambda x: x.strip())\n",
    "rt_reviews.rating = rt_reviews.rating.map(lambda x: x.strip())\n",
    "rt_reviews.fresh = rt_reviews.fresh.map(lambda x: x.strip())\n",
    "rt_reviews.critic = rt_reviews.critic.map(lambda x: x.strip())\n",
    "rt_reviews.publisher = rt_reviews.publisher.map(lambda x: x.strip())"
   ]
  },
  {
   "cell_type": "markdown",
   "metadata": {},
   "source": [
    "### RT_link cleaning"
   ]
  },
  {
   "cell_type": "code",
   "execution_count": 47,
   "metadata": {},
   "outputs": [],
   "source": [
    "rt_link.year = rt_link.year.fillna(1000)"
   ]
  },
  {
   "cell_type": "code",
   "execution_count": 48,
   "metadata": {},
   "outputs": [
    {
     "name": "stdout",
     "output_type": "stream",
     "text": [
      "<class 'pandas.core.frame.DataFrame'>\n",
      "RangeIndex: 17468 entries, 0 to 17467\n",
      "Data columns (total 6 columns):\n",
      " #   Column       Non-Null Count  Dtype  \n",
      "---  ------       --------------  -----  \n",
      " 0   imdbid       17468 non-null  int64  \n",
      " 1   rtid         17468 non-null  int64  \n",
      " 2   title        17468 non-null  object \n",
      " 3   year         17468 non-null  float64\n",
      " 4   mpaa_rating  17468 non-null  object \n",
      " 5   runtime      17468 non-null  object \n",
      "dtypes: float64(1), int64(2), object(3)\n",
      "memory usage: 818.9+ KB\n"
     ]
    }
   ],
   "source": [
    "rt_link.info()"
   ]
  },
  {
   "cell_type": "code",
   "execution_count": 49,
   "metadata": {},
   "outputs": [],
   "source": [
    "#replace empty space to year 1000 in year\n",
    "rt_link.year = rt_link.year.fillna(1000)\n",
    "\n",
    "#convert date to datetime format\n",
    "rt_link.year = rt_link.year.map(lambda x: (int(x)))"
   ]
  },
  {
   "cell_type": "code",
   "execution_count": 50,
   "metadata": {},
   "outputs": [],
   "source": [
    "#replace empty space in runtime to 0\n",
    "rt_link['runtime'].loc[rt_link.runtime == ''] = '0'\n",
    "\n",
    "#convert runtime to int format\n",
    "rt_link.runtime = rt_link.runtime.map(lambda x: (int(x)))"
   ]
  },
  {
   "cell_type": "code",
   "execution_count": 51,
   "metadata": {},
   "outputs": [],
   "source": [
    "#convert year to str\n",
    "rt_link['year'] = rt_link['year'].map(str)\n",
    "\n",
    "#remove all punctuation and numbers inside movie title\n",
    "translator1 = str.maketrans('0123456789','..........')\n",
    "translator2 = str.maketrans('', '', string.punctuation)\n",
    "rt_link['title_cleaned'] = rt_link.title.map(lambda x: x.translate(translator1).translate(translator2).strip())\n",
    "\n",
    "#combine title and year\n",
    "rt_link['title_cleaned'] = rt_link['title_cleaned'] + '_' + rt_link['year']\n",
    "\n",
    "#replace all empty spaces with _ and lower all string\n",
    "rt_link['title_cleaned'] = rt_link['title_cleaned'].str.replace(' ','_').str.lower()\n",
    "\n",
    "#convert year back to int\n",
    "rt_link['year'] = rt_link['year'].map(int)"
   ]
  },
  {
   "cell_type": "markdown",
   "metadata": {},
   "source": [
    "# Top 200 Profitable Movies after 2000"
   ]
  },
  {
   "cell_type": "markdown",
   "metadata": {},
   "source": [
    "### Both BOM and TN have similar information about budget, but TN database is more complete so we decided to use TN to calculate profit."
   ]
  },
  {
   "cell_type": "code",
   "execution_count": 52,
   "metadata": {},
   "outputs": [],
   "source": [
    "# get top 200 revenue domestic movies after 2000\n",
    "top200_revenue_domestic = tn.loc[tn.release_date>dt.datetime(2000,1,1)].sort_values('domestic_gross',ascending=False).head(200)\n",
    "\n",
    "# get top 200 revenue worldwide movies after 2000\n",
    "top200_revenue_world = tn.loc[tn.release_date>dt.datetime(2000,1,1)].sort_values('worldwide_gross',ascending=False).head(200)\n",
    "\n",
    "# get top 200 profit movies after 2000\n",
    "top200_profit = tn.loc[tn.release_date>dt.datetime(2000,1,1)].sort_values('profit',ascending=False).head(200)"
   ]
  },
  {
   "cell_type": "code",
   "execution_count": 53,
   "metadata": {},
   "outputs": [],
   "source": [
    "# there are only 140 movies from top200_profit that can be find inside imdb datebdase. \n",
    "# So we narrowed our data to these 140 movies\n",
    "\n",
    "top140_profit_imdb = imdb_titles.loc[imdb_titles.primary_title.isin(list(top200_profit.movie))]"
   ]
  },
  {
   "cell_type": "code",
   "execution_count": 54,
   "metadata": {},
   "outputs": [],
   "source": [
    "#fuzz.ratio('ss','ss')"
   ]
  },
  {
   "cell_type": "code",
   "execution_count": 55,
   "metadata": {},
   "outputs": [],
   "source": [
    "#count=0\n",
    "#for i in top200_profit.movie:\n",
    "#    for j in imdb_titles.primary_title:\n",
    "#        if fuzz.ratio(i,j)>80:\n",
    "#            print(i,j)\n",
    "#            count +=1\n"
   ]
  },
  {
   "cell_type": "code",
   "execution_count": 56,
   "metadata": {},
   "outputs": [],
   "source": [
    "# drop original title\n",
    "top140_profit_imdb = top140_profit_imdb.drop(axis = 1, columns = 'original_title')"
   ]
  },
  {
   "cell_type": "code",
   "execution_count": 57,
   "metadata": {},
   "outputs": [],
   "source": [
    "#join tn and imdb database together for top 140 movies\n",
    "top140_profit = top140_profit_imdb.merge(\n",
    "    top200_profit, left_on='primary_title', right_on ='movie').drop(\n",
    "    axis=1, columns=['start_year', 'id'])"
   ]
  },
  {
   "cell_type": "markdown",
   "metadata": {},
   "source": [
    "### TN Database"
   ]
  },
  {
   "cell_type": "code",
   "execution_count": 58,
   "metadata": {},
   "outputs": [],
   "source": [
    "# get top 200 revenue domestic movies\n",
    "tn_top200_domestic = tn.sort_values('domestic_gross',ascending=False).head(200)\n",
    "\n",
    "# get top 200 revenue worldwide movies\n",
    "tn_top200_world = tn.sort_values('worldwide_gross',ascending=False).head(200)\n",
    "\n",
    "# get top 200 profit movies\n",
    "tn_top200_profit = tn.sort_values('profit',ascending=False).head(200)"
   ]
  },
  {
   "cell_type": "code",
   "execution_count": 59,
   "metadata": {},
   "outputs": [],
   "source": [
    "#Plot top 10 highest profit movies with bar chart\n",
    "#Scatter plots for top 200, production cost x revenue\n",
    "#Most common genre 200 movies\n",
    "# Top 3 directors for money"
   ]
  },
  {
   "cell_type": "markdown",
   "metadata": {},
   "source": [
    "# Top 200 Highest Rated Movies after 2000"
   ]
  },
  {
   "cell_type": "markdown",
   "metadata": {},
   "source": [
    "### Because the ratings on the RT table are inconsistent (Some show A+, some 4/5, some 7.5/10, etc), I will use the IMDB and TMDB ratings"
   ]
  },
  {
   "cell_type": "code",
   "execution_count": 60,
   "metadata": {},
   "outputs": [],
   "source": [
    "#To get tmdb['imdb_id'] to line up with the imdb table, I want to remove the \"tt\" at the beginning of the values in the imdb_titles['tconst'] column.\n",
    "imdb_titles['tconst'] = imdb_titles['tconst'].str[2:]\n",
    "#Similarly, I want to make sure that tmdb['imdb_id'] has 7 digits, using 0 as a filler, so that they match\n",
    "tmdb['imdb_id'] = tmdb['imdb_id'].astype(str).str.rjust(7,'0')"
   ]
  },
  {
   "cell_type": "code",
   "execution_count": 61,
   "metadata": {
    "scrolled": true
   },
   "outputs": [],
   "source": [
    "rating = imdb_titles.merge(tmdb,left_on='tconst',right_on='imdb_id')"
   ]
  },
  {
   "cell_type": "code",
   "execution_count": 62,
   "metadata": {},
   "outputs": [],
   "source": [
    "#Dropping some less relevant columns\n",
    "rating = rating.drop(columns=['original_title_x','original_title_y','id','genre_ids'])"
   ]
  },
  {
   "cell_type": "code",
   "execution_count": 63,
   "metadata": {
    "scrolled": true
   },
   "outputs": [
    {
     "data": {
      "text/html": [
       "<div>\n",
       "<style scoped>\n",
       "    .dataframe tbody tr th:only-of-type {\n",
       "        vertical-align: middle;\n",
       "    }\n",
       "\n",
       "    .dataframe tbody tr th {\n",
       "        vertical-align: top;\n",
       "    }\n",
       "\n",
       "    .dataframe thead th {\n",
       "        text-align: right;\n",
       "    }\n",
       "</style>\n",
       "<table border=\"1\" class=\"dataframe\">\n",
       "  <thead>\n",
       "    <tr style=\"text-align: right;\">\n",
       "      <th></th>\n",
       "      <th>tconst</th>\n",
       "      <th>primary_title</th>\n",
       "      <th>start_year</th>\n",
       "      <th>runtime_minutes</th>\n",
       "      <th>genres</th>\n",
       "      <th>directors</th>\n",
       "      <th>writers</th>\n",
       "      <th>averagerating</th>\n",
       "      <th>numvotes</th>\n",
       "      <th>age_of_movie</th>\n",
       "      <th>dummy_key</th>\n",
       "      <th>original_language</th>\n",
       "      <th>popularity</th>\n",
       "      <th>release_date</th>\n",
       "      <th>title</th>\n",
       "      <th>vote_average</th>\n",
       "      <th>vote_count</th>\n",
       "      <th>imdb_id</th>\n",
       "      <th>title_cleaned</th>\n",
       "    </tr>\n",
       "  </thead>\n",
       "  <tbody>\n",
       "    <tr>\n",
       "      <th>0</th>\n",
       "      <td>0069049</td>\n",
       "      <td>The Other Side of the Wind</td>\n",
       "      <td>2018</td>\n",
       "      <td>122.0</td>\n",
       "      <td>[Drama]</td>\n",
       "      <td>[nm0000080]</td>\n",
       "      <td>[nm0000080, nm0462648]</td>\n",
       "      <td>6.9</td>\n",
       "      <td>4517</td>\n",
       "      <td>2</td>\n",
       "      <td>the_other_side_of_the_wind_2018</td>\n",
       "      <td>en</td>\n",
       "      <td>9.800</td>\n",
       "      <td>2018-11-02</td>\n",
       "      <td>The Other Side of the Wind</td>\n",
       "      <td>7.0</td>\n",
       "      <td>64</td>\n",
       "      <td>0069049</td>\n",
       "      <td>the_other_side_of_the_wind_2018</td>\n",
       "    </tr>\n",
       "    <tr>\n",
       "      <th>1</th>\n",
       "      <td>0249516</td>\n",
       "      <td>Foodfight!</td>\n",
       "      <td>2012</td>\n",
       "      <td>91.0</td>\n",
       "      <td>[Action, Animation, Comedy]</td>\n",
       "      <td>[nm0440415]</td>\n",
       "      <td>[nm0440415, nm0923312, nm0295165, nm0841854, n...</td>\n",
       "      <td>1.9</td>\n",
       "      <td>8248</td>\n",
       "      <td>8</td>\n",
       "      <td>foodfight_2012</td>\n",
       "      <td>en</td>\n",
       "      <td>4.705</td>\n",
       "      <td>2013-05-07</td>\n",
       "      <td>Foodfight!</td>\n",
       "      <td>2.1</td>\n",
       "      <td>46</td>\n",
       "      <td>0249516</td>\n",
       "      <td>foodfight_2013</td>\n",
       "    </tr>\n",
       "    <tr>\n",
       "      <th>2</th>\n",
       "      <td>0293069</td>\n",
       "      <td>Dark Blood</td>\n",
       "      <td>2012</td>\n",
       "      <td>86.0</td>\n",
       "      <td>[Thriller]</td>\n",
       "      <td>[nm0806293]</td>\n",
       "      <td>[nm0059172]</td>\n",
       "      <td>6.6</td>\n",
       "      <td>1053</td>\n",
       "      <td>8</td>\n",
       "      <td>dark_blood_2012</td>\n",
       "      <td>en</td>\n",
       "      <td>1.721</td>\n",
       "      <td>2013-03-06</td>\n",
       "      <td>Dark Blood</td>\n",
       "      <td>6.1</td>\n",
       "      <td>7</td>\n",
       "      <td>0293069</td>\n",
       "      <td>dark_blood_2013</td>\n",
       "    </tr>\n",
       "    <tr>\n",
       "      <th>3</th>\n",
       "      <td>0315642</td>\n",
       "      <td>Wazir</td>\n",
       "      <td>2016</td>\n",
       "      <td>103.0</td>\n",
       "      <td>[Action, Crime, Drama]</td>\n",
       "      <td>[nm2349060]</td>\n",
       "      <td>[nm7430071, nm1249226, nm0006765, nm0430785, n...</td>\n",
       "      <td>7.1</td>\n",
       "      <td>15378</td>\n",
       "      <td>4</td>\n",
       "      <td>wazir_2016</td>\n",
       "      <td>hi</td>\n",
       "      <td>3.881</td>\n",
       "      <td>2016-01-08</td>\n",
       "      <td>Wazir</td>\n",
       "      <td>6.6</td>\n",
       "      <td>63</td>\n",
       "      <td>0315642</td>\n",
       "      <td>wazir_2016</td>\n",
       "    </tr>\n",
       "    <tr>\n",
       "      <th>4</th>\n",
       "      <td>0323808</td>\n",
       "      <td>The Wicker Tree</td>\n",
       "      <td>2011</td>\n",
       "      <td>96.0</td>\n",
       "      <td>[Drama, Horror]</td>\n",
       "      <td>[nm0362736]</td>\n",
       "      <td>[nm0362736]</td>\n",
       "      <td>3.9</td>\n",
       "      <td>2328</td>\n",
       "      <td>9</td>\n",
       "      <td>the_wicker_tree_2011</td>\n",
       "      <td>en</td>\n",
       "      <td>2.962</td>\n",
       "      <td>2012-01-27</td>\n",
       "      <td>The Wicker Tree</td>\n",
       "      <td>4.4</td>\n",
       "      <td>25</td>\n",
       "      <td>0323808</td>\n",
       "      <td>the_wicker_tree_2012</td>\n",
       "    </tr>\n",
       "    <tr>\n",
       "      <th>...</th>\n",
       "      <td>...</td>\n",
       "      <td>...</td>\n",
       "      <td>...</td>\n",
       "      <td>...</td>\n",
       "      <td>...</td>\n",
       "      <td>...</td>\n",
       "      <td>...</td>\n",
       "      <td>...</td>\n",
       "      <td>...</td>\n",
       "      <td>...</td>\n",
       "      <td>...</td>\n",
       "      <td>...</td>\n",
       "      <td>...</td>\n",
       "      <td>...</td>\n",
       "      <td>...</td>\n",
       "      <td>...</td>\n",
       "      <td>...</td>\n",
       "      <td>...</td>\n",
       "      <td>...</td>\n",
       "    </tr>\n",
       "    <tr>\n",
       "      <th>9617</th>\n",
       "      <td>9206798</td>\n",
       "      <td>All Is True</td>\n",
       "      <td>2018</td>\n",
       "      <td>101.0</td>\n",
       "      <td>[Biography, Drama, History]</td>\n",
       "      <td>[nm0000110]</td>\n",
       "      <td>[nm0255780]</td>\n",
       "      <td>5.9</td>\n",
       "      <td>797</td>\n",
       "      <td>2</td>\n",
       "      <td>all_is_true_2018</td>\n",
       "      <td>en</td>\n",
       "      <td>6.777</td>\n",
       "      <td>2018-12-21</td>\n",
       "      <td>All Is True</td>\n",
       "      <td>6.3</td>\n",
       "      <td>8</td>\n",
       "      <td>9206798</td>\n",
       "      <td>all_is_true_2018</td>\n",
       "    </tr>\n",
       "    <tr>\n",
       "      <th>9618</th>\n",
       "      <td>9275202</td>\n",
       "      <td>Breslin and Hamill: Deadline Artists</td>\n",
       "      <td>2018</td>\n",
       "      <td>108.0</td>\n",
       "      <td>[Documentary]</td>\n",
       "      <td>[nm4485929, nm1146602, nm7470181]</td>\n",
       "      <td>[nm1146602, nm0059382, nm4485929, nm3348772, n...</td>\n",
       "      <td>8.1</td>\n",
       "      <td>161</td>\n",
       "      <td>2</td>\n",
       "      <td>breslin_and_hamill_deadline_artists_2018</td>\n",
       "      <td>en</td>\n",
       "      <td>1.047</td>\n",
       "      <td>2018-11-15</td>\n",
       "      <td>Breslin and Hamill: Deadline Artists</td>\n",
       "      <td>8.0</td>\n",
       "      <td>1</td>\n",
       "      <td>9275202</td>\n",
       "      <td>breslin_and_hamill_deadline_artists_2018</td>\n",
       "    </tr>\n",
       "    <tr>\n",
       "      <th>9619</th>\n",
       "      <td>9282616</td>\n",
       "      <td>A Cool Fish</td>\n",
       "      <td>2018</td>\n",
       "      <td>109.0</td>\n",
       "      <td>[Comedy]</td>\n",
       "      <td>[nm8824211]</td>\n",
       "      <td>[nm8824215, nm8824211]</td>\n",
       "      <td>7.1</td>\n",
       "      <td>929</td>\n",
       "      <td>2</td>\n",
       "      <td>a_cool_fish_2018</td>\n",
       "      <td>zh</td>\n",
       "      <td>2.732</td>\n",
       "      <td>2018-11-16</td>\n",
       "      <td>A Cool Fish</td>\n",
       "      <td>6.6</td>\n",
       "      <td>11</td>\n",
       "      <td>9282616</td>\n",
       "      <td>a_cool_fish_2018</td>\n",
       "    </tr>\n",
       "    <tr>\n",
       "      <th>9620</th>\n",
       "      <td>9316022</td>\n",
       "      <td>Struggle: The Life and Lost Art of Szukalski</td>\n",
       "      <td>2018</td>\n",
       "      <td>115.0</td>\n",
       "      <td>[Documentary]</td>\n",
       "      <td>[nm2333129]</td>\n",
       "      <td>[nm3530955, nm2333129]</td>\n",
       "      <td>8.1</td>\n",
       "      <td>2018</td>\n",
       "      <td>2</td>\n",
       "      <td>struggle_the_life_and_lost_art_of_szukalski_2018</td>\n",
       "      <td>en</td>\n",
       "      <td>3.591</td>\n",
       "      <td>2018-12-21</td>\n",
       "      <td>Struggle: The Life and Lost Art of Szukalski</td>\n",
       "      <td>8.4</td>\n",
       "      <td>20</td>\n",
       "      <td>9316022</td>\n",
       "      <td>struggle_the_life_and_lost_art_of_szukalski_2018</td>\n",
       "    </tr>\n",
       "    <tr>\n",
       "      <th>9621</th>\n",
       "      <td>9495224</td>\n",
       "      <td>Black Mirror: Bandersnatch</td>\n",
       "      <td>2018</td>\n",
       "      <td>90.0</td>\n",
       "      <td>[Drama, Mystery, Sci-Fi]</td>\n",
       "      <td>[nm1720541]</td>\n",
       "      <td>[nm0111765]</td>\n",
       "      <td>7.3</td>\n",
       "      <td>91349</td>\n",
       "      <td>2</td>\n",
       "      <td>black_mirror_bandersnatch_2018</td>\n",
       "      <td>en</td>\n",
       "      <td>12.282</td>\n",
       "      <td>2018-12-28</td>\n",
       "      <td>Black Mirror: Bandersnatch</td>\n",
       "      <td>7.0</td>\n",
       "      <td>1932</td>\n",
       "      <td>9495224</td>\n",
       "      <td>black_mirror_bandersnatch_2018</td>\n",
       "    </tr>\n",
       "  </tbody>\n",
       "</table>\n",
       "<p>9622 rows × 19 columns</p>\n",
       "</div>"
      ],
      "text/plain": [
       "       tconst                                 primary_title  start_year  \\\n",
       "0     0069049                    The Other Side of the Wind        2018   \n",
       "1     0249516                                    Foodfight!        2012   \n",
       "2     0293069                                    Dark Blood        2012   \n",
       "3     0315642                                         Wazir        2016   \n",
       "4     0323808                               The Wicker Tree        2011   \n",
       "...       ...                                           ...         ...   \n",
       "9617  9206798                                   All Is True        2018   \n",
       "9618  9275202          Breslin and Hamill: Deadline Artists        2018   \n",
       "9619  9282616                                   A Cool Fish        2018   \n",
       "9620  9316022  Struggle: The Life and Lost Art of Szukalski        2018   \n",
       "9621  9495224                    Black Mirror: Bandersnatch        2018   \n",
       "\n",
       "      runtime_minutes                       genres  \\\n",
       "0               122.0                      [Drama]   \n",
       "1                91.0  [Action, Animation, Comedy]   \n",
       "2                86.0                   [Thriller]   \n",
       "3               103.0       [Action, Crime, Drama]   \n",
       "4                96.0              [Drama, Horror]   \n",
       "...               ...                          ...   \n",
       "9617            101.0  [Biography, Drama, History]   \n",
       "9618            108.0                [Documentary]   \n",
       "9619            109.0                     [Comedy]   \n",
       "9620            115.0                [Documentary]   \n",
       "9621             90.0     [Drama, Mystery, Sci-Fi]   \n",
       "\n",
       "                              directors  \\\n",
       "0                           [nm0000080]   \n",
       "1                           [nm0440415]   \n",
       "2                           [nm0806293]   \n",
       "3                           [nm2349060]   \n",
       "4                           [nm0362736]   \n",
       "...                                 ...   \n",
       "9617                        [nm0000110]   \n",
       "9618  [nm4485929, nm1146602, nm7470181]   \n",
       "9619                        [nm8824211]   \n",
       "9620                        [nm2333129]   \n",
       "9621                        [nm1720541]   \n",
       "\n",
       "                                                writers  averagerating  \\\n",
       "0                                [nm0000080, nm0462648]            6.9   \n",
       "1     [nm0440415, nm0923312, nm0295165, nm0841854, n...            1.9   \n",
       "2                                           [nm0059172]            6.6   \n",
       "3     [nm7430071, nm1249226, nm0006765, nm0430785, n...            7.1   \n",
       "4                                           [nm0362736]            3.9   \n",
       "...                                                 ...            ...   \n",
       "9617                                        [nm0255780]            5.9   \n",
       "9618  [nm1146602, nm0059382, nm4485929, nm3348772, n...            8.1   \n",
       "9619                             [nm8824215, nm8824211]            7.1   \n",
       "9620                             [nm3530955, nm2333129]            8.1   \n",
       "9621                                        [nm0111765]            7.3   \n",
       "\n",
       "      numvotes  age_of_movie  \\\n",
       "0         4517             2   \n",
       "1         8248             8   \n",
       "2         1053             8   \n",
       "3        15378             4   \n",
       "4         2328             9   \n",
       "...        ...           ...   \n",
       "9617       797             2   \n",
       "9618       161             2   \n",
       "9619       929             2   \n",
       "9620      2018             2   \n",
       "9621     91349             2   \n",
       "\n",
       "                                             dummy_key original_language  \\\n",
       "0                      the_other_side_of_the_wind_2018                en   \n",
       "1                                       foodfight_2012                en   \n",
       "2                                      dark_blood_2012                en   \n",
       "3                                           wazir_2016                hi   \n",
       "4                                 the_wicker_tree_2011                en   \n",
       "...                                                ...               ...   \n",
       "9617                                  all_is_true_2018                en   \n",
       "9618          breslin_and_hamill_deadline_artists_2018                en   \n",
       "9619                                  a_cool_fish_2018                zh   \n",
       "9620  struggle_the_life_and_lost_art_of_szukalski_2018                en   \n",
       "9621                    black_mirror_bandersnatch_2018                en   \n",
       "\n",
       "      popularity release_date                                         title  \\\n",
       "0          9.800   2018-11-02                    The Other Side of the Wind   \n",
       "1          4.705   2013-05-07                                    Foodfight!   \n",
       "2          1.721   2013-03-06                                    Dark Blood   \n",
       "3          3.881   2016-01-08                                         Wazir   \n",
       "4          2.962   2012-01-27                               The Wicker Tree   \n",
       "...          ...          ...                                           ...   \n",
       "9617       6.777   2018-12-21                                   All Is True   \n",
       "9618       1.047   2018-11-15          Breslin and Hamill: Deadline Artists   \n",
       "9619       2.732   2018-11-16                                   A Cool Fish   \n",
       "9620       3.591   2018-12-21  Struggle: The Life and Lost Art of Szukalski   \n",
       "9621      12.282   2018-12-28                    Black Mirror: Bandersnatch   \n",
       "\n",
       "      vote_average  vote_count  imdb_id  \\\n",
       "0              7.0          64  0069049   \n",
       "1              2.1          46  0249516   \n",
       "2              6.1           7  0293069   \n",
       "3              6.6          63  0315642   \n",
       "4              4.4          25  0323808   \n",
       "...            ...         ...      ...   \n",
       "9617           6.3           8  9206798   \n",
       "9618           8.0           1  9275202   \n",
       "9619           6.6          11  9282616   \n",
       "9620           8.4          20  9316022   \n",
       "9621           7.0        1932  9495224   \n",
       "\n",
       "                                         title_cleaned  \n",
       "0                      the_other_side_of_the_wind_2018  \n",
       "1                                       foodfight_2013  \n",
       "2                                      dark_blood_2013  \n",
       "3                                           wazir_2016  \n",
       "4                                 the_wicker_tree_2012  \n",
       "...                                                ...  \n",
       "9617                                  all_is_true_2018  \n",
       "9618          breslin_and_hamill_deadline_artists_2018  \n",
       "9619                                  a_cool_fish_2018  \n",
       "9620  struggle_the_life_and_lost_art_of_szukalski_2018  \n",
       "9621                    black_mirror_bandersnatch_2018  \n",
       "\n",
       "[9622 rows x 19 columns]"
      ]
     },
     "execution_count": 63,
     "metadata": {},
     "output_type": "execute_result"
    }
   ],
   "source": [
    "#Dropping all movies released before the year 2000\n",
    "rating['start_year'] = rating['start_year'].map(lambda x: int(x))\n",
    "rating.drop(rating[rating.start_year < 2000].index)"
   ]
  },
  {
   "cell_type": "code",
   "execution_count": 64,
   "metadata": {},
   "outputs": [],
   "source": [
    "rating['aggregate_score'] = round(rating.apply(lambda row: (row['averagerating'] * row['numvotes']) + (row['vote_average'] * row['vote_count']) * row['popularity'],axis=1),2)\n",
    "#Creating an aggregate score: (IMDB Rating * IMDB number of votes) + (TMDB average rating * TMDB numvotes) * Popularity"
   ]
  },
  {
   "cell_type": "code",
   "execution_count": 65,
   "metadata": {},
   "outputs": [],
   "source": [
    "top_200_rating = rating.sort_values(by=['aggregate_score'],ascending=False).head(200)"
   ]
  },
  {
   "cell_type": "code",
   "execution_count": 66,
   "metadata": {
    "scrolled": true
   },
   "outputs": [
    {
     "data": {
      "text/html": [
       "<div>\n",
       "<style scoped>\n",
       "    .dataframe tbody tr th:only-of-type {\n",
       "        vertical-align: middle;\n",
       "    }\n",
       "\n",
       "    .dataframe tbody tr th {\n",
       "        vertical-align: top;\n",
       "    }\n",
       "\n",
       "    .dataframe thead th {\n",
       "        text-align: right;\n",
       "    }\n",
       "</style>\n",
       "<table border=\"1\" class=\"dataframe\">\n",
       "  <thead>\n",
       "    <tr style=\"text-align: right;\">\n",
       "      <th></th>\n",
       "      <th>tconst</th>\n",
       "      <th>primary_title</th>\n",
       "      <th>start_year</th>\n",
       "      <th>runtime_minutes</th>\n",
       "      <th>genres</th>\n",
       "      <th>directors</th>\n",
       "      <th>writers</th>\n",
       "      <th>averagerating</th>\n",
       "      <th>numvotes</th>\n",
       "      <th>age_of_movie</th>\n",
       "      <th>dummy_key</th>\n",
       "      <th>original_language</th>\n",
       "      <th>popularity</th>\n",
       "      <th>release_date</th>\n",
       "      <th>title</th>\n",
       "      <th>vote_average</th>\n",
       "      <th>vote_count</th>\n",
       "      <th>imdb_id</th>\n",
       "      <th>title_cleaned</th>\n",
       "      <th>aggregate_score</th>\n",
       "    </tr>\n",
       "  </thead>\n",
       "  <tbody>\n",
       "    <tr>\n",
       "      <th>849</th>\n",
       "      <td>1375666</td>\n",
       "      <td>Inception</td>\n",
       "      <td>2010</td>\n",
       "      <td>148.0</td>\n",
       "      <td>[Action, Adventure, Sci-Fi]</td>\n",
       "      <td>[nm0634240]</td>\n",
       "      <td>[nm0634240]</td>\n",
       "      <td>8.8</td>\n",
       "      <td>1841066</td>\n",
       "      <td>10</td>\n",
       "      <td>inception_2010</td>\n",
       "      <td>en</td>\n",
       "      <td>27.920</td>\n",
       "      <td>2010-07-16</td>\n",
       "      <td>Inception</td>\n",
       "      <td>8.3</td>\n",
       "      <td>22186</td>\n",
       "      <td>1375666</td>\n",
       "      <td>inception_2010</td>\n",
       "      <td>21342675.70</td>\n",
       "    </tr>\n",
       "    <tr>\n",
       "      <th>153</th>\n",
       "      <td>0848228</td>\n",
       "      <td>The Avengers</td>\n",
       "      <td>2012</td>\n",
       "      <td>143.0</td>\n",
       "      <td>[Action, Adventure, Sci-Fi]</td>\n",
       "      <td>[nm0923736]</td>\n",
       "      <td>[nm0923736, nm0672015]</td>\n",
       "      <td>8.1</td>\n",
       "      <td>1183655</td>\n",
       "      <td>8</td>\n",
       "      <td>the_avengers_2012</td>\n",
       "      <td>en</td>\n",
       "      <td>50.289</td>\n",
       "      <td>2012-05-04</td>\n",
       "      <td>The Avengers</td>\n",
       "      <td>7.6</td>\n",
       "      <td>19673</td>\n",
       "      <td>0848228</td>\n",
       "      <td>the_avengers_2012</td>\n",
       "      <td>17106555.28</td>\n",
       "    </tr>\n",
       "    <tr>\n",
       "      <th>130</th>\n",
       "      <td>0816692</td>\n",
       "      <td>Interstellar</td>\n",
       "      <td>2014</td>\n",
       "      <td>169.0</td>\n",
       "      <td>[Adventure, Drama, Sci-Fi]</td>\n",
       "      <td>[nm0634240]</td>\n",
       "      <td>[nm0634300, nm0634240]</td>\n",
       "      <td>8.6</td>\n",
       "      <td>1299334</td>\n",
       "      <td>6</td>\n",
       "      <td>interstellar_2014</td>\n",
       "      <td>en</td>\n",
       "      <td>28.440</td>\n",
       "      <td>2014-11-05</td>\n",
       "      <td>Interstellar</td>\n",
       "      <td>8.2</td>\n",
       "      <td>18597</td>\n",
       "      <td>0816692</td>\n",
       "      <td>interstellar_2014</td>\n",
       "      <td>15511241.58</td>\n",
       "    </tr>\n",
       "    <tr>\n",
       "      <th>7139</th>\n",
       "      <td>4154756</td>\n",
       "      <td>Avengers: Infinity War</td>\n",
       "      <td>2018</td>\n",
       "      <td>149.0</td>\n",
       "      <td>[Action, Adventure, Sci-Fi]</td>\n",
       "      <td>[nm0751577, nm0751648]</td>\n",
       "      <td>[nm1321655, nm1321656, nm0498278, nm0456158, n...</td>\n",
       "      <td>8.5</td>\n",
       "      <td>670926</td>\n",
       "      <td>2</td>\n",
       "      <td>avengers_infinity_war_2018</td>\n",
       "      <td>en</td>\n",
       "      <td>80.773</td>\n",
       "      <td>2018-04-27</td>\n",
       "      <td>Avengers: Infinity War</td>\n",
       "      <td>8.3</td>\n",
       "      <td>13948</td>\n",
       "      <td>4154756</td>\n",
       "      <td>avengers_infinity_war_2018</td>\n",
       "      <td>15053831.97</td>\n",
       "    </tr>\n",
       "    <tr>\n",
       "      <th>3206</th>\n",
       "      <td>2015381</td>\n",
       "      <td>Guardians of the Galaxy</td>\n",
       "      <td>2014</td>\n",
       "      <td>121.0</td>\n",
       "      <td>[Action, Adventure, Comedy]</td>\n",
       "      <td>[nm0348181]</td>\n",
       "      <td>[nm3238648, nm0314153, nm0562554, nm0348181, n...</td>\n",
       "      <td>8.1</td>\n",
       "      <td>948394</td>\n",
       "      <td>6</td>\n",
       "      <td>guardians_of_the_galaxy_2014</td>\n",
       "      <td>en</td>\n",
       "      <td>49.606</td>\n",
       "      <td>2014-08-01</td>\n",
       "      <td>Guardians of the Galaxy</td>\n",
       "      <td>7.9</td>\n",
       "      <td>17958</td>\n",
       "      <td>2015381</td>\n",
       "      <td>guardians_of_the_galaxy_2014</td>\n",
       "      <td>14719505.33</td>\n",
       "    </tr>\n",
       "    <tr>\n",
       "      <th>...</th>\n",
       "      <td>...</td>\n",
       "      <td>...</td>\n",
       "      <td>...</td>\n",
       "      <td>...</td>\n",
       "      <td>...</td>\n",
       "      <td>...</td>\n",
       "      <td>...</td>\n",
       "      <td>...</td>\n",
       "      <td>...</td>\n",
       "      <td>...</td>\n",
       "      <td>...</td>\n",
       "      <td>...</td>\n",
       "      <td>...</td>\n",
       "      <td>...</td>\n",
       "      <td>...</td>\n",
       "      <td>...</td>\n",
       "      <td>...</td>\n",
       "      <td>...</td>\n",
       "      <td>...</td>\n",
       "      <td>...</td>\n",
       "    </tr>\n",
       "    <tr>\n",
       "      <th>3305</th>\n",
       "      <td>2059179</td>\n",
       "      <td>Acting Like Adults</td>\n",
       "      <td>2012</td>\n",
       "      <td>75.0</td>\n",
       "      <td>[Drama]</td>\n",
       "      <td>[nm2394912, nm3966434]</td>\n",
       "      <td>[nm3966434, nm2394912]</td>\n",
       "      <td>7.2</td>\n",
       "      <td>10</td>\n",
       "      <td>8</td>\n",
       "      <td>acting_like_adults_2012</td>\n",
       "      <td>en</td>\n",
       "      <td>0.644</td>\n",
       "      <td>2014-03-08</td>\n",
       "      <td>Acting Like Adults</td>\n",
       "      <td>7.0</td>\n",
       "      <td>1</td>\n",
       "      <td>2059179</td>\n",
       "      <td>acting_like_adults_2014</td>\n",
       "      <td>76.51</td>\n",
       "    </tr>\n",
       "    <tr>\n",
       "      <th>9151</th>\n",
       "      <td>6439636</td>\n",
       "      <td>Clementina</td>\n",
       "      <td>2017</td>\n",
       "      <td>90.0</td>\n",
       "      <td>[Drama, Horror, Mystery]</td>\n",
       "      <td>[nm1938574]</td>\n",
       "      <td>[nm4115588, nm1938574]</td>\n",
       "      <td>5.8</td>\n",
       "      <td>12</td>\n",
       "      <td>3</td>\n",
       "      <td>clementina_2017</td>\n",
       "      <td>es</td>\n",
       "      <td>0.648</td>\n",
       "      <td>2017-10-15</td>\n",
       "      <td>Clementina</td>\n",
       "      <td>8.0</td>\n",
       "      <td>1</td>\n",
       "      <td>6439636</td>\n",
       "      <td>clementina_2017</td>\n",
       "      <td>74.78</td>\n",
       "    </tr>\n",
       "    <tr>\n",
       "      <th>6347</th>\n",
       "      <td>3585116</td>\n",
       "      <td>The Last Man on Earth</td>\n",
       "      <td>2014</td>\n",
       "      <td>90.0</td>\n",
       "      <td>[Romance]</td>\n",
       "      <td>[nm0692538]</td>\n",
       "      <td>[nm0692538]</td>\n",
       "      <td>7.9</td>\n",
       "      <td>7</td>\n",
       "      <td>6</td>\n",
       "      <td>the_last_man_on_earth_2014</td>\n",
       "      <td>en</td>\n",
       "      <td>0.600</td>\n",
       "      <td>2014-03-07</td>\n",
       "      <td>The Last Man on Earth</td>\n",
       "      <td>7.0</td>\n",
       "      <td>1</td>\n",
       "      <td>3585116</td>\n",
       "      <td>the_last_man_on_earth_2014</td>\n",
       "      <td>59.50</td>\n",
       "    </tr>\n",
       "    <tr>\n",
       "      <th>9065</th>\n",
       "      <td>6283888</td>\n",
       "      <td>The Forgotten Colours of Dreams</td>\n",
       "      <td>2018</td>\n",
       "      <td>129.0</td>\n",
       "      <td>[Drama, Fantasy]</td>\n",
       "      <td>[nm5135243]</td>\n",
       "      <td>[nm5135243]</td>\n",
       "      <td>8.8</td>\n",
       "      <td>5</td>\n",
       "      <td>2</td>\n",
       "      <td>the_forgotten_colours_of_dreams_2018</td>\n",
       "      <td>en</td>\n",
       "      <td>0.699</td>\n",
       "      <td>2018-06-19</td>\n",
       "      <td>The Forgotten Colours of Dreams</td>\n",
       "      <td>8.0</td>\n",
       "      <td>2</td>\n",
       "      <td>6283888</td>\n",
       "      <td>the_forgotten_colours_of_dreams_2018</td>\n",
       "      <td>55.18</td>\n",
       "    </tr>\n",
       "    <tr>\n",
       "      <th>5985</th>\n",
       "      <td>3377886</td>\n",
       "      <td>Venial</td>\n",
       "      <td>2014</td>\n",
       "      <td>89.0</td>\n",
       "      <td>[Drama, Horror, Mystery]</td>\n",
       "      <td>[nm1784327]</td>\n",
       "      <td>[nm1784327]</td>\n",
       "      <td>3.2</td>\n",
       "      <td>14</td>\n",
       "      <td>6</td>\n",
       "      <td>venial_2014</td>\n",
       "      <td>en</td>\n",
       "      <td>0.840</td>\n",
       "      <td>2014-01-03</td>\n",
       "      <td>Venial</td>\n",
       "      <td>6.0</td>\n",
       "      <td>1</td>\n",
       "      <td>3377886</td>\n",
       "      <td>venial_2014</td>\n",
       "      <td>49.84</td>\n",
       "    </tr>\n",
       "  </tbody>\n",
       "</table>\n",
       "<p>9622 rows × 20 columns</p>\n",
       "</div>"
      ],
      "text/plain": [
       "       tconst                    primary_title  start_year  runtime_minutes  \\\n",
       "849   1375666                        Inception        2010            148.0   \n",
       "153   0848228                     The Avengers        2012            143.0   \n",
       "130   0816692                     Interstellar        2014            169.0   \n",
       "7139  4154756           Avengers: Infinity War        2018            149.0   \n",
       "3206  2015381          Guardians of the Galaxy        2014            121.0   \n",
       "...       ...                              ...         ...              ...   \n",
       "3305  2059179               Acting Like Adults        2012             75.0   \n",
       "9151  6439636                       Clementina        2017             90.0   \n",
       "6347  3585116            The Last Man on Earth        2014             90.0   \n",
       "9065  6283888  The Forgotten Colours of Dreams        2018            129.0   \n",
       "5985  3377886                           Venial        2014             89.0   \n",
       "\n",
       "                           genres               directors  \\\n",
       "849   [Action, Adventure, Sci-Fi]             [nm0634240]   \n",
       "153   [Action, Adventure, Sci-Fi]             [nm0923736]   \n",
       "130    [Adventure, Drama, Sci-Fi]             [nm0634240]   \n",
       "7139  [Action, Adventure, Sci-Fi]  [nm0751577, nm0751648]   \n",
       "3206  [Action, Adventure, Comedy]             [nm0348181]   \n",
       "...                           ...                     ...   \n",
       "3305                      [Drama]  [nm2394912, nm3966434]   \n",
       "9151     [Drama, Horror, Mystery]             [nm1938574]   \n",
       "6347                    [Romance]             [nm0692538]   \n",
       "9065             [Drama, Fantasy]             [nm5135243]   \n",
       "5985     [Drama, Horror, Mystery]             [nm1784327]   \n",
       "\n",
       "                                                writers  averagerating  \\\n",
       "849                                         [nm0634240]            8.8   \n",
       "153                              [nm0923736, nm0672015]            8.1   \n",
       "130                              [nm0634300, nm0634240]            8.6   \n",
       "7139  [nm1321655, nm1321656, nm0498278, nm0456158, n...            8.5   \n",
       "3206  [nm3238648, nm0314153, nm0562554, nm0348181, n...            8.1   \n",
       "...                                                 ...            ...   \n",
       "3305                             [nm3966434, nm2394912]            7.2   \n",
       "9151                             [nm4115588, nm1938574]            5.8   \n",
       "6347                                        [nm0692538]            7.9   \n",
       "9065                                        [nm5135243]            8.8   \n",
       "5985                                        [nm1784327]            3.2   \n",
       "\n",
       "      numvotes  age_of_movie                             dummy_key  \\\n",
       "849    1841066            10                        inception_2010   \n",
       "153    1183655             8                     the_avengers_2012   \n",
       "130    1299334             6                     interstellar_2014   \n",
       "7139    670926             2            avengers_infinity_war_2018   \n",
       "3206    948394             6          guardians_of_the_galaxy_2014   \n",
       "...        ...           ...                                   ...   \n",
       "3305        10             8               acting_like_adults_2012   \n",
       "9151        12             3                       clementina_2017   \n",
       "6347         7             6            the_last_man_on_earth_2014   \n",
       "9065         5             2  the_forgotten_colours_of_dreams_2018   \n",
       "5985        14             6                           venial_2014   \n",
       "\n",
       "     original_language  popularity release_date  \\\n",
       "849                 en      27.920   2010-07-16   \n",
       "153                 en      50.289   2012-05-04   \n",
       "130                 en      28.440   2014-11-05   \n",
       "7139                en      80.773   2018-04-27   \n",
       "3206                en      49.606   2014-08-01   \n",
       "...                ...         ...          ...   \n",
       "3305                en       0.644   2014-03-08   \n",
       "9151                es       0.648   2017-10-15   \n",
       "6347                en       0.600   2014-03-07   \n",
       "9065                en       0.699   2018-06-19   \n",
       "5985                en       0.840   2014-01-03   \n",
       "\n",
       "                                title  vote_average  vote_count  imdb_id  \\\n",
       "849                         Inception           8.3       22186  1375666   \n",
       "153                      The Avengers           7.6       19673  0848228   \n",
       "130                      Interstellar           8.2       18597  0816692   \n",
       "7139           Avengers: Infinity War           8.3       13948  4154756   \n",
       "3206          Guardians of the Galaxy           7.9       17958  2015381   \n",
       "...                               ...           ...         ...      ...   \n",
       "3305               Acting Like Adults           7.0           1  2059179   \n",
       "9151                       Clementina           8.0           1  6439636   \n",
       "6347            The Last Man on Earth           7.0           1  3585116   \n",
       "9065  The Forgotten Colours of Dreams           8.0           2  6283888   \n",
       "5985                           Venial           6.0           1  3377886   \n",
       "\n",
       "                             title_cleaned  aggregate_score  \n",
       "849                         inception_2010      21342675.70  \n",
       "153                      the_avengers_2012      17106555.28  \n",
       "130                      interstellar_2014      15511241.58  \n",
       "7139            avengers_infinity_war_2018      15053831.97  \n",
       "3206          guardians_of_the_galaxy_2014      14719505.33  \n",
       "...                                    ...              ...  \n",
       "3305               acting_like_adults_2014            76.51  \n",
       "9151                       clementina_2017            74.78  \n",
       "6347            the_last_man_on_earth_2014            59.50  \n",
       "9065  the_forgotten_colours_of_dreams_2018            55.18  \n",
       "5985                           venial_2014            49.84  \n",
       "\n",
       "[9622 rows x 20 columns]"
      ]
     },
     "execution_count": 66,
     "metadata": {},
     "output_type": "execute_result"
    }
   ],
   "source": [
    "rating.sort_values(by=['aggregate_score'],ascending=False)"
   ]
  },
  {
   "cell_type": "code",
   "execution_count": 67,
   "metadata": {},
   "outputs": [
    {
     "data": {
      "text/html": [
       "<div>\n",
       "<style scoped>\n",
       "    .dataframe tbody tr th:only-of-type {\n",
       "        vertical-align: middle;\n",
       "    }\n",
       "\n",
       "    .dataframe tbody tr th {\n",
       "        vertical-align: top;\n",
       "    }\n",
       "\n",
       "    .dataframe thead th {\n",
       "        text-align: right;\n",
       "    }\n",
       "</style>\n",
       "<table border=\"1\" class=\"dataframe\">\n",
       "  <thead>\n",
       "    <tr style=\"text-align: right;\">\n",
       "      <th></th>\n",
       "      <th>tconst</th>\n",
       "      <th>primary_title</th>\n",
       "      <th>start_year</th>\n",
       "      <th>runtime_minutes</th>\n",
       "      <th>genres</th>\n",
       "      <th>directors</th>\n",
       "      <th>writers</th>\n",
       "      <th>averagerating</th>\n",
       "      <th>numvotes</th>\n",
       "      <th>age_of_movie</th>\n",
       "      <th>dummy_key</th>\n",
       "      <th>original_language</th>\n",
       "      <th>popularity</th>\n",
       "      <th>release_date</th>\n",
       "      <th>title</th>\n",
       "      <th>vote_average</th>\n",
       "      <th>vote_count</th>\n",
       "      <th>imdb_id</th>\n",
       "      <th>title_cleaned</th>\n",
       "      <th>aggregate_score</th>\n",
       "    </tr>\n",
       "  </thead>\n",
       "  <tbody>\n",
       "    <tr>\n",
       "      <th>0</th>\n",
       "      <td>0069049</td>\n",
       "      <td>The Other Side of the Wind</td>\n",
       "      <td>2018</td>\n",
       "      <td>122.0</td>\n",
       "      <td>[Drama]</td>\n",
       "      <td>[nm0000080]</td>\n",
       "      <td>[nm0000080, nm0462648]</td>\n",
       "      <td>6.9</td>\n",
       "      <td>4517</td>\n",
       "      <td>2</td>\n",
       "      <td>the_other_side_of_the_wind_2018</td>\n",
       "      <td>en</td>\n",
       "      <td>9.800</td>\n",
       "      <td>2018-11-02</td>\n",
       "      <td>The Other Side of the Wind</td>\n",
       "      <td>7.0</td>\n",
       "      <td>64</td>\n",
       "      <td>0069049</td>\n",
       "      <td>the_other_side_of_the_wind_2018</td>\n",
       "      <td>35557.70</td>\n",
       "    </tr>\n",
       "    <tr>\n",
       "      <th>1</th>\n",
       "      <td>0249516</td>\n",
       "      <td>Foodfight!</td>\n",
       "      <td>2012</td>\n",
       "      <td>91.0</td>\n",
       "      <td>[Action, Animation, Comedy]</td>\n",
       "      <td>[nm0440415]</td>\n",
       "      <td>[nm0440415, nm0923312, nm0295165, nm0841854, n...</td>\n",
       "      <td>1.9</td>\n",
       "      <td>8248</td>\n",
       "      <td>8</td>\n",
       "      <td>foodfight_2012</td>\n",
       "      <td>en</td>\n",
       "      <td>4.705</td>\n",
       "      <td>2013-05-07</td>\n",
       "      <td>Foodfight!</td>\n",
       "      <td>2.1</td>\n",
       "      <td>46</td>\n",
       "      <td>0249516</td>\n",
       "      <td>foodfight_2013</td>\n",
       "      <td>16125.70</td>\n",
       "    </tr>\n",
       "    <tr>\n",
       "      <th>2</th>\n",
       "      <td>0293069</td>\n",
       "      <td>Dark Blood</td>\n",
       "      <td>2012</td>\n",
       "      <td>86.0</td>\n",
       "      <td>[Thriller]</td>\n",
       "      <td>[nm0806293]</td>\n",
       "      <td>[nm0059172]</td>\n",
       "      <td>6.6</td>\n",
       "      <td>1053</td>\n",
       "      <td>8</td>\n",
       "      <td>dark_blood_2012</td>\n",
       "      <td>en</td>\n",
       "      <td>1.721</td>\n",
       "      <td>2013-03-06</td>\n",
       "      <td>Dark Blood</td>\n",
       "      <td>6.1</td>\n",
       "      <td>7</td>\n",
       "      <td>0293069</td>\n",
       "      <td>dark_blood_2013</td>\n",
       "      <td>7023.29</td>\n",
       "    </tr>\n",
       "    <tr>\n",
       "      <th>3</th>\n",
       "      <td>0315642</td>\n",
       "      <td>Wazir</td>\n",
       "      <td>2016</td>\n",
       "      <td>103.0</td>\n",
       "      <td>[Action, Crime, Drama]</td>\n",
       "      <td>[nm2349060]</td>\n",
       "      <td>[nm7430071, nm1249226, nm0006765, nm0430785, n...</td>\n",
       "      <td>7.1</td>\n",
       "      <td>15378</td>\n",
       "      <td>4</td>\n",
       "      <td>wazir_2016</td>\n",
       "      <td>hi</td>\n",
       "      <td>3.881</td>\n",
       "      <td>2016-01-08</td>\n",
       "      <td>Wazir</td>\n",
       "      <td>6.6</td>\n",
       "      <td>63</td>\n",
       "      <td>0315642</td>\n",
       "      <td>wazir_2016</td>\n",
       "      <td>110797.52</td>\n",
       "    </tr>\n",
       "    <tr>\n",
       "      <th>4</th>\n",
       "      <td>0323808</td>\n",
       "      <td>The Wicker Tree</td>\n",
       "      <td>2011</td>\n",
       "      <td>96.0</td>\n",
       "      <td>[Drama, Horror]</td>\n",
       "      <td>[nm0362736]</td>\n",
       "      <td>[nm0362736]</td>\n",
       "      <td>3.9</td>\n",
       "      <td>2328</td>\n",
       "      <td>9</td>\n",
       "      <td>the_wicker_tree_2011</td>\n",
       "      <td>en</td>\n",
       "      <td>2.962</td>\n",
       "      <td>2012-01-27</td>\n",
       "      <td>The Wicker Tree</td>\n",
       "      <td>4.4</td>\n",
       "      <td>25</td>\n",
       "      <td>0323808</td>\n",
       "      <td>the_wicker_tree_2012</td>\n",
       "      <td>9405.02</td>\n",
       "    </tr>\n",
       "  </tbody>\n",
       "</table>\n",
       "</div>"
      ],
      "text/plain": [
       "    tconst               primary_title  start_year  runtime_minutes  \\\n",
       "0  0069049  The Other Side of the Wind        2018            122.0   \n",
       "1  0249516                  Foodfight!        2012             91.0   \n",
       "2  0293069                  Dark Blood        2012             86.0   \n",
       "3  0315642                       Wazir        2016            103.0   \n",
       "4  0323808             The Wicker Tree        2011             96.0   \n",
       "\n",
       "                        genres    directors  \\\n",
       "0                      [Drama]  [nm0000080]   \n",
       "1  [Action, Animation, Comedy]  [nm0440415]   \n",
       "2                   [Thriller]  [nm0806293]   \n",
       "3       [Action, Crime, Drama]  [nm2349060]   \n",
       "4              [Drama, Horror]  [nm0362736]   \n",
       "\n",
       "                                             writers  averagerating  numvotes  \\\n",
       "0                             [nm0000080, nm0462648]            6.9      4517   \n",
       "1  [nm0440415, nm0923312, nm0295165, nm0841854, n...            1.9      8248   \n",
       "2                                        [nm0059172]            6.6      1053   \n",
       "3  [nm7430071, nm1249226, nm0006765, nm0430785, n...            7.1     15378   \n",
       "4                                        [nm0362736]            3.9      2328   \n",
       "\n",
       "   age_of_movie                        dummy_key original_language  \\\n",
       "0             2  the_other_side_of_the_wind_2018                en   \n",
       "1             8                   foodfight_2012                en   \n",
       "2             8                  dark_blood_2012                en   \n",
       "3             4                       wazir_2016                hi   \n",
       "4             9             the_wicker_tree_2011                en   \n",
       "\n",
       "   popularity release_date                       title  vote_average  \\\n",
       "0       9.800   2018-11-02  The Other Side of the Wind           7.0   \n",
       "1       4.705   2013-05-07                  Foodfight!           2.1   \n",
       "2       1.721   2013-03-06                  Dark Blood           6.1   \n",
       "3       3.881   2016-01-08                       Wazir           6.6   \n",
       "4       2.962   2012-01-27             The Wicker Tree           4.4   \n",
       "\n",
       "   vote_count  imdb_id                    title_cleaned  aggregate_score  \n",
       "0          64  0069049  the_other_side_of_the_wind_2018         35557.70  \n",
       "1          46  0249516                   foodfight_2013         16125.70  \n",
       "2           7  0293069                  dark_blood_2013          7023.29  \n",
       "3          63  0315642                       wazir_2016        110797.52  \n",
       "4          25  0323808             the_wicker_tree_2012          9405.02  "
      ]
     },
     "execution_count": 67,
     "metadata": {},
     "output_type": "execute_result"
    }
   ],
   "source": [
    "rating.head()"
   ]
  },
  {
   "cell_type": "code",
   "execution_count": null,
   "metadata": {},
   "outputs": [],
   "source": [
    "#Plot top 10 highest rated movies with bar chart\n",
    "#Top 100 movies, how they are distributed by popularity vs average rating scatter plot\n",
    "# Research other forms of categorical visualizations\n",
    "# Most common genre top 200\n",
    "# Top 3 directors for rating"
   ]
  }
 ],
 "metadata": {
  "kernelspec": {
   "display_name": "Python 3",
   "language": "python",
   "name": "python3"
  },
  "language_info": {
   "codemirror_mode": {
    "name": "ipython",
    "version": 3
   },
   "file_extension": ".py",
   "mimetype": "text/x-python",
   "name": "python",
   "nbconvert_exporter": "python",
   "pygments_lexer": "ipython3",
   "version": "3.7.6"
  }
 },
 "nbformat": 4,
 "nbformat_minor": 4
}
