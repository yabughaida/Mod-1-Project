{
 "cells": [
  {
   "cell_type": "markdown",
   "metadata": {},
   "source": [
    "# Microsoft Studios - Industry Analysis\n",
    "### By Yongwei & Yazan"
   ]
  },
  {
   "cell_type": "markdown",
   "metadata": {},
   "source": [
    "### The Project\n",
    "Microsoft sees all the big companies creating original video content, and they want to get in on the fun. They have decided to create a new movie studio, but the problem is they don’t know anything about creating movies. They have hired you to help them better understand the movie industry. Your team is charged with doing data analysis and creating a presentation that explores what type of films are currently doing the best at the box office. You must then translate those findings into actionable insights that the CEO can use when deciding what type of films they should be creating."
   ]
  },
  {
   "cell_type": "markdown",
   "metadata": {},
   "source": [
    "### Questions of Interest\n",
    "The following questions will be analyzed using 2 different measures of success: Review Rating & Commercial Performance. \n",
    "\n",
    "Review Rating\n",
    "    1. What are the best rated films since 2000?\n",
    "    2. Of these films, which genres are most prevalent? \n",
    "    3. Analyzing the top 3 genres, what is the relationship between a films review score and its popularity?\n",
    "    4. What is the relationship betwen a film's review score and the number of reviews?\n",
    "    5. Which directors should we consider hiring? (That is, those who have worked on the highest number of highly rated films)\n",
    "    6. Which writers should we consider hiring? (That is, those who have worked on the highest number of highly rated films)\n",
    "\n",
    "Financial Success\n",
    "    1. A\n",
    "    2. B\n",
    "    3. C\n",
    "    \n",
    "Finally, when we combine the highest rated films with the most commercially successful:\n",
    "    1. What are the best performing films across both standards?\n",
    "    2. What are the most common genres, directors, and writers?\n",
    "    3. What is the relationship between commercial success and review rating?"
   ]
  },
  {
   "cell_type": "markdown",
   "metadata": {},
   "source": [
    "### Import packages & connect database"
   ]
  },
  {
   "cell_type": "code",
   "execution_count": 1,
   "metadata": {
    "scrolled": false
   },
   "outputs": [],
   "source": [
    "#!pip install mysql-connector-python\n",
    "#!pip install fuzzywuzzy\n",
    "#!pip install python-Levenshtein"
   ]
  },
  {
   "cell_type": "code",
   "execution_count": 2,
   "metadata": {},
   "outputs": [],
   "source": [
    "import pandas as pd\n",
    "import numpy as np\n",
    "import mysql.connector\n",
    "import datetime as dt\n",
    "import matplotlib.pyplot as plt\n",
    "import seaborn as sns\n",
    "import string\n",
    "#from fuzzywuzzy import fuzz\n",
    "#from fuzzywuzzy import process\n",
    "%matplotlib inline"
   ]
  },
  {
   "cell_type": "code",
   "execution_count": 3,
   "metadata": {},
   "outputs": [],
   "source": [
    "con = mysql.connector.connect(user='hbs-student', password='super-secure-password?',\n",
    "                              host='hbs-ds-060120.c1doesqrid0e.us-east-1.rds.amazonaws.com',\n",
    "                              database='movies')\n",
    "cur = con.cursor()"
   ]
  },
  {
   "cell_type": "markdown",
   "metadata": {},
   "source": [
    "# Data Cleaning"
   ]
  },
  {
   "cell_type": "markdown",
   "metadata": {},
   "source": [
    "### IMDB Titles"
   ]
  },
  {
   "cell_type": "code",
   "execution_count": 4,
   "metadata": {},
   "outputs": [],
   "source": [
    "query = ('''\n",
    "SELECT *\n",
    "FROM imdb_title_basics imdb_b\n",
    "JOIN imdb_title_crew imdb_c USING (tconst)\n",
    "JOIN imdb_title_ratings imdb_e USING (tconst)\n",
    "''')\n",
    "imdb_titles = pd.read_sql_query(query, con)\n",
    "#joining all IMDB title tables using title ids and name ids"
   ]
  },
  {
   "cell_type": "code",
   "execution_count": 5,
   "metadata": {
    "scrolled": true
   },
   "outputs": [
    {
     "data": {
      "text/plain": [
       "tconst                 0\n",
       "primary_title          0\n",
       "original_title         0\n",
       "start_year             0\n",
       "runtime_minutes     7620\n",
       "genres                 0\n",
       "directors              0\n",
       "writers            10561\n",
       "averagerating          0\n",
       "numvotes               0\n",
       "dtype: int64"
      ]
     },
     "execution_count": 5,
     "metadata": {},
     "output_type": "execute_result"
    }
   ],
   "source": [
    "imdb_titles.isna().sum()\n",
    "#checking for null values"
   ]
  },
  {
   "cell_type": "code",
   "execution_count": 6,
   "metadata": {},
   "outputs": [],
   "source": [
    "imdb_titles = imdb_titles.dropna(subset=['runtime_minutes'])\n",
    "imdb_titles = imdb_titles.dropna(subset=['writers'])\n",
    "#Removing rows with null values for runtime minutes and writers"
   ]
  },
  {
   "cell_type": "code",
   "execution_count": 7,
   "metadata": {},
   "outputs": [],
   "source": [
    "pd.set_option('display.max_columns',None)\n",
    "# Want to see all columns to see which are going to be useful"
   ]
  },
  {
   "cell_type": "code",
   "execution_count": 8,
   "metadata": {},
   "outputs": [],
   "source": [
    "imdb_titles['genres'] = imdb_titles['genres'].map(lambda x: x.split(','))\n",
    "imdb_titles['directors'] = imdb_titles['directors'].map(lambda x: x.split(','))\n",
    "imdb_titles['writers'] = imdb_titles['writers'].map(lambda x: x.split(','))\n",
    "# Converting genres, directors, writers to lists, so we can easily check most popular later."
   ]
  },
  {
   "cell_type": "code",
   "execution_count": 9,
   "metadata": {},
   "outputs": [],
   "source": [
    "imdb_titles['age_of_movie']= 2020 - imdb_titles['start_year']\n",
    "#Creating new column to have \"age of movie\" as a reference"
   ]
  },
  {
   "cell_type": "code",
   "execution_count": 10,
   "metadata": {},
   "outputs": [],
   "source": [
    "translator1 = str.maketrans('0123456789','..........')\n",
    "translator2 = str.maketrans('', '', string.punctuation)\n",
    "imdb_titles['dummy_title'] = imdb_titles.primary_title.map(lambda x: x.translate(translator1).translate(translator2).strip())\n",
    "#Dropping numbers and punctuation marks from primary_title to make a dummy key\n",
    "\n",
    "imdb_titles['dummy_title'] = imdb_titles['dummy_title'].str.replace('[ ]','_')\n",
    "imdb_titles['dummy_title'] = imdb_titles['dummy_title'].str.lower()\n",
    "imdb_titles['dummy_title'] = imdb_titles['dummy_title'].map(lambda x: x.strip())\n",
    "#Creating a dummy_title column, to be used for our dummy key"
   ]
  },
  {
   "cell_type": "code",
   "execution_count": 11,
   "metadata": {},
   "outputs": [],
   "source": [
    "imdb_titles['start_year'] = imdb_titles['start_year'].map(lambda x: str(x))\n",
    "#Turning start_year to string so that I can combine it with dummy_title in another column"
   ]
  },
  {
   "cell_type": "code",
   "execution_count": 12,
   "metadata": {},
   "outputs": [],
   "source": [
    "imdb_titles['dummy_key'] = imdb_titles['dummy_title'] + \"_\" + imdb_titles['start_year']\n",
    "#Creating a new column for dummy_key"
   ]
  },
  {
   "cell_type": "code",
   "execution_count": 13,
   "metadata": {},
   "outputs": [],
   "source": [
    "imdb_titles = imdb_titles.drop(columns=['dummy_title'])\n",
    "#removing dummy_title since I have the dummy_key I need"
   ]
  },
  {
   "cell_type": "markdown",
   "metadata": {},
   "source": [
    "### IMDB Crew"
   ]
  },
  {
   "cell_type": "code",
   "execution_count": 14,
   "metadata": {},
   "outputs": [],
   "source": [
    "query = ('''\n",
    "SELECT *\n",
    "FROM imdb_name_basics\n",
    "''')\n",
    "imdb_crew = pd.read_sql_query(query, con)"
   ]
  },
  {
   "cell_type": "code",
   "execution_count": 15,
   "metadata": {
    "scrolled": true
   },
   "outputs": [
    {
     "data": {
      "text/plain": [
       "nconst                     0\n",
       "primary_name               0\n",
       "birth_year            523912\n",
       "death_year            599865\n",
       "primary_profession         0\n",
       "known_for_titles           0\n",
       "dtype: int64"
      ]
     },
     "execution_count": 15,
     "metadata": {},
     "output_type": "execute_result"
    }
   ],
   "source": [
    "imdb_crew.isna().sum()\n",
    "# Checking for null values"
   ]
  },
  {
   "cell_type": "code",
   "execution_count": 16,
   "metadata": {
    "scrolled": true
   },
   "outputs": [],
   "source": [
    "imdb_crew = imdb_crew.fillna(0)\n",
    "#Replacing null values with 0"
   ]
  },
  {
   "cell_type": "code",
   "execution_count": 17,
   "metadata": {},
   "outputs": [],
   "source": [
    "imdb_crew['birth_year'] = imdb_crew['birth_year'].map(lambda x: int(x))\n",
    "imdb_crew['death_year'] = imdb_crew['death_year'].map(lambda x: int(x))\n",
    "#Converting birth years and death years to integer"
   ]
  },
  {
   "cell_type": "code",
   "execution_count": 18,
   "metadata": {},
   "outputs": [
    {
     "name": "stdout",
     "output_type": "stream",
     "text": [
      "<class 'pandas.core.frame.DataFrame'>\n",
      "RangeIndex: 606648 entries, 0 to 606647\n",
      "Data columns (total 6 columns):\n",
      " #   Column              Non-Null Count   Dtype \n",
      "---  ------              --------------   ----- \n",
      " 0   nconst              606648 non-null  object\n",
      " 1   primary_name        606648 non-null  object\n",
      " 2   birth_year          606648 non-null  int64 \n",
      " 3   death_year          606648 non-null  int64 \n",
      " 4   primary_profession  606648 non-null  object\n",
      " 5   known_for_titles    606648 non-null  object\n",
      "dtypes: int64(2), object(4)\n",
      "memory usage: 27.8+ MB\n"
     ]
    }
   ],
   "source": [
    "imdb_crew.info()"
   ]
  },
  {
   "cell_type": "code",
   "execution_count": 19,
   "metadata": {},
   "outputs": [],
   "source": [
    "imdb_crew['primary_profession'] = imdb_crew['primary_profession'].map(lambda x: x.split(','))\n",
    "imdb_crew['known_for_titles'] = imdb_crew['known_for_titles'].map(lambda x: x.split(','))\n",
    "#Converting these to lists so we can easily reference them later"
   ]
  },
  {
   "cell_type": "code",
   "execution_count": 20,
   "metadata": {},
   "outputs": [],
   "source": [
    "imdb_crew['age'] = imdb_crew.apply(lambda row: (2020 - row['birth_year']) if row['death_year'] == 0 else None, axis=1)\n",
    "#Adding an age column. If the age is 2020, it means that there is no birth year available. If the age is equal to None, it means the person is dead."
   ]
  },
  {
   "cell_type": "markdown",
   "metadata": {},
   "source": [
    "### BOM"
   ]
  },
  {
   "cell_type": "code",
   "execution_count": 21,
   "metadata": {},
   "outputs": [],
   "source": [
    "query = ('''\n",
    "SELECT * FROM bom_movie_gross\n",
    "''')\n",
    "bom = pd.read_sql_query(query, con)"
   ]
  },
  {
   "cell_type": "code",
   "execution_count": 22,
   "metadata": {},
   "outputs": [],
   "source": [
    "#drop Null value in domestic_gross\n",
    "bom = bom.dropna(subset =['domestic_gross'])\n",
    "\n",
    "#convert Null value in foreign_gross to 0\n",
    "bom.foreign_gross = bom.foreign_gross.fillna(0)\n",
    "\n",
    "#convert domestic_gross and foreign_gross from float to int\n",
    "bom.domestic_gross = bom.domestic_gross.map(lambda x: int(x))   \n",
    "bom.foreign_gross = bom.foreign_gross.map(lambda x: int(x))  "
   ]
  },
  {
   "cell_type": "code",
   "execution_count": 23,
   "metadata": {},
   "outputs": [],
   "source": [
    "#remove spaces on both end of strings\n",
    "bom.title = bom.title.map(lambda x: x.strip())\n",
    "bom.studio = bom.studio.map(lambda x: x.strip())"
   ]
  },
  {
   "cell_type": "code",
   "execution_count": 24,
   "metadata": {},
   "outputs": [],
   "source": [
    "#convert year to str\n",
    "bom['year'] = bom['year'].map(str)\n",
    "\n",
    "#remove all punctuation and numbers inside movie title\n",
    "translator1 = str.maketrans('0123456789','..........')\n",
    "translator2 = str.maketrans('', '', string.punctuation)\n",
    "bom['title_cleaned'] = bom.title.map(lambda x: x.translate(translator1).translate(translator2).strip())\n",
    "\n",
    "#combine title and year\n",
    "bom['title_cleaned'] = bom['title_cleaned'] + '_' + bom['year']\n",
    "\n",
    "#replace all empty spaces with _ and lower all string\n",
    "bom['title_cleaned'] = bom['title_cleaned'].str.replace(' ','_').str.lower()\n",
    "\n",
    "#convert year back to int\n",
    "bom['year'] = bom['year'].map(int)"
   ]
  },
  {
   "cell_type": "markdown",
   "metadata": {},
   "source": [
    "### TN"
   ]
  },
  {
   "cell_type": "code",
   "execution_count": 25,
   "metadata": {},
   "outputs": [],
   "source": [
    "query_tn = ('''\n",
    "SELECT * FROM tn_movie_budgets\n",
    "''')\n",
    "tn = pd.read_sql_query(query_tn, con)"
   ]
  },
  {
   "cell_type": "code",
   "execution_count": 26,
   "metadata": {},
   "outputs": [],
   "source": [
    "# convert release_date to date format\n",
    "tn.release_date = tn.release_date.map(lambda x: dt.datetime.strptime(x, '%b %d, %Y'))\n",
    "\n",
    "# convert production_budget, domestic_gross, worldwide_gross to date format\n",
    "tn.production_budget = tn.production_budget.map(lambda x: int(x.replace(',','').replace('$','')))\n",
    "tn.domestic_gross = tn.domestic_gross.map(lambda x: int(x.replace(',','').replace('$','')))\n",
    "tn.worldwide_gross = tn.worldwide_gross.map(lambda x: int(x.replace(',','').replace('$','')))\n",
    "\n",
    "#add profit column\n",
    "tn['profit'] = tn.worldwide_gross - tn.production_budget"
   ]
  },
  {
   "cell_type": "code",
   "execution_count": 27,
   "metadata": {},
   "outputs": [],
   "source": [
    "#add new column for release year\n",
    "tn['year'] = tn.release_date.map(lambda x: str(x.year))\n",
    "\n",
    "#remove all punctuation and numbers inside movie title\n",
    "translator1 = str.maketrans('0123456789','..........')\n",
    "translator2 = str.maketrans('', '', string.punctuation)\n",
    "tn['title_cleaned'] = tn.movie.map(lambda x: x.translate(translator1).translate(translator2).strip())\n",
    "\n",
    "#combine title and year\n",
    "tn['title_cleaned'] = tn['title_cleaned']+'_'+tn['year']\n",
    "\n",
    "#replace all empty spaces with _ and lower all string\n",
    "tn['title_cleaned'] = tn['title_cleaned'].str.replace(' ','_').str.lower()\n",
    "\n",
    "#drop column year\n",
    "tn = tn.drop(axis = 1, columns='year')"
   ]
  },
  {
   "cell_type": "markdown",
   "metadata": {},
   "source": [
    "### TMDB"
   ]
  },
  {
   "cell_type": "code",
   "execution_count": 28,
   "metadata": {},
   "outputs": [],
   "source": [
    "query_tmdb = ('''\n",
    "SELECT * FROM tmdb_movies\n",
    "''')\n",
    "tmdb = pd.read_sql_query(query_tmdb, con)"
   ]
  },
  {
   "cell_type": "code",
   "execution_count": 29,
   "metadata": {},
   "outputs": [],
   "source": [
    "query_tmdb_link = ('''\n",
    "SELECT * FROM tmdb_imdb_link\n",
    "''')\n",
    "tmdb_link = pd.read_sql_query(query_tmdb_link, con)"
   ]
  },
  {
   "cell_type": "code",
   "execution_count": 30,
   "metadata": {},
   "outputs": [],
   "source": [
    "#convert genre_ids to int\n",
    "tmdb.genre_ids.map(lambda x: int(x))\n",
    "\n",
    "#remove spaces on both end of strings\n",
    "tmdb.original_language = tmdb.original_language.map(lambda x: x.strip())\n",
    "tmdb.original_title = tmdb.original_title.map(lambda x: x.strip())\n",
    "tmdb.title = tmdb.title.map(lambda x: x.strip())"
   ]
  },
  {
   "cell_type": "code",
   "execution_count": 31,
   "metadata": {},
   "outputs": [],
   "source": [
    "#Join tmdb and tmdb_link tables\n",
    "tmdb = tmdb.join(tmdb_link.set_index('tmdb_id'), on = 'id', how = 'left')"
   ]
  },
  {
   "cell_type": "code",
   "execution_count": 32,
   "metadata": {},
   "outputs": [],
   "source": [
    "#clean the joined table\n",
    "tmdb.imdb_id = tmdb.imdb_id.fillna(0).map(lambda x: int(x))"
   ]
  },
  {
   "cell_type": "code",
   "execution_count": 33,
   "metadata": {},
   "outputs": [],
   "source": [
    "#add new column for release year\n",
    "tmdb['year'] = tmdb.release_date.map(lambda x: str(x.year))\n",
    "\n",
    "#remove all punctuation and numbers inside movie title\n",
    "translator1 = str.maketrans('0123456789','..........')\n",
    "translator2 = str.maketrans('', '', string.punctuation)\n",
    "tmdb['title_cleaned'] = tmdb.title.map(lambda x: x.translate(translator1).translate(translator2).strip())\n",
    "\n",
    "#combine title and year\n",
    "tmdb['title_cleaned'] = tmdb['title_cleaned']+'_'+tmdb['year']\n",
    "\n",
    "#replace all empty spaces with _ and lower all string\n",
    "tmdb['title_cleaned'] = tmdb['title_cleaned'].str.replace(' ','_').str.lower()\n",
    "\n",
    "#drop column year\n",
    "tmdb = tmdb.drop(axis = 1, columns='year')"
   ]
  },
  {
   "cell_type": "markdown",
   "metadata": {},
   "source": [
    "### RT"
   ]
  },
  {
   "cell_type": "code",
   "execution_count": 34,
   "metadata": {},
   "outputs": [],
   "source": [
    "query_rt_info = ('''\n",
    "SELECT * FROM rt_movie_info\n",
    "''')\n",
    "rt_info = pd.read_sql_query(query_rt_info, con)"
   ]
  },
  {
   "cell_type": "code",
   "execution_count": 35,
   "metadata": {},
   "outputs": [],
   "source": [
    "query_rt_reviews = ('''\n",
    "SELECT * FROM rt_reviews\n",
    "''')\n",
    "rt_reviews = pd.read_sql_query(query_rt_reviews, con)"
   ]
  },
  {
   "cell_type": "code",
   "execution_count": 36,
   "metadata": {},
   "outputs": [],
   "source": [
    "query_rt_link = ('''\n",
    "SELECT * FROM rt_imdb_link\n",
    "''')\n",
    "rt_link = pd.read_sql_query(query_rt_link, con)"
   ]
  },
  {
   "cell_type": "markdown",
   "metadata": {},
   "source": [
    "### RT_Info Cleaning"
   ]
  },
  {
   "cell_type": "code",
   "execution_count": 37,
   "metadata": {},
   "outputs": [
    {
     "name": "stderr",
     "output_type": "stream",
     "text": [
      "C:\\Users\\yazan\\anaconda3\\lib\\site-packages\\pandas\\core\\indexing.py:670: SettingWithCopyWarning: \n",
      "A value is trying to be set on a copy of a slice from a DataFrame\n",
      "\n",
      "See the caveats in the documentation: https://pandas.pydata.org/pandas-docs/stable/user_guide/indexing.html#returning-a-view-versus-a-copy\n",
      "  self._setitem_with_indexer(indexer, value)\n"
     ]
    }
   ],
   "source": [
    "#replace empty value in theater_date and dvd_date with Jan 1,1000\n",
    "rt_info['theater_date'].loc[rt_info.theater_date == ''] = 'Jan 1, 1000'\n",
    "rt_info['dvd_date'].loc[rt_info.dvd_date == ''] = 'Jan 1, 1000'"
   ]
  },
  {
   "cell_type": "code",
   "execution_count": 38,
   "metadata": {},
   "outputs": [],
   "source": [
    "#convert theater_date and dvd_date to datetime format\n",
    "rt_info.theater_date = rt_info.theater_date.map(lambda x: dt.datetime.strptime(x, '%b %d, %Y').date())\n",
    "rt_info.dvd_date = rt_info.dvd_date.map(lambda x: dt.datetime.strptime(x, '%b %d, %Y').date())"
   ]
  },
  {
   "cell_type": "code",
   "execution_count": 39,
   "metadata": {},
   "outputs": [],
   "source": [
    "#clean box_office date\n",
    "rt_info['box_office'].loc[rt_info.box_office == ''] = '0'\n",
    "rt_info['box_office'] = rt_info.box_office.map(lambda x: int(x.replace(',', '')))"
   ]
  },
  {
   "cell_type": "code",
   "execution_count": 40,
   "metadata": {},
   "outputs": [],
   "source": [
    "#clean runtime (replace empty value with 0)\n",
    "rt_info['runtime'].loc[rt_info.runtime == ''] = '0'\n",
    "rt_info['runtime'] = rt_info.runtime.map(lambda x: int(x.replace('minutes', '')))"
   ]
  },
  {
   "cell_type": "code",
   "execution_count": 41,
   "metadata": {},
   "outputs": [],
   "source": [
    "#remove spaces on both end of strings\n",
    "rt_info.synopsis = rt_info.synopsis.map(lambda x: x.strip())\n",
    "rt_info.rating = rt_info.rating.map(lambda x: x.strip())\n",
    "rt_info.genre = rt_info.genre.map(lambda x: x.strip())\n",
    "rt_info.director = rt_info.director.map(lambda x: x.strip())\n",
    "rt_info.writer = rt_info.writer.map(lambda x: x.strip())"
   ]
  },
  {
   "cell_type": "code",
   "execution_count": 42,
   "metadata": {},
   "outputs": [],
   "source": [
    "rt_info['genre'] = rt_info['genre'].map(lambda x: x.split('|'))\n",
    "rt_info['writer'] = rt_info['writer'].map(lambda x: x.split('|'))\n",
    "rt_info['director'] = rt_info['director'].map(lambda x: x.split('|'))\n",
    "#Converting genre, writer, director to list so we can reference them easily"
   ]
  },
  {
   "cell_type": "code",
   "execution_count": 43,
   "metadata": {},
   "outputs": [],
   "source": [
    "rt_info = rt_info.drop(columns=['box_office','currency'],axis=1)\n",
    "#Dropping box_office because we have better data on another table, dropping currency because we removed box office data"
   ]
  },
  {
   "cell_type": "markdown",
   "metadata": {},
   "source": [
    "### RT_Reviews Cleaning"
   ]
  },
  {
   "cell_type": "code",
   "execution_count": 44,
   "metadata": {},
   "outputs": [],
   "source": [
    "#convert date to datetime format\n",
    "rt_reviews.date = rt_reviews.date.map(lambda x: dt.datetime.strptime(x, '%B %d, %Y').date())"
   ]
  },
  {
   "cell_type": "code",
   "execution_count": 45,
   "metadata": {},
   "outputs": [],
   "source": [
    "#convert top_critic to int\n",
    "rt_reviews.top_critic = rt_reviews.top_critic.map(lambda x: int(x))"
   ]
  },
  {
   "cell_type": "code",
   "execution_count": 46,
   "metadata": {},
   "outputs": [],
   "source": [
    "#remove spaces on both end of strings\n",
    "rt_reviews.review = rt_reviews.review.map(lambda x: x.strip())\n",
    "rt_reviews.rating = rt_reviews.rating.map(lambda x: x.strip())\n",
    "rt_reviews.fresh = rt_reviews.fresh.map(lambda x: x.strip())\n",
    "rt_reviews.critic = rt_reviews.critic.map(lambda x: x.strip())\n",
    "rt_reviews.publisher = rt_reviews.publisher.map(lambda x: x.strip())"
   ]
  },
  {
   "cell_type": "markdown",
   "metadata": {},
   "source": [
    "### RT_link cleaning"
   ]
  },
  {
   "cell_type": "code",
   "execution_count": 47,
   "metadata": {},
   "outputs": [],
   "source": [
    "rt_link.year = rt_link.year.fillna(1000)"
   ]
  },
  {
   "cell_type": "code",
   "execution_count": 48,
   "metadata": {},
   "outputs": [
    {
     "name": "stdout",
     "output_type": "stream",
     "text": [
      "<class 'pandas.core.frame.DataFrame'>\n",
      "RangeIndex: 17468 entries, 0 to 17467\n",
      "Data columns (total 6 columns):\n",
      " #   Column       Non-Null Count  Dtype  \n",
      "---  ------       --------------  -----  \n",
      " 0   imdbid       17468 non-null  int64  \n",
      " 1   rtid         17468 non-null  int64  \n",
      " 2   title        17468 non-null  object \n",
      " 3   year         17468 non-null  float64\n",
      " 4   mpaa_rating  17468 non-null  object \n",
      " 5   runtime      17468 non-null  object \n",
      "dtypes: float64(1), int64(2), object(3)\n",
      "memory usage: 818.9+ KB\n"
     ]
    }
   ],
   "source": [
    "rt_link.info()"
   ]
  },
  {
   "cell_type": "code",
   "execution_count": 49,
   "metadata": {},
   "outputs": [],
   "source": [
    "#replace empty space to year 1000 in year\n",
    "rt_link.year = rt_link.year.fillna(1000)\n",
    "\n",
    "#convert date to datetime format\n",
    "rt_link.year = rt_link.year.map(lambda x: (int(x)))"
   ]
  },
  {
   "cell_type": "code",
   "execution_count": 50,
   "metadata": {},
   "outputs": [],
   "source": [
    "#replace empty space in runtime to 0\n",
    "rt_link['runtime'].loc[rt_link.runtime == ''] = '0'\n",
    "\n",
    "#convert runtime to int format\n",
    "rt_link.runtime = rt_link.runtime.map(lambda x: (int(x)))"
   ]
  },
  {
   "cell_type": "code",
   "execution_count": 51,
   "metadata": {},
   "outputs": [],
   "source": [
    "#convert year to str\n",
    "rt_link['year'] = rt_link['year'].map(str)\n",
    "\n",
    "#remove all punctuation and numbers inside movie title\n",
    "translator1 = str.maketrans('0123456789','..........')\n",
    "translator2 = str.maketrans('', '', string.punctuation)\n",
    "rt_link['title_cleaned'] = rt_link.title.map(lambda x: x.translate(translator1).translate(translator2).strip())\n",
    "\n",
    "#combine title and year\n",
    "rt_link['title_cleaned'] = rt_link['title_cleaned'] + '_' + rt_link['year']\n",
    "\n",
    "#replace all empty spaces with _ and lower all string\n",
    "rt_link['title_cleaned'] = rt_link['title_cleaned'].str.replace(' ','_').str.lower()\n",
    "\n",
    "#convert year back to int\n",
    "rt_link['year'] = rt_link['year'].map(int)"
   ]
  },
  {
   "cell_type": "markdown",
   "metadata": {},
   "source": [
    "# Top 200 Profitable Movies after 2000"
   ]
  },
  {
   "cell_type": "markdown",
   "metadata": {},
   "source": [
    "### Both BOM and TN have similar information about budget, but TN database is more complete so we decided to use TN to calculate profit."
   ]
  },
  {
   "cell_type": "code",
   "execution_count": 52,
   "metadata": {},
   "outputs": [],
   "source": [
    "# get top 200 revenue domestic movies after 2000\n",
    "top200_revenue_domestic = tn.loc[tn.release_date>dt.datetime(2000,1,1)].sort_values('domestic_gross',ascending=False).head(200)\n",
    "\n",
    "# get top 200 revenue worldwide movies after 2000\n",
    "top200_revenue_world = tn.loc[tn.release_date>dt.datetime(2000,1,1)].sort_values('worldwide_gross',ascending=False).head(200)\n",
    "\n",
    "# get top 200 profit movies after 2000\n",
    "top200_profit = tn.loc[tn.release_date>dt.datetime(2000,1,1)].sort_values('profit',ascending=False).head(200)"
   ]
  },
  {
   "cell_type": "code",
   "execution_count": 53,
   "metadata": {
    "scrolled": true
   },
   "outputs": [
    {
     "data": {
      "text/html": [
       "<div>\n",
       "<style scoped>\n",
       "    .dataframe tbody tr th:only-of-type {\n",
       "        vertical-align: middle;\n",
       "    }\n",
       "\n",
       "    .dataframe tbody tr th {\n",
       "        vertical-align: top;\n",
       "    }\n",
       "\n",
       "    .dataframe thead th {\n",
       "        text-align: right;\n",
       "    }\n",
       "</style>\n",
       "<table border=\"1\" class=\"dataframe\">\n",
       "  <thead>\n",
       "    <tr style=\"text-align: right;\">\n",
       "      <th></th>\n",
       "      <th>id</th>\n",
       "      <th>release_date</th>\n",
       "      <th>movie</th>\n",
       "      <th>production_budget</th>\n",
       "      <th>domestic_gross</th>\n",
       "      <th>worldwide_gross</th>\n",
       "      <th>profit</th>\n",
       "      <th>title_cleaned</th>\n",
       "    </tr>\n",
       "  </thead>\n",
       "  <tbody>\n",
       "    <tr>\n",
       "      <th>0</th>\n",
       "      <td>1</td>\n",
       "      <td>2009-12-18</td>\n",
       "      <td>Avatar</td>\n",
       "      <td>425000000</td>\n",
       "      <td>760507625</td>\n",
       "      <td>2776345279</td>\n",
       "      <td>2351345279</td>\n",
       "      <td>avatar_2009</td>\n",
       "    </tr>\n",
       "    <tr>\n",
       "      <th>6</th>\n",
       "      <td>7</td>\n",
       "      <td>2018-04-27</td>\n",
       "      <td>Avengers: Infinity War</td>\n",
       "      <td>300000000</td>\n",
       "      <td>678815482</td>\n",
       "      <td>2048134200</td>\n",
       "      <td>1748134200</td>\n",
       "      <td>avengers_infinity_war_2018</td>\n",
       "    </tr>\n",
       "    <tr>\n",
       "      <th>5</th>\n",
       "      <td>6</td>\n",
       "      <td>2015-12-18</td>\n",
       "      <td>Star Wars Ep. VII: The Force Awakens</td>\n",
       "      <td>306000000</td>\n",
       "      <td>936662225</td>\n",
       "      <td>2053311220</td>\n",
       "      <td>1747311220</td>\n",
       "      <td>star_wars_ep_vii_the_force_awakens_2015</td>\n",
       "    </tr>\n",
       "    <tr>\n",
       "      <th>33</th>\n",
       "      <td>34</td>\n",
       "      <td>2015-06-12</td>\n",
       "      <td>Jurassic World</td>\n",
       "      <td>215000000</td>\n",
       "      <td>652270625</td>\n",
       "      <td>1648854864</td>\n",
       "      <td>1433854864</td>\n",
       "      <td>jurassic_world_2015</td>\n",
       "    </tr>\n",
       "    <tr>\n",
       "      <th>66</th>\n",
       "      <td>67</td>\n",
       "      <td>2015-04-03</td>\n",
       "      <td>Furious 7</td>\n",
       "      <td>190000000</td>\n",
       "      <td>353007020</td>\n",
       "      <td>1518722794</td>\n",
       "      <td>1328722794</td>\n",
       "      <td>furious_2015</td>\n",
       "    </tr>\n",
       "  </tbody>\n",
       "</table>\n",
       "</div>"
      ],
      "text/plain": [
       "    id release_date                                 movie  production_budget  \\\n",
       "0    1   2009-12-18                                Avatar          425000000   \n",
       "6    7   2018-04-27                Avengers: Infinity War          300000000   \n",
       "5    6   2015-12-18  Star Wars Ep. VII: The Force Awakens          306000000   \n",
       "33  34   2015-06-12                        Jurassic World          215000000   \n",
       "66  67   2015-04-03                             Furious 7          190000000   \n",
       "\n",
       "    domestic_gross  worldwide_gross      profit  \\\n",
       "0        760507625       2776345279  2351345279   \n",
       "6        678815482       2048134200  1748134200   \n",
       "5        936662225       2053311220  1747311220   \n",
       "33       652270625       1648854864  1433854864   \n",
       "66       353007020       1518722794  1328722794   \n",
       "\n",
       "                              title_cleaned  \n",
       "0                               avatar_2009  \n",
       "6                avengers_infinity_war_2018  \n",
       "5   star_wars_ep_vii_the_force_awakens_2015  \n",
       "33                      jurassic_world_2015  \n",
       "66                             furious_2015  "
      ]
     },
     "execution_count": 53,
     "metadata": {},
     "output_type": "execute_result"
    }
   ],
   "source": [
    "top200_profit.head()"
   ]
  },
  {
   "cell_type": "code",
   "execution_count": 54,
   "metadata": {},
   "outputs": [
    {
     "data": {
      "text/html": [
       "<div>\n",
       "<style scoped>\n",
       "    .dataframe tbody tr th:only-of-type {\n",
       "        vertical-align: middle;\n",
       "    }\n",
       "\n",
       "    .dataframe tbody tr th {\n",
       "        vertical-align: top;\n",
       "    }\n",
       "\n",
       "    .dataframe thead th {\n",
       "        text-align: right;\n",
       "    }\n",
       "</style>\n",
       "<table border=\"1\" class=\"dataframe\">\n",
       "  <thead>\n",
       "    <tr style=\"text-align: right;\">\n",
       "      <th></th>\n",
       "      <th>tconst</th>\n",
       "      <th>primary_title</th>\n",
       "      <th>original_title</th>\n",
       "      <th>start_year</th>\n",
       "      <th>runtime_minutes</th>\n",
       "      <th>genres</th>\n",
       "      <th>directors</th>\n",
       "      <th>writers</th>\n",
       "      <th>averagerating</th>\n",
       "      <th>numvotes</th>\n",
       "      <th>age_of_movie</th>\n",
       "      <th>dummy_key</th>\n",
       "    </tr>\n",
       "  </thead>\n",
       "  <tbody>\n",
       "    <tr>\n",
       "      <th>0</th>\n",
       "      <td>tt0063540</td>\n",
       "      <td>Sunghursh</td>\n",
       "      <td>Sunghursh</td>\n",
       "      <td>2013</td>\n",
       "      <td>175.0</td>\n",
       "      <td>[Action, Crime, Drama]</td>\n",
       "      <td>[nm0712540]</td>\n",
       "      <td>[nm0023551, nm1194313, nm0347899, nm1391276]</td>\n",
       "      <td>7.0</td>\n",
       "      <td>77</td>\n",
       "      <td>7</td>\n",
       "      <td>sunghursh_2013</td>\n",
       "    </tr>\n",
       "    <tr>\n",
       "      <th>2</th>\n",
       "      <td>tt0069049</td>\n",
       "      <td>The Other Side of the Wind</td>\n",
       "      <td>The Other Side of the Wind</td>\n",
       "      <td>2018</td>\n",
       "      <td>122.0</td>\n",
       "      <td>[Drama]</td>\n",
       "      <td>[nm0000080]</td>\n",
       "      <td>[nm0000080, nm0462648]</td>\n",
       "      <td>6.9</td>\n",
       "      <td>4517</td>\n",
       "      <td>2</td>\n",
       "      <td>the_other_side_of_the_wind_2018</td>\n",
       "    </tr>\n",
       "    <tr>\n",
       "      <th>4</th>\n",
       "      <td>tt0100275</td>\n",
       "      <td>The Wandering Soap Opera</td>\n",
       "      <td>La Telenovela Errante</td>\n",
       "      <td>2017</td>\n",
       "      <td>80.0</td>\n",
       "      <td>[Comedy, Drama, Fantasy]</td>\n",
       "      <td>[nm0765384, nm0749914]</td>\n",
       "      <td>[nm1360635, nm0749914]</td>\n",
       "      <td>6.5</td>\n",
       "      <td>119</td>\n",
       "      <td>3</td>\n",
       "      <td>the_wandering_soap_opera_2017</td>\n",
       "    </tr>\n",
       "    <tr>\n",
       "      <th>6</th>\n",
       "      <td>tt0137204</td>\n",
       "      <td>Joe Finds Grace</td>\n",
       "      <td>Joe Finds Grace</td>\n",
       "      <td>2017</td>\n",
       "      <td>83.0</td>\n",
       "      <td>[Adventure, Animation, Comedy]</td>\n",
       "      <td>[nm0365480]</td>\n",
       "      <td>[nm0365480]</td>\n",
       "      <td>8.1</td>\n",
       "      <td>263</td>\n",
       "      <td>3</td>\n",
       "      <td>joe_finds_grace_2017</td>\n",
       "    </tr>\n",
       "    <tr>\n",
       "      <th>7</th>\n",
       "      <td>tt0146592</td>\n",
       "      <td>Pál Adrienn</td>\n",
       "      <td>Pál Adrienn</td>\n",
       "      <td>2010</td>\n",
       "      <td>136.0</td>\n",
       "      <td>[Drama]</td>\n",
       "      <td>[nm1030585]</td>\n",
       "      <td>[nm1030585, nm1921430]</td>\n",
       "      <td>6.8</td>\n",
       "      <td>451</td>\n",
       "      <td>10</td>\n",
       "      <td>pál_adrienn_2010</td>\n",
       "    </tr>\n",
       "  </tbody>\n",
       "</table>\n",
       "</div>"
      ],
      "text/plain": [
       "      tconst               primary_title              original_title  \\\n",
       "0  tt0063540                   Sunghursh                   Sunghursh   \n",
       "2  tt0069049  The Other Side of the Wind  The Other Side of the Wind   \n",
       "4  tt0100275    The Wandering Soap Opera       La Telenovela Errante   \n",
       "6  tt0137204             Joe Finds Grace             Joe Finds Grace   \n",
       "7  tt0146592                 Pál Adrienn                 Pál Adrienn   \n",
       "\n",
       "  start_year  runtime_minutes                          genres  \\\n",
       "0       2013            175.0          [Action, Crime, Drama]   \n",
       "2       2018            122.0                         [Drama]   \n",
       "4       2017             80.0        [Comedy, Drama, Fantasy]   \n",
       "6       2017             83.0  [Adventure, Animation, Comedy]   \n",
       "7       2010            136.0                         [Drama]   \n",
       "\n",
       "                directors                                       writers  \\\n",
       "0             [nm0712540]  [nm0023551, nm1194313, nm0347899, nm1391276]   \n",
       "2             [nm0000080]                        [nm0000080, nm0462648]   \n",
       "4  [nm0765384, nm0749914]                        [nm1360635, nm0749914]   \n",
       "6             [nm0365480]                                   [nm0365480]   \n",
       "7             [nm1030585]                        [nm1030585, nm1921430]   \n",
       "\n",
       "   averagerating  numvotes  age_of_movie                        dummy_key  \n",
       "0            7.0        77             7                   sunghursh_2013  \n",
       "2            6.9      4517             2  the_other_side_of_the_wind_2018  \n",
       "4            6.5       119             3    the_wandering_soap_opera_2017  \n",
       "6            8.1       263             3             joe_finds_grace_2017  \n",
       "7            6.8       451            10                 pál_adrienn_2010  "
      ]
     },
     "execution_count": 54,
     "metadata": {},
     "output_type": "execute_result"
    }
   ],
   "source": [
    "imdb_titles.head()"
   ]
  },
  {
   "cell_type": "code",
   "execution_count": 55,
   "metadata": {},
   "outputs": [],
   "source": [
    "# there are only 140 movies from top200_profit that can be find inside imdb datebdase. \n",
    "# So we narrowed our data to these 140 movies\n",
    "\n",
    "top123_profit_imdb = imdb_titles.loc[imdb_titles.dummy_key.isin(list(top200_profit.title_cleaned))]"
   ]
  },
  {
   "cell_type": "code",
   "execution_count": 56,
   "metadata": {},
   "outputs": [],
   "source": [
    "# drop original title\n",
    "top123_profit_imdb = top123_profit_imdb.drop(axis = 1, columns = 'original_title')"
   ]
  },
  {
   "cell_type": "code",
   "execution_count": 57,
   "metadata": {},
   "outputs": [],
   "source": [
    "#join tn and imdb database together for top 140 movies\n",
    "top123_profit_1 = top123_profit_imdb.merge(\n",
    "    top200_profit, left_on='primary_title', right_on ='movie').drop(\n",
    "    axis=1, columns=['start_year', 'id'])"
   ]
  },
  {
   "cell_type": "code",
   "execution_count": 58,
   "metadata": {},
   "outputs": [],
   "source": [
    "top123_profit_2 = top123_profit_imdb.merge(\n",
    "    top200_profit, left_on='dummy_key', right_on ='title_cleaned').drop(\n",
    "    axis=1, columns=['start_year', 'id'])"
   ]
  },
  {
   "cell_type": "code",
   "execution_count": 59,
   "metadata": {},
   "outputs": [],
   "source": [
    "t = pd.concat([top123_profit_1, top123_profit_2])\n"
   ]
  },
  {
   "cell_type": "code",
   "execution_count": 60,
   "metadata": {},
   "outputs": [],
   "source": [
    "#t.drop_duplicates()"
   ]
  },
  {
   "cell_type": "markdown",
   "metadata": {},
   "source": [
    "### TN Database"
   ]
  },
  {
   "cell_type": "code",
   "execution_count": 61,
   "metadata": {},
   "outputs": [],
   "source": [
    "# get top 200 revenue domestic movies\n",
    "tn_top200_domestic = tn.sort_values('domestic_gross',ascending=False).head(200)\n",
    "\n",
    "# get top 200 revenue worldwide movies\n",
    "tn_top200_world = tn.sort_values('worldwide_gross',ascending=False).head(200)\n",
    "\n",
    "# get top 200 profit movies\n",
    "tn_top200_profit = tn.sort_values('profit',ascending=False).head(200)"
   ]
  },
  {
   "cell_type": "code",
   "execution_count": 62,
   "metadata": {},
   "outputs": [],
   "source": [
    "#Plot top 10 highest profit movies with bar chart\n",
    "#Scatter plots for top 200, production cost x revenue\n",
    "#Most common genre 200 movies\n",
    "# Top 3 directors for money"
   ]
  },
  {
   "cell_type": "markdown",
   "metadata": {},
   "source": [
    "# Top 200 Highest Rated Movies after 2000"
   ]
  },
  {
   "cell_type": "markdown",
   "metadata": {},
   "source": [
    "### Because the ratings on the RT table are inconsistent (Some show A+, some 4/5, some 7.5/10, etc), I will use the IMDB and TMDB ratings"
   ]
  },
  {
   "cell_type": "code",
   "execution_count": 63,
   "metadata": {},
   "outputs": [],
   "source": [
    "#To get tmdb['imdb_id'] to line up with the imdb table, I want to remove the \"tt\" at the beginning of the values in the imdb_titles['tconst'] column.\n",
    "imdb_titles['tconst'] = imdb_titles['tconst'].str[2:]\n",
    "#Similarly, I want to make sure that tmdb['imdb_id'] has 7 digits, using 0 as a filler, so that they match\n",
    "tmdb['imdb_id'] = tmdb['imdb_id'].astype(str).str.rjust(7,'0')"
   ]
  },
  {
   "cell_type": "code",
   "execution_count": 64,
   "metadata": {
    "scrolled": true
   },
   "outputs": [],
   "source": [
    "rating = imdb_titles.merge(tmdb,left_on='tconst',right_on='imdb_id')"
   ]
  },
  {
   "cell_type": "code",
   "execution_count": 65,
   "metadata": {},
   "outputs": [],
   "source": [
    "#Dropping some less relevant columns\n",
    "rating = rating.drop(columns=['original_title_x','original_title_y','id','genre_ids'])"
   ]
  },
  {
   "cell_type": "code",
   "execution_count": 66,
   "metadata": {
    "scrolled": true
   },
   "outputs": [
    {
     "data": {
      "text/html": [
       "<div>\n",
       "<style scoped>\n",
       "    .dataframe tbody tr th:only-of-type {\n",
       "        vertical-align: middle;\n",
       "    }\n",
       "\n",
       "    .dataframe tbody tr th {\n",
       "        vertical-align: top;\n",
       "    }\n",
       "\n",
       "    .dataframe thead th {\n",
       "        text-align: right;\n",
       "    }\n",
       "</style>\n",
       "<table border=\"1\" class=\"dataframe\">\n",
       "  <thead>\n",
       "    <tr style=\"text-align: right;\">\n",
       "      <th></th>\n",
       "      <th>tconst</th>\n",
       "      <th>primary_title</th>\n",
       "      <th>start_year</th>\n",
       "      <th>runtime_minutes</th>\n",
       "      <th>genres</th>\n",
       "      <th>directors</th>\n",
       "      <th>writers</th>\n",
       "      <th>averagerating</th>\n",
       "      <th>numvotes</th>\n",
       "      <th>age_of_movie</th>\n",
       "      <th>dummy_key</th>\n",
       "      <th>original_language</th>\n",
       "      <th>popularity</th>\n",
       "      <th>release_date</th>\n",
       "      <th>title</th>\n",
       "      <th>vote_average</th>\n",
       "      <th>vote_count</th>\n",
       "      <th>imdb_id</th>\n",
       "      <th>title_cleaned</th>\n",
       "    </tr>\n",
       "  </thead>\n",
       "  <tbody>\n",
       "    <tr>\n",
       "      <th>0</th>\n",
       "      <td>0069049</td>\n",
       "      <td>The Other Side of the Wind</td>\n",
       "      <td>2018</td>\n",
       "      <td>122.0</td>\n",
       "      <td>[Drama]</td>\n",
       "      <td>[nm0000080]</td>\n",
       "      <td>[nm0000080, nm0462648]</td>\n",
       "      <td>6.9</td>\n",
       "      <td>4517</td>\n",
       "      <td>2</td>\n",
       "      <td>the_other_side_of_the_wind_2018</td>\n",
       "      <td>en</td>\n",
       "      <td>9.800</td>\n",
       "      <td>2018-11-02</td>\n",
       "      <td>The Other Side of the Wind</td>\n",
       "      <td>7.0</td>\n",
       "      <td>64</td>\n",
       "      <td>0069049</td>\n",
       "      <td>the_other_side_of_the_wind_2018</td>\n",
       "    </tr>\n",
       "    <tr>\n",
       "      <th>1</th>\n",
       "      <td>0249516</td>\n",
       "      <td>Foodfight!</td>\n",
       "      <td>2012</td>\n",
       "      <td>91.0</td>\n",
       "      <td>[Action, Animation, Comedy]</td>\n",
       "      <td>[nm0440415]</td>\n",
       "      <td>[nm0440415, nm0923312, nm0295165, nm0841854, n...</td>\n",
       "      <td>1.9</td>\n",
       "      <td>8248</td>\n",
       "      <td>8</td>\n",
       "      <td>foodfight_2012</td>\n",
       "      <td>en</td>\n",
       "      <td>4.705</td>\n",
       "      <td>2013-05-07</td>\n",
       "      <td>Foodfight!</td>\n",
       "      <td>2.1</td>\n",
       "      <td>46</td>\n",
       "      <td>0249516</td>\n",
       "      <td>foodfight_2013</td>\n",
       "    </tr>\n",
       "    <tr>\n",
       "      <th>2</th>\n",
       "      <td>0293069</td>\n",
       "      <td>Dark Blood</td>\n",
       "      <td>2012</td>\n",
       "      <td>86.0</td>\n",
       "      <td>[Thriller]</td>\n",
       "      <td>[nm0806293]</td>\n",
       "      <td>[nm0059172]</td>\n",
       "      <td>6.6</td>\n",
       "      <td>1053</td>\n",
       "      <td>8</td>\n",
       "      <td>dark_blood_2012</td>\n",
       "      <td>en</td>\n",
       "      <td>1.721</td>\n",
       "      <td>2013-03-06</td>\n",
       "      <td>Dark Blood</td>\n",
       "      <td>6.1</td>\n",
       "      <td>7</td>\n",
       "      <td>0293069</td>\n",
       "      <td>dark_blood_2013</td>\n",
       "    </tr>\n",
       "    <tr>\n",
       "      <th>3</th>\n",
       "      <td>0315642</td>\n",
       "      <td>Wazir</td>\n",
       "      <td>2016</td>\n",
       "      <td>103.0</td>\n",
       "      <td>[Action, Crime, Drama]</td>\n",
       "      <td>[nm2349060]</td>\n",
       "      <td>[nm7430071, nm1249226, nm0006765, nm0430785, n...</td>\n",
       "      <td>7.1</td>\n",
       "      <td>15378</td>\n",
       "      <td>4</td>\n",
       "      <td>wazir_2016</td>\n",
       "      <td>hi</td>\n",
       "      <td>3.881</td>\n",
       "      <td>2016-01-08</td>\n",
       "      <td>Wazir</td>\n",
       "      <td>6.6</td>\n",
       "      <td>63</td>\n",
       "      <td>0315642</td>\n",
       "      <td>wazir_2016</td>\n",
       "    </tr>\n",
       "    <tr>\n",
       "      <th>4</th>\n",
       "      <td>0323808</td>\n",
       "      <td>The Wicker Tree</td>\n",
       "      <td>2011</td>\n",
       "      <td>96.0</td>\n",
       "      <td>[Drama, Horror]</td>\n",
       "      <td>[nm0362736]</td>\n",
       "      <td>[nm0362736]</td>\n",
       "      <td>3.9</td>\n",
       "      <td>2328</td>\n",
       "      <td>9</td>\n",
       "      <td>the_wicker_tree_2011</td>\n",
       "      <td>en</td>\n",
       "      <td>2.962</td>\n",
       "      <td>2012-01-27</td>\n",
       "      <td>The Wicker Tree</td>\n",
       "      <td>4.4</td>\n",
       "      <td>25</td>\n",
       "      <td>0323808</td>\n",
       "      <td>the_wicker_tree_2012</td>\n",
       "    </tr>\n",
       "    <tr>\n",
       "      <th>...</th>\n",
       "      <td>...</td>\n",
       "      <td>...</td>\n",
       "      <td>...</td>\n",
       "      <td>...</td>\n",
       "      <td>...</td>\n",
       "      <td>...</td>\n",
       "      <td>...</td>\n",
       "      <td>...</td>\n",
       "      <td>...</td>\n",
       "      <td>...</td>\n",
       "      <td>...</td>\n",
       "      <td>...</td>\n",
       "      <td>...</td>\n",
       "      <td>...</td>\n",
       "      <td>...</td>\n",
       "      <td>...</td>\n",
       "      <td>...</td>\n",
       "      <td>...</td>\n",
       "      <td>...</td>\n",
       "    </tr>\n",
       "    <tr>\n",
       "      <th>9617</th>\n",
       "      <td>9206798</td>\n",
       "      <td>All Is True</td>\n",
       "      <td>2018</td>\n",
       "      <td>101.0</td>\n",
       "      <td>[Biography, Drama, History]</td>\n",
       "      <td>[nm0000110]</td>\n",
       "      <td>[nm0255780]</td>\n",
       "      <td>5.9</td>\n",
       "      <td>797</td>\n",
       "      <td>2</td>\n",
       "      <td>all_is_true_2018</td>\n",
       "      <td>en</td>\n",
       "      <td>6.777</td>\n",
       "      <td>2018-12-21</td>\n",
       "      <td>All Is True</td>\n",
       "      <td>6.3</td>\n",
       "      <td>8</td>\n",
       "      <td>9206798</td>\n",
       "      <td>all_is_true_2018</td>\n",
       "    </tr>\n",
       "    <tr>\n",
       "      <th>9618</th>\n",
       "      <td>9275202</td>\n",
       "      <td>Breslin and Hamill: Deadline Artists</td>\n",
       "      <td>2018</td>\n",
       "      <td>108.0</td>\n",
       "      <td>[Documentary]</td>\n",
       "      <td>[nm4485929, nm1146602, nm7470181]</td>\n",
       "      <td>[nm1146602, nm0059382, nm4485929, nm3348772, n...</td>\n",
       "      <td>8.1</td>\n",
       "      <td>161</td>\n",
       "      <td>2</td>\n",
       "      <td>breslin_and_hamill_deadline_artists_2018</td>\n",
       "      <td>en</td>\n",
       "      <td>1.047</td>\n",
       "      <td>2018-11-15</td>\n",
       "      <td>Breslin and Hamill: Deadline Artists</td>\n",
       "      <td>8.0</td>\n",
       "      <td>1</td>\n",
       "      <td>9275202</td>\n",
       "      <td>breslin_and_hamill_deadline_artists_2018</td>\n",
       "    </tr>\n",
       "    <tr>\n",
       "      <th>9619</th>\n",
       "      <td>9282616</td>\n",
       "      <td>A Cool Fish</td>\n",
       "      <td>2018</td>\n",
       "      <td>109.0</td>\n",
       "      <td>[Comedy]</td>\n",
       "      <td>[nm8824211]</td>\n",
       "      <td>[nm8824215, nm8824211]</td>\n",
       "      <td>7.1</td>\n",
       "      <td>929</td>\n",
       "      <td>2</td>\n",
       "      <td>a_cool_fish_2018</td>\n",
       "      <td>zh</td>\n",
       "      <td>2.732</td>\n",
       "      <td>2018-11-16</td>\n",
       "      <td>A Cool Fish</td>\n",
       "      <td>6.6</td>\n",
       "      <td>11</td>\n",
       "      <td>9282616</td>\n",
       "      <td>a_cool_fish_2018</td>\n",
       "    </tr>\n",
       "    <tr>\n",
       "      <th>9620</th>\n",
       "      <td>9316022</td>\n",
       "      <td>Struggle: The Life and Lost Art of Szukalski</td>\n",
       "      <td>2018</td>\n",
       "      <td>115.0</td>\n",
       "      <td>[Documentary]</td>\n",
       "      <td>[nm2333129]</td>\n",
       "      <td>[nm3530955, nm2333129]</td>\n",
       "      <td>8.1</td>\n",
       "      <td>2018</td>\n",
       "      <td>2</td>\n",
       "      <td>struggle_the_life_and_lost_art_of_szukalski_2018</td>\n",
       "      <td>en</td>\n",
       "      <td>3.591</td>\n",
       "      <td>2018-12-21</td>\n",
       "      <td>Struggle: The Life and Lost Art of Szukalski</td>\n",
       "      <td>8.4</td>\n",
       "      <td>20</td>\n",
       "      <td>9316022</td>\n",
       "      <td>struggle_the_life_and_lost_art_of_szukalski_2018</td>\n",
       "    </tr>\n",
       "    <tr>\n",
       "      <th>9621</th>\n",
       "      <td>9495224</td>\n",
       "      <td>Black Mirror: Bandersnatch</td>\n",
       "      <td>2018</td>\n",
       "      <td>90.0</td>\n",
       "      <td>[Drama, Mystery, Sci-Fi]</td>\n",
       "      <td>[nm1720541]</td>\n",
       "      <td>[nm0111765]</td>\n",
       "      <td>7.3</td>\n",
       "      <td>91349</td>\n",
       "      <td>2</td>\n",
       "      <td>black_mirror_bandersnatch_2018</td>\n",
       "      <td>en</td>\n",
       "      <td>12.282</td>\n",
       "      <td>2018-12-28</td>\n",
       "      <td>Black Mirror: Bandersnatch</td>\n",
       "      <td>7.0</td>\n",
       "      <td>1932</td>\n",
       "      <td>9495224</td>\n",
       "      <td>black_mirror_bandersnatch_2018</td>\n",
       "    </tr>\n",
       "  </tbody>\n",
       "</table>\n",
       "<p>9622 rows × 19 columns</p>\n",
       "</div>"
      ],
      "text/plain": [
       "       tconst                                 primary_title  start_year  \\\n",
       "0     0069049                    The Other Side of the Wind        2018   \n",
       "1     0249516                                    Foodfight!        2012   \n",
       "2     0293069                                    Dark Blood        2012   \n",
       "3     0315642                                         Wazir        2016   \n",
       "4     0323808                               The Wicker Tree        2011   \n",
       "...       ...                                           ...         ...   \n",
       "9617  9206798                                   All Is True        2018   \n",
       "9618  9275202          Breslin and Hamill: Deadline Artists        2018   \n",
       "9619  9282616                                   A Cool Fish        2018   \n",
       "9620  9316022  Struggle: The Life and Lost Art of Szukalski        2018   \n",
       "9621  9495224                    Black Mirror: Bandersnatch        2018   \n",
       "\n",
       "      runtime_minutes                       genres  \\\n",
       "0               122.0                      [Drama]   \n",
       "1                91.0  [Action, Animation, Comedy]   \n",
       "2                86.0                   [Thriller]   \n",
       "3               103.0       [Action, Crime, Drama]   \n",
       "4                96.0              [Drama, Horror]   \n",
       "...               ...                          ...   \n",
       "9617            101.0  [Biography, Drama, History]   \n",
       "9618            108.0                [Documentary]   \n",
       "9619            109.0                     [Comedy]   \n",
       "9620            115.0                [Documentary]   \n",
       "9621             90.0     [Drama, Mystery, Sci-Fi]   \n",
       "\n",
       "                              directors  \\\n",
       "0                           [nm0000080]   \n",
       "1                           [nm0440415]   \n",
       "2                           [nm0806293]   \n",
       "3                           [nm2349060]   \n",
       "4                           [nm0362736]   \n",
       "...                                 ...   \n",
       "9617                        [nm0000110]   \n",
       "9618  [nm4485929, nm1146602, nm7470181]   \n",
       "9619                        [nm8824211]   \n",
       "9620                        [nm2333129]   \n",
       "9621                        [nm1720541]   \n",
       "\n",
       "                                                writers  averagerating  \\\n",
       "0                                [nm0000080, nm0462648]            6.9   \n",
       "1     [nm0440415, nm0923312, nm0295165, nm0841854, n...            1.9   \n",
       "2                                           [nm0059172]            6.6   \n",
       "3     [nm7430071, nm1249226, nm0006765, nm0430785, n...            7.1   \n",
       "4                                           [nm0362736]            3.9   \n",
       "...                                                 ...            ...   \n",
       "9617                                        [nm0255780]            5.9   \n",
       "9618  [nm1146602, nm0059382, nm4485929, nm3348772, n...            8.1   \n",
       "9619                             [nm8824215, nm8824211]            7.1   \n",
       "9620                             [nm3530955, nm2333129]            8.1   \n",
       "9621                                        [nm0111765]            7.3   \n",
       "\n",
       "      numvotes  age_of_movie  \\\n",
       "0         4517             2   \n",
       "1         8248             8   \n",
       "2         1053             8   \n",
       "3        15378             4   \n",
       "4         2328             9   \n",
       "...        ...           ...   \n",
       "9617       797             2   \n",
       "9618       161             2   \n",
       "9619       929             2   \n",
       "9620      2018             2   \n",
       "9621     91349             2   \n",
       "\n",
       "                                             dummy_key original_language  \\\n",
       "0                      the_other_side_of_the_wind_2018                en   \n",
       "1                                       foodfight_2012                en   \n",
       "2                                      dark_blood_2012                en   \n",
       "3                                           wazir_2016                hi   \n",
       "4                                 the_wicker_tree_2011                en   \n",
       "...                                                ...               ...   \n",
       "9617                                  all_is_true_2018                en   \n",
       "9618          breslin_and_hamill_deadline_artists_2018                en   \n",
       "9619                                  a_cool_fish_2018                zh   \n",
       "9620  struggle_the_life_and_lost_art_of_szukalski_2018                en   \n",
       "9621                    black_mirror_bandersnatch_2018                en   \n",
       "\n",
       "      popularity release_date                                         title  \\\n",
       "0          9.800   2018-11-02                    The Other Side of the Wind   \n",
       "1          4.705   2013-05-07                                    Foodfight!   \n",
       "2          1.721   2013-03-06                                    Dark Blood   \n",
       "3          3.881   2016-01-08                                         Wazir   \n",
       "4          2.962   2012-01-27                               The Wicker Tree   \n",
       "...          ...          ...                                           ...   \n",
       "9617       6.777   2018-12-21                                   All Is True   \n",
       "9618       1.047   2018-11-15          Breslin and Hamill: Deadline Artists   \n",
       "9619       2.732   2018-11-16                                   A Cool Fish   \n",
       "9620       3.591   2018-12-21  Struggle: The Life and Lost Art of Szukalski   \n",
       "9621      12.282   2018-12-28                    Black Mirror: Bandersnatch   \n",
       "\n",
       "      vote_average  vote_count  imdb_id  \\\n",
       "0              7.0          64  0069049   \n",
       "1              2.1          46  0249516   \n",
       "2              6.1           7  0293069   \n",
       "3              6.6          63  0315642   \n",
       "4              4.4          25  0323808   \n",
       "...            ...         ...      ...   \n",
       "9617           6.3           8  9206798   \n",
       "9618           8.0           1  9275202   \n",
       "9619           6.6          11  9282616   \n",
       "9620           8.4          20  9316022   \n",
       "9621           7.0        1932  9495224   \n",
       "\n",
       "                                         title_cleaned  \n",
       "0                      the_other_side_of_the_wind_2018  \n",
       "1                                       foodfight_2013  \n",
       "2                                      dark_blood_2013  \n",
       "3                                           wazir_2016  \n",
       "4                                 the_wicker_tree_2012  \n",
       "...                                                ...  \n",
       "9617                                  all_is_true_2018  \n",
       "9618          breslin_and_hamill_deadline_artists_2018  \n",
       "9619                                  a_cool_fish_2018  \n",
       "9620  struggle_the_life_and_lost_art_of_szukalski_2018  \n",
       "9621                    black_mirror_bandersnatch_2018  \n",
       "\n",
       "[9622 rows x 19 columns]"
      ]
     },
     "execution_count": 66,
     "metadata": {},
     "output_type": "execute_result"
    }
   ],
   "source": [
    "#Dropping all movies released before the year 2000\n",
    "rating['start_year'] = rating['start_year'].map(lambda x: int(x))\n",
    "rating.drop(rating[rating.start_year < 2000].index)"
   ]
  },
  {
   "cell_type": "code",
   "execution_count": 67,
   "metadata": {},
   "outputs": [],
   "source": [
    "rating['aggregate_score'] = round(rating.apply(lambda row: (row['averagerating'] * row['numvotes']) + (row['vote_average'] * row['vote_count']),axis=1),2)\n",
    "#Creating an aggregate score: (IMDB Rating) + (TMDB average rating)"
   ]
  },
  {
   "cell_type": "code",
   "execution_count": 68,
   "metadata": {},
   "outputs": [],
   "source": [
    "rating['total_votes'] = rating['numvotes'] + rating['vote_count']\n",
    "#Creating new column 'total votes'"
   ]
  },
  {
   "cell_type": "code",
   "execution_count": 69,
   "metadata": {},
   "outputs": [],
   "source": [
    "low_votes = rating[rating['total_votes'] < 20000].index\n",
    "#Identifying rows where total votes is less than 20,000"
   ]
  },
  {
   "cell_type": "code",
   "execution_count": 70,
   "metadata": {},
   "outputs": [],
   "source": [
    "rating.drop(low_votes, inplace=True)\n",
    "#Removing those rows"
   ]
  },
  {
   "cell_type": "code",
   "execution_count": 71,
   "metadata": {
    "scrolled": false
   },
   "outputs": [],
   "source": [
    "rating['aggregate_score'] = rating['aggregate_score'].map(lambda x: x*100 / max(rating['aggregate_score']))\n",
    "rating['aggregate_score'] = round(rating['aggregate_score'],2)\n",
    "#Standardizing the aggregate score on a scale of 0 to 100, and rounding it to 2 decimal places"
   ]
  },
  {
   "cell_type": "code",
   "execution_count": 72,
   "metadata": {},
   "outputs": [],
   "source": [
    "top_200_rating = rating.sort_values(by=['aggregate_score'],ascending=False).head(200)\n",
    "#Sorting by highest rated to lowest"
   ]
  },
  {
   "cell_type": "markdown",
   "metadata": {},
   "source": [
    "## What are the best rated films since 2000?"
   ]
  },
  {
   "cell_type": "code",
   "execution_count": 73,
   "metadata": {
    "scrolled": true
   },
   "outputs": [
    {
     "data": {
      "text/plain": [
       "(array([ 0,  1,  2,  3,  4,  5,  6,  7,  8,  9, 10, 11, 12, 13, 14, 15, 16,\n",
       "        17, 18]),\n",
       " <a list of 19 Text xticklabel objects>)"
      ]
     },
     "execution_count": 73,
     "metadata": {},
     "output_type": "execute_result"
    },
    {
     "data": {
      "image/png": "[encoded data removed]",
      "text/plain": [
       "<Figure size 432x288 with 1 Axes>"
      ]
     },
     "metadata": {},
     "output_type": "display_data"
    }
   ],
   "source": [
    "sns.set(style=\"whitegrid\")\n",
    "rating_title_score_barplot = sns.barplot(x='primary_title',y='aggregate_score',data=top_200_rating.head(20))\n",
    "rating_title_score_barplot = rating_title_score_barplot.set(xlabel='Film Title',ylabel='Aggregate Score', title = \"Top 20 Rated Films\")\n",
    "plt.xticks(rotation=90)\n"
   ]
  },
  {
   "cell_type": "markdown",
   "metadata": {},
   "source": [
    "# Analysis of above graph goes here"
   ]
  },
  {
   "cell_type": "code",
   "execution_count": 74,
   "metadata": {},
   "outputs": [
    {
     "name": "stdout",
     "output_type": "stream",
     "text": [
      "Sample Aggregate Score mean: 5.59\n",
      "Sample Aggregate Score sd: 7.59\n",
      "Top 200 Aggregate Score mean: 23.25\n",
      "Top 200 Aggregate Score sd: 10.98\n"
     ]
    }
   ],
   "source": [
    "print('Sample Aggregate Score mean:', round(rating.aggregate_score.mean(),2))\n",
    "print('Sample Aggregate Score sd:', round(rating.aggregate_score.std(),2))\n",
    "print('Top 200 Aggregate Score mean:', round(top_200_rating.aggregate_score.mean(),2))\n",
    "print('Top 200 Aggregate Score sd:', round(top_200_rating.aggregate_score.std(),2))\n"
   ]
  },
  {
   "cell_type": "markdown",
   "metadata": {},
   "source": [
    "## Of these films, which genres are most prevalent? "
   ]
  },
  {
   "cell_type": "code",
   "execution_count": 75,
   "metadata": {},
   "outputs": [],
   "source": [
    "genres_popularity = top_200_rating [['primary_title', 'popularity', 'genres','aggregate_score','total_votes']]"
   ]
  },
  {
   "cell_type": "code",
   "execution_count": 76,
   "metadata": {},
   "outputs": [],
   "source": [
    "genres_popularity = genres_popularity.explode('genres')"
   ]
  },
  {
   "cell_type": "code",
   "execution_count": 77,
   "metadata": {},
   "outputs": [],
   "source": [
    "genres_popularity['genres'] = genres_popularity['genres'].map(lambda x: str(x))\n",
    "#Converting genres column to a string, so that I can count its frequency"
   ]
  },
  {
   "cell_type": "code",
   "execution_count": 78,
   "metadata": {
    "scrolled": false
   },
   "outputs": [
    {
     "data": {
      "text/plain": [
       "(array([ 0,  1,  2,  3,  4,  5,  6,  7,  8,  9, 10, 11, 12, 13, 14, 15, 16,\n",
       "        17, 18]),\n",
       " <a list of 19 Text xticklabel objects>)"
      ]
     },
     "execution_count": 78,
     "metadata": {},
     "output_type": "execute_result"
    },
    {
     "data": {
      "image/png": "[encoded data removed]",
      "text/plain": [
       "<Figure size 432x288 with 1 Axes>"
      ]
     },
     "metadata": {},
     "output_type": "display_data"
    }
   ],
   "source": [
    "genre_count = sns.countplot(x='genres',data=genres_popularity,order = genres_popularity['genres'].value_counts().index)\n",
    "genre_count = genre_count.set(xlabel='Genre',ylabel='Count', title = \"Frequency of Genre in top 200 films\")\n",
    "plt.xticks(rotation=90)"
   ]
  },
  {
   "cell_type": "markdown",
   "metadata": {},
   "source": [
    "# Analysis of above graph goes here"
   ]
  },
  {
   "cell_type": "code",
   "execution_count": 79,
   "metadata": {},
   "outputs": [],
   "source": [
    "top_3_genres = genres_popularity[genres_popularity['genres'].isin(['Adventure','Action','Drama']) ]\n",
    "#Picking films only from the top 3 genres"
   ]
  },
  {
   "cell_type": "markdown",
   "metadata": {},
   "source": [
    "# What is the relationship between a film's review score and the number of reviews?"
   ]
  },
  {
   "cell_type": "code",
   "execution_count": 80,
   "metadata": {
    "scrolled": true
   },
   "outputs": [
    {
     "data": {
      "text/plain": [
       "<seaborn.axisgrid.FacetGrid at 0x2ed2d00f4c8>"
      ]
     },
     "execution_count": 80,
     "metadata": {},
     "output_type": "execute_result"
    },
    {
     "data": {
      "image/png": "[encoded data removed]",
      "text/plain": [
       "<Figure size 449.975x360 with 1 Axes>"
      ]
     },
     "metadata": {},
     "output_type": "display_data"
    }
   ],
   "source": [
    "scatter_score_totalvotes = sns.lmplot(x='aggregate_score',y='total_votes',data=top_3_genres,hue='genres',scatter_kws={'alpha':0.5})\n",
    "scatter_score_totalvotes.set(xlabel='Aggregate Score',ylabel='Total Votes', title = \"Relationship between Popularity & Score, top 3 genres\")\n",
    "\n"
   ]
  },
  {
   "cell_type": "markdown",
   "metadata": {},
   "source": [
    "# Analysis of above graph goes here"
   ]
  },
  {
   "cell_type": "markdown",
   "metadata": {},
   "source": [
    "## Analyzing the top 3 genres, what is the relationship between a films review score and its popularity?"
   ]
  },
  {
   "cell_type": "code",
   "execution_count": 81,
   "metadata": {
    "scrolled": false
   },
   "outputs": [
    {
     "data": {
      "text/plain": [
       "<seaborn.axisgrid.FacetGrid at 0x2ed2d2a3188>"
      ]
     },
     "execution_count": 81,
     "metadata": {},
     "output_type": "execute_result"
    },
    {
     "data": {
      "image/png": "[encoded data removed]",
      "text/plain": [
       "<Figure size 449.975x360 with 1 Axes>"
      ]
     },
     "metadata": {},
     "output_type": "display_data"
    }
   ],
   "source": [
    "scatter_score_popularity = sns.lmplot(x='aggregate_score',y='popularity',data=top_3_genres,hue='genres',scatter_kws={'alpha':0.5})\n",
    "scatter_score_popularity.set(xlabel='Aggregate Score',ylabel='Popularity', title = \"Relationship between Popularity & Score, top 3 genres\")\n",
    "\n"
   ]
  },
  {
   "cell_type": "markdown",
   "metadata": {},
   "source": [
    "# Analysis of above graph goes here"
   ]
  },
  {
   "cell_type": "code",
   "execution_count": 82,
   "metadata": {},
   "outputs": [],
   "source": [
    "top_200_directors = top_200_rating [['primary_title', 'popularity', 'genres','aggregate_score','total_votes','directors']]\n",
    "#Creating a new table to identify best directors of top 200 films"
   ]
  },
  {
   "cell_type": "code",
   "execution_count": 83,
   "metadata": {},
   "outputs": [],
   "source": [
    "top_200_directors = top_200_directors.explode('directors')\n",
    "#Splitting directors into different rows"
   ]
  },
  {
   "cell_type": "code",
   "execution_count": 84,
   "metadata": {},
   "outputs": [],
   "source": [
    "top_200_directors = top_200_directors.merge(imdb_crew,right_on='nconst',left_on='directors')\n",
    "#Joining imdb_crew table to identify direcotrs by their ID"
   ]
  },
  {
   "cell_type": "code",
   "execution_count": 85,
   "metadata": {
    "scrolled": false
   },
   "outputs": [],
   "source": [
    "top_200_directors = top_200_directors[['primary_title','popularity','aggregate_score','total_votes','primary_name','death_year']]\n",
    "#Keeping only the columns that I will need"
   ]
  },
  {
   "cell_type": "code",
   "execution_count": 86,
   "metadata": {},
   "outputs": [],
   "source": [
    "top_200_directors = top_200_directors.drop(top_200_directors[top_200_directors['death_year'] != 0].index)\n",
    "#Removing all deceased directors"
   ]
  },
  {
   "cell_type": "markdown",
   "metadata": {},
   "source": [
    "## Which directors should we consider hiring? (That is, those who have worked on the highest number of highly rated films)"
   ]
  },
  {
   "cell_type": "code",
   "execution_count": 87,
   "metadata": {
    "scrolled": false
   },
   "outputs": [
    {
     "data": {
      "text/plain": [
       "(array([ 0,  1,  2,  3,  4,  5,  6,  7,  8,  9, 10, 11, 12, 13, 14, 15, 16,\n",
       "        17, 18, 19, 20, 21, 22, 23, 24]),\n",
       " <a list of 25 Text xticklabel objects>)"
      ]
     },
     "execution_count": 87,
     "metadata": {},
     "output_type": "execute_result"
    },
    {
     "data": {
      "image/png": "[encoded data removed]",
      "text/plain": [
       "<Figure size 432x288 with 1 Axes>"
      ]
     },
     "metadata": {},
     "output_type": "display_data"
    }
   ],
   "source": [
    "top_directors_rating = sns.countplot(x='primary_name',data=top_200_directors,order = top_200_directors['primary_name'].value_counts().head(25).index)\n",
    "top_directors_rating = top_directors_rating.set(xlabel='Director Name',ylabel='Number of Top 200 Films Directed', title = \"Top 25 Directors (Rating)\")\n",
    "plt.xticks(rotation=90)"
   ]
  },
  {
   "cell_type": "markdown",
   "metadata": {},
   "source": [
    "# Analysis of above graph goes here"
   ]
  },
  {
   "cell_type": "code",
   "execution_count": 88,
   "metadata": {},
   "outputs": [],
   "source": [
    "top_200_writers = top_200_rating [['primary_title', 'popularity', 'genres','aggregate_score','total_votes','writers']]\n",
    "#Following same process for top writers"
   ]
  },
  {
   "cell_type": "code",
   "execution_count": 89,
   "metadata": {},
   "outputs": [],
   "source": [
    "top_200_writers = top_200_writers.explode('writers')"
   ]
  },
  {
   "cell_type": "code",
   "execution_count": 90,
   "metadata": {},
   "outputs": [],
   "source": [
    "top_200_writers = top_200_writers.merge(imdb_crew,right_on='nconst',left_on='writers')"
   ]
  },
  {
   "cell_type": "code",
   "execution_count": 91,
   "metadata": {},
   "outputs": [],
   "source": [
    "top_200_writers = top_200_writers[['primary_title','popularity','aggregate_score','total_votes','primary_name','death_year']]"
   ]
  },
  {
   "cell_type": "code",
   "execution_count": 92,
   "metadata": {},
   "outputs": [],
   "source": [
    "top_200_writers = top_200_writers.drop(top_200_writers[top_200_writers['death_year'] != 0].index)"
   ]
  },
  {
   "cell_type": "markdown",
   "metadata": {},
   "source": [
    "## Which writers should we consider hiring? (That is, those who have worked on the highest number of highly rated films)"
   ]
  },
  {
   "cell_type": "code",
   "execution_count": 93,
   "metadata": {
    "scrolled": true
   },
   "outputs": [
    {
     "data": {
      "text/plain": [
       "(array([ 0,  1,  2,  3,  4,  5,  6,  7,  8,  9, 10, 11, 12, 13, 14, 15, 16,\n",
       "        17, 18, 19, 20, 21, 22, 23, 24]),\n",
       " <a list of 25 Text xticklabel objects>)"
      ]
     },
     "execution_count": 93,
     "metadata": {},
     "output_type": "execute_result"
    },
    {
     "data": {
      "image/png": "[encoded data removed]",
      "text/plain": [
       "<Figure size 432x288 with 1 Axes>"
      ]
     },
     "metadata": {},
     "output_type": "display_data"
    }
   ],
   "source": [
    "top_writers_rating = sns.countplot(x='primary_name',data=top_200_writers,order = top_200_writers['primary_name'].value_counts().head(25).index)\n",
    "top_writers_rating = top_writers_rating.set(xlabel='Writer Name',ylabel='Number of Top 200 Films Written', title = \"Top 25 Writers (Rating)\")\n",
    "plt.xticks(rotation=90)"
   ]
  },
  {
   "cell_type": "markdown",
   "metadata": {},
   "source": [
    "# Analysis of above graph goes here"
   ]
  },
  {
   "cell_type": "markdown",
   "metadata": {},
   "source": [
    "## Review Rating Findings Recap\n",
    "    1. Observation 1\n",
    "    2. Observation 2\n",
    "    3. Observation 3\n",
    "\n",
    "## Business Recommendations\n",
    "    1. Recommendation 1\n",
    "    2. Recommendation 2\n",
    "    3. Recommendation 3\n",
    "\n",
    "## Limitations\n",
    "    1. Limitation 1\n",
    "    2. Limitation 2\n",
    "    3. Limitation 3"
   ]
  },
  {
   "cell_type": "code",
   "execution_count": null,
   "metadata": {},
   "outputs": [],
   "source": []
  }
 ],
 "metadata": {
  "kernelspec": {
   "display_name": "Python 3",
   "language": "python",
   "name": "python3"
  },
  "language_info": {
   "codemirror_mode": {
    "name": "ipython",
    "version": 3
   },
   "file_extension": ".py",
   "mimetype": "text/x-python",
   "name": "python",
   "nbconvert_exporter": "python",
   "pygments_lexer": "ipython3",
   "version": "3.7.6"
  }
 },
 "nbformat": 4,
 "nbformat_minor": 4
}
