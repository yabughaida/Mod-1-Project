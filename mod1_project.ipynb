{
 "cells": [
  {
   "cell_type": "markdown",
   "metadata": {},
   "source": [
    "### Mod 1 Project --- Data Movie"
   ]
  },
  {
   "cell_type": "code",
   "execution_count": 1,
   "metadata": {},
   "outputs": [],
   "source": [
    "#top 50 lucrative movies from  tn_movie_budgets and bom_movie_gross   (find their ratings)\n",
    "# most (top50) popular movies from tmdb_movies\n",
    "# highest(top 50) ratings from imdb_title_ratings\n",
    "\n",
    "# select common movies from above list\n",
    "#find their genre, directors"
   ]
  },
  {
   "cell_type": "markdown",
   "metadata": {},
   "source": [
    "### import database"
   ]
  },
  {
   "cell_type": "code",
   "execution_count": 160,
   "metadata": {},
   "outputs": [],
   "source": [
    "import pandas as pd\n",
    "import numpy as np\n",
    "import datetime as dt\n",
    "import mysql.connector\n",
    "import matplotlib.pyplot as plt\n",
    "%matplotlib inline"
   ]
  },
  {
   "cell_type": "code",
   "execution_count": 161,
   "metadata": {},
   "outputs": [],
   "source": [
    "con = mysql.connector.connect(user='hbs-student', password='super-secure-password?',\n",
    "                              host='hbs-ds-060120.c1doesqrid0e.us-east-1.rds.amazonaws.com',\n",
    "                              database='movies')\n",
    "cur = con.cursor()"
   ]
  },
  {
   "cell_type": "markdown",
   "metadata": {},
   "source": [
    "# Data Cleaning"
   ]
  },
  {
   "cell_type": "markdown",
   "metadata": {},
   "source": [
    "### bom database"
   ]
  },
  {
   "cell_type": "code",
   "execution_count": 162,
   "metadata": {},
   "outputs": [],
   "source": [
    "query = ('''\n",
    "SELECT * FROM bom_movie_gross\n",
    "''')\n",
    "bom = pd.read_sql_query(query, con)"
   ]
  },
  {
   "cell_type": "code",
   "execution_count": 163,
   "metadata": {},
   "outputs": [],
   "source": [
    "#drop Null value in domestic_gross\n",
    "bom = bom.dropna(subset =['domestic_gross'])\n",
    "\n",
    "#convert Null value in foreign_gross to 0\n",
    "bom.foreign_gross = bom.foreign_gross.fillna(0)\n",
    "\n",
    "#convert domestic_gross and foreign_gross from float to int\n",
    "bom.domestic_gross = bom.domestic_gross.map(lambda x: int(x))   \n",
    "bom.foreign_gross = bom.foreign_gross.map(lambda x: int(x))  "
   ]
  },
  {
   "cell_type": "code",
   "execution_count": 164,
   "metadata": {},
   "outputs": [],
   "source": [
    "#remove spaces on both end of strings\n",
    "bom.title = bom.title.map(lambda x: x.strip())\n",
    "bom.studio = bom.studio.map(lambda x: x.strip())"
   ]
  },
  {
   "cell_type": "code",
   "execution_count": 165,
   "metadata": {},
   "outputs": [
    {
     "name": "stdout",
     "output_type": "stream",
     "text": [
      "<class 'pandas.core.frame.DataFrame'>\n",
      "Int64Index: 3359 entries, 0 to 3386\n",
      "Data columns (total 5 columns):\n",
      "title             3359 non-null object\n",
      "studio            3359 non-null object\n",
      "domestic_gross    3359 non-null int64\n",
      "foreign_gross     3359 non-null int64\n",
      "year              3359 non-null int64\n",
      "dtypes: int64(3), object(2)\n",
      "memory usage: 157.5+ KB\n"
     ]
    }
   ],
   "source": [
    "bom.info()"
   ]
  },
  {
   "cell_type": "markdown",
   "metadata": {},
   "source": [
    "### tn database"
   ]
  },
  {
   "cell_type": "code",
   "execution_count": 166,
   "metadata": {},
   "outputs": [],
   "source": [
    "query_tn = ('''\n",
    "SELECT * FROM tn_movie_budgets\n",
    "''')\n",
    "tn = pd.read_sql_query(query_tn, con)"
   ]
  },
  {
   "cell_type": "code",
   "execution_count": 167,
   "metadata": {},
   "outputs": [],
   "source": [
    "# convert release_date to date format\n",
    "tn.release_date = tn.release_date.map(lambda x: dt.datetime.strptime(x, '%b %d, %Y'))\n",
    "\n",
    "# convert production_budget, domestic_gross, worldwide_gross to date format\n",
    "tn.production_budget = tn.production_budget.map(lambda x: int(x.replace(',','').replace('$','')))\n",
    "tn.domestic_gross = tn.domestic_gross.map(lambda x: int(x.replace(',','').replace('$','')))\n",
    "tn.worldwide_gross = tn.worldwide_gross.map(lambda x: int(x.replace(',','').replace('$','')))\n",
    "\n",
    "#add profit column\n",
    "tn['profit'] = tn.worldwide_gross - tn.production_budget"
   ]
  },
  {
   "cell_type": "code",
   "execution_count": 168,
   "metadata": {},
   "outputs": [],
   "source": [
    "#remove spaces on both end of strings\n",
    "tn.movie = tn.movie.map(lambda x: x.strip())"
   ]
  },
  {
   "cell_type": "code",
   "execution_count": 169,
   "metadata": {},
   "outputs": [
    {
     "name": "stdout",
     "output_type": "stream",
     "text": [
      "<class 'pandas.core.frame.DataFrame'>\n",
      "RangeIndex: 5782 entries, 0 to 5781\n",
      "Data columns (total 7 columns):\n",
      "id                   5782 non-null int64\n",
      "release_date         5782 non-null datetime64[ns]\n",
      "movie                5782 non-null object\n",
      "production_budget    5782 non-null int64\n",
      "domestic_gross       5782 non-null int64\n",
      "worldwide_gross      5782 non-null int64\n",
      "profit               5782 non-null int64\n",
      "dtypes: datetime64[ns](1), int64(5), object(1)\n",
      "memory usage: 316.3+ KB\n"
     ]
    }
   ],
   "source": [
    "tn.info()"
   ]
  },
  {
   "cell_type": "markdown",
   "metadata": {},
   "source": [
    "### tmdb database"
   ]
  },
  {
   "cell_type": "code",
   "execution_count": 173,
   "metadata": {},
   "outputs": [],
   "source": [
    "query_tmdb = ('''\n",
    "SELECT * FROM tmdb_movies\n",
    "''')\n",
    "tmdb = pd.read_sql_query(query_tmdb, con)"
   ]
  },
  {
   "cell_type": "code",
   "execution_count": 174,
   "metadata": {},
   "outputs": [],
   "source": [
    "query_tmdb_link = ('''\n",
    "SELECT * FROM tmdb_imdb_link\n",
    "''')\n",
    "tmdb_link = pd.read_sql_query(query_tmdb_link, con)"
   ]
  },
  {
   "cell_type": "code",
   "execution_count": 175,
   "metadata": {},
   "outputs": [],
   "source": [
    "#convert genre_ids to int\n",
    "tmdb.genre_ids.map(lambda x: int(x))\n",
    "\n",
    "#remove spaces on both end of strings\n",
    "tmdb.original_language = tmdb.original_language.map(lambda x: x.strip())\n",
    "tmdb.original_title = tmdb.original_title.map(lambda x: x.strip())\n",
    "tmdb.title = tmdb.title.map(lambda x: x.strip())"
   ]
  },
  {
   "cell_type": "code",
   "execution_count": 176,
   "metadata": {},
   "outputs": [],
   "source": [
    "#Join tmdb and tmdb_link tables\n",
    "tmdb = tmdb.join(tmdb_link.set_index('tmdb_id'), on = 'id', how = 'left')"
   ]
  },
  {
   "cell_type": "code",
   "execution_count": 177,
   "metadata": {},
   "outputs": [],
   "source": [
    "#clean the joined table\n",
    "tmdb.imdb_id = tmdb.imdb_id.fillna(0).map(lambda x: int(x))"
   ]
  },
  {
   "cell_type": "code",
   "execution_count": 178,
   "metadata": {},
   "outputs": [
    {
     "name": "stdout",
     "output_type": "stream",
     "text": [
      "<class 'pandas.core.frame.DataFrame'>\n",
      "Int64Index: 26526 entries, 0 to 26516\n",
      "Data columns (total 10 columns):\n",
      "genre_ids            26526 non-null object\n",
      "id                   26526 non-null int64\n",
      "original_language    26526 non-null object\n",
      "original_title       26526 non-null object\n",
      "popularity           26526 non-null float64\n",
      "release_date         26526 non-null object\n",
      "title                26526 non-null object\n",
      "vote_average         26526 non-null float64\n",
      "vote_count           26526 non-null int64\n",
      "imdb_id              26526 non-null int64\n",
      "dtypes: float64(2), int64(3), object(5)\n",
      "memory usage: 2.2+ MB\n"
     ]
    }
   ],
   "source": [
    "tmdb.info()"
   ]
  },
  {
   "cell_type": "markdown",
   "metadata": {},
   "source": [
    "### rt database"
   ]
  },
  {
   "cell_type": "code",
   "execution_count": 179,
   "metadata": {},
   "outputs": [],
   "source": [
    "query_rt_info = ('''\n",
    "SELECT * FROM rt_movie_info\n",
    "''')\n",
    "rt_info = pd.read_sql_query(query_rt_info, con)"
   ]
  },
  {
   "cell_type": "code",
   "execution_count": 180,
   "metadata": {},
   "outputs": [],
   "source": [
    "query_rt_reviews = ('''\n",
    "SELECT * FROM rt_reviews\n",
    "''')\n",
    "rt_reviews = pd.read_sql_query(query_rt_reviews, con)"
   ]
  },
  {
   "cell_type": "code",
   "execution_count": 181,
   "metadata": {},
   "outputs": [],
   "source": [
    "query_rt_link = ('''\n",
    "SELECT * FROM rt_imdb_link\n",
    "''')\n",
    "rt_link = pd.read_sql_query(query_rt_link, con)"
   ]
  },
  {
   "cell_type": "code",
   "execution_count": 182,
   "metadata": {
    "scrolled": true
   },
   "outputs": [
    {
     "name": "stdout",
     "output_type": "stream",
     "text": [
      "<class 'pandas.core.frame.DataFrame'>\n",
      "RangeIndex: 1560 entries, 0 to 1559\n",
      "Data columns (total 12 columns):\n",
      "id              1560 non-null int64\n",
      "synopsis        1560 non-null object\n",
      "rating          1560 non-null object\n",
      "genre           1560 non-null object\n",
      "director        1560 non-null object\n",
      "writer          1560 non-null object\n",
      "theater_date    1560 non-null object\n",
      "dvd_date        1560 non-null object\n",
      "currency        1560 non-null object\n",
      "box_office      1560 non-null object\n",
      "runtime         1560 non-null object\n",
      "studio          494 non-null object\n",
      "dtypes: int64(1), object(11)\n",
      "memory usage: 146.3+ KB\n"
     ]
    }
   ],
   "source": [
    "rt_info.info()"
   ]
  },
  {
   "cell_type": "markdown",
   "metadata": {},
   "source": [
    "#### rt_info cleanning"
   ]
  },
  {
   "cell_type": "code",
   "execution_count": 183,
   "metadata": {},
   "outputs": [],
   "source": [
    "#replace empty value in theater_date and dvd_date with Jan 1,1000\n",
    "rt_info['theater_date'].loc[rt_info.theater_date == ''] = 'Jan 1, 1000'\n",
    "rt_info['dvd_date'].loc[rt_info.dvd_date == ''] = 'Jan 1, 1000'"
   ]
  },
  {
   "cell_type": "code",
   "execution_count": 184,
   "metadata": {},
   "outputs": [],
   "source": [
    "#convert theater_date and dvd_date to datetime format\n",
    "rt_info.theater_date = rt_info.theater_date.map(lambda x: dt.datetime.strptime(x, '%b %d, %Y').date())\n",
    "rt_info.dvd_date = rt_info.dvd_date.map(lambda x: dt.datetime.strptime(x, '%b %d, %Y').date())"
   ]
  },
  {
   "cell_type": "code",
   "execution_count": 185,
   "metadata": {},
   "outputs": [],
   "source": [
    "#clean box_office date\n",
    "rt_info['box_office'].loc[rt_info.box_office == ''] = '0'\n",
    "rt_info['box_office'] = rt_info.box_office.map(lambda x: int(x.replace(',', '')))"
   ]
  },
  {
   "cell_type": "code",
   "execution_count": 186,
   "metadata": {},
   "outputs": [],
   "source": [
    "#clean runtime (replace empty value with 0)\n",
    "rt_info['runtime'].loc[rt_info.runtime == ''] = '0'\n",
    "rt_info['runtime'] = rt_info.runtime.map(lambda x: int(x.replace('minutes', '')))"
   ]
  },
  {
   "cell_type": "code",
   "execution_count": 187,
   "metadata": {},
   "outputs": [],
   "source": [
    "#remove spaces on both end of strings\n",
    "rt_info.synopsis = rt_info.synopsis.map(lambda x: x.strip())\n",
    "rt_info.rating = rt_info.rating.map(lambda x: x.strip())\n",
    "rt_info.genre = rt_info.genre.map(lambda x: x.strip())\n",
    "rt_info.director = rt_info.director.map(lambda x: x.strip())\n",
    "rt_info.writer = rt_info.writer.map(lambda x: x.strip())"
   ]
  },
  {
   "cell_type": "code",
   "execution_count": 188,
   "metadata": {},
   "outputs": [
    {
     "name": "stdout",
     "output_type": "stream",
     "text": [
      "<class 'pandas.core.frame.DataFrame'>\n",
      "RangeIndex: 1560 entries, 0 to 1559\n",
      "Data columns (total 12 columns):\n",
      "id              1560 non-null int64\n",
      "synopsis        1560 non-null object\n",
      "rating          1560 non-null object\n",
      "genre           1560 non-null object\n",
      "director        1560 non-null object\n",
      "writer          1560 non-null object\n",
      "theater_date    1560 non-null object\n",
      "dvd_date        1560 non-null object\n",
      "currency        1560 non-null object\n",
      "box_office      1560 non-null int64\n",
      "runtime         1560 non-null int64\n",
      "studio          494 non-null object\n",
      "dtypes: int64(3), object(9)\n",
      "memory usage: 146.3+ KB\n"
     ]
    }
   ],
   "source": [
    "rt_info.info()"
   ]
  },
  {
   "cell_type": "markdown",
   "metadata": {},
   "source": [
    "#### rt_reviews cleanning"
   ]
  },
  {
   "cell_type": "code",
   "execution_count": 189,
   "metadata": {},
   "outputs": [],
   "source": [
    "#convert date to datetime format\n",
    "rt_reviews.date = rt_reviews.date.map(lambda x: dt.datetime.strptime(x, '%B %d, %Y').date())"
   ]
  },
  {
   "cell_type": "code",
   "execution_count": 190,
   "metadata": {},
   "outputs": [],
   "source": [
    "#convert top_critic to int\n",
    "rt_reviews.top_critic = rt_reviews.top_critic.map(lambda x: int(x))"
   ]
  },
  {
   "cell_type": "code",
   "execution_count": 191,
   "metadata": {},
   "outputs": [],
   "source": [
    "#remove spaces on both end of strings\n",
    "rt_reviews.review = rt_reviews.review.map(lambda x: x.strip())\n",
    "rt_reviews.rating = rt_reviews.rating.map(lambda x: x.strip())\n",
    "rt_reviews.fresh = rt_reviews.fresh.map(lambda x: x.strip())\n",
    "rt_reviews.critic = rt_reviews.critic.map(lambda x: x.strip())\n",
    "rt_reviews.publisher = rt_reviews.publisher.map(lambda x: x.strip())"
   ]
  },
  {
   "cell_type": "code",
   "execution_count": 192,
   "metadata": {},
   "outputs": [
    {
     "name": "stdout",
     "output_type": "stream",
     "text": [
      "<class 'pandas.core.frame.DataFrame'>\n",
      "RangeIndex: 12300 entries, 0 to 12299\n",
      "Data columns (total 8 columns):\n",
      "id            12300 non-null int64\n",
      "review        12300 non-null object\n",
      "rating        12300 non-null object\n",
      "fresh         12300 non-null object\n",
      "critic        12300 non-null object\n",
      "top_critic    12300 non-null int64\n",
      "publisher     12300 non-null object\n",
      "date          12300 non-null object\n",
      "dtypes: int64(2), object(6)\n",
      "memory usage: 768.8+ KB\n"
     ]
    }
   ],
   "source": [
    "rt_reviews.info()"
   ]
  },
  {
   "cell_type": "markdown",
   "metadata": {},
   "source": [
    "#### rt_link cleaning"
   ]
  },
  {
   "cell_type": "code",
   "execution_count": 193,
   "metadata": {},
   "outputs": [],
   "source": [
    "rt_link.year = rt_link.year.fillna(1000)"
   ]
  },
  {
   "cell_type": "code",
   "execution_count": 194,
   "metadata": {},
   "outputs": [
    {
     "name": "stdout",
     "output_type": "stream",
     "text": [
      "<class 'pandas.core.frame.DataFrame'>\n",
      "RangeIndex: 17468 entries, 0 to 17467\n",
      "Data columns (total 6 columns):\n",
      "imdbid         17468 non-null int64\n",
      "rtid           17468 non-null int64\n",
      "title          17468 non-null object\n",
      "year           17468 non-null float64\n",
      "mpaa_rating    17468 non-null object\n",
      "runtime        17468 non-null object\n",
      "dtypes: float64(1), int64(2), object(3)\n",
      "memory usage: 818.9+ KB\n"
     ]
    }
   ],
   "source": [
    "rt_link.info()"
   ]
  },
  {
   "cell_type": "code",
   "execution_count": 195,
   "metadata": {},
   "outputs": [],
   "source": [
    "#replace empty space to year 1000 in year\n",
    "rt_link.year = rt_link.year.fillna(1000)\n",
    "\n",
    "#convert date to datetime format\n",
    "rt_link.year = rt_link.year.map(lambda x: (int(x)))"
   ]
  },
  {
   "cell_type": "code",
   "execution_count": 196,
   "metadata": {},
   "outputs": [],
   "source": [
    "#replace empty space in runtime to 0\n",
    "rt_link['runtime'].loc[rt_link.runtime == ''] = '0'\n",
    "\n",
    "#convert runtime to int format\n",
    "rt_link.runtime = rt_link.runtime.map(lambda x: (int(x)))"
   ]
  },
  {
   "cell_type": "code",
   "execution_count": 197,
   "metadata": {},
   "outputs": [
    {
     "name": "stdout",
     "output_type": "stream",
     "text": [
      "<class 'pandas.core.frame.DataFrame'>\n",
      "RangeIndex: 17468 entries, 0 to 17467\n",
      "Data columns (total 6 columns):\n",
      "imdbid         17468 non-null int64\n",
      "rtid           17468 non-null int64\n",
      "title          17468 non-null object\n",
      "year           17468 non-null int64\n",
      "mpaa_rating    17468 non-null object\n",
      "runtime        17468 non-null int64\n",
      "dtypes: int64(4), object(2)\n",
      "memory usage: 818.9+ KB\n"
     ]
    }
   ],
   "source": [
    "rt_link.info()"
   ]
  },
  {
   "cell_type": "code",
   "execution_count": 198,
   "metadata": {},
   "outputs": [
    {
     "data": {
      "text/plain": [
       "(17468, 6)"
      ]
     },
     "execution_count": 198,
     "metadata": {},
     "output_type": "execute_result"
    }
   ],
   "source": [
    "rt_link.shape"
   ]
  },
  {
   "cell_type": "markdown",
   "metadata": {},
   "source": [
    "# Top 200 lucrative movies"
   ]
  },
  {
   "cell_type": "markdown",
   "metadata": {},
   "source": [
    "### bom database"
   ]
  },
  {
   "cell_type": "code",
   "execution_count": 199,
   "metadata": {},
   "outputs": [],
   "source": [
    "# get top 200 lucrative domestic movies\n",
    "bom_top200_domestic = bom.sort_values('domestic_gross', ascending = False).head(200)   "
   ]
  },
  {
   "cell_type": "markdown",
   "metadata": {},
   "source": [
    "### tn database"
   ]
  },
  {
   "cell_type": "code",
   "execution_count": 200,
   "metadata": {},
   "outputs": [],
   "source": [
    "# get top 200 revenue domestic movies\n",
    "tn_top200_domestic = tn.sort_values('domestic_gross',ascending=False).head(200)\n",
    "\n",
    "# get top 200 revenue worldwide movies\n",
    "tn_top200_world = tn.sort_values('worldwide_gross',ascending=False).head(200)\n",
    "\n",
    "# get top 200 profit movies\n",
    "tn_top200_profit = tn.sort_values('profit',ascending=False).head(200)"
   ]
  },
  {
   "cell_type": "code",
   "execution_count": null,
   "metadata": {},
   "outputs": [],
   "source": []
  }
 ],
 "metadata": {
  "kernelspec": {
   "display_name": "Python 3",
   "language": "python",
   "name": "python3"
  },
  "language_info": {
   "codemirror_mode": {
    "name": "ipython",
    "version": 3
   },
   "file_extension": ".py",
   "mimetype": "text/x-python",
   "name": "python",
   "nbconvert_exporter": "python",
   "pygments_lexer": "ipython3",
   "version": "3.7.6"
  }
 },
 "nbformat": 4,
 "nbformat_minor": 2
}
