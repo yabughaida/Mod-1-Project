{
 "cells": [
  {
   "cell_type": "markdown",
   "metadata": {},
   "source": [
    "# Microsoft Studios - Industry Analysis\n",
    "### By Yongwei & Yazan"
   ]
  },
  {
   "cell_type": "markdown",
   "metadata": {},
   "source": [
    "### The Project\n",
    "Microsoft sees all the big companies creating original video content, and they want to get in on the fun. They have decided to create a new movie studio, but the problem is they don’t know anything about creating movies. They have hired you to help them better understand the movie industry. Your team is charged with doing data analysis and creating a presentation that explores what type of films are currently doing the best at the box office. You must then translate those findings into actionable insights that the CEO can use when deciding what type of films they should be creating."
   ]
  },
  {
   "cell_type": "markdown",
   "metadata": {},
   "source": [
    "### Questions of Interest\n",
    "The following questions will be analyzed using 2 different measures of success: Review Rating & Commercial Performance. \n",
    "\n",
    "Review Rating\n",
    "    1. What are the best rated films since 2000?\n",
    "    2. Of these films, which genres are most prevalent? \n",
    "    3. Analyzing the top 3 genres, what is the relationship between a films review score and its popularity?\n",
    "    4. What is the relationship betwen a film's review score and the number of reviews?\n",
    "    5. Which directors should we consider hiring? (That is, those who have worked on the highest number of highly rated films)\n",
    "    6. Which writers should we consider hiring? (That is, those who have worked on the highest number of highly rated films)\n",
    "\n",
    "Financial Success\n",
    "    1. What financial matrix we should prioritize? (ROI, Profit, Cost)\n",
    "    2. What are the most financially successful movies since 2000?\n",
    "    3. What genre we should pursue for the movie?\n",
    "    4. What directors we should hire?\n",
    "    5. What writers we should hire?\n",
    "    \n",
    "Finally, when we combine the highest rated films with the most commercially successful:\n",
    "    1. What are the best performing films across both standards?\n",
    "    2. What are the most common genres, directors, and writers?\n",
    "    3. What is the relationship between commercial success and review rating?"
   ]
  },
  {
   "cell_type": "markdown",
   "metadata": {},
   "source": [
    "### Import packages & connect database"
   ]
  },
  {
   "cell_type": "code",
   "execution_count": 1,
   "metadata": {
    "scrolled": false
   },
   "outputs": [],
   "source": [
    "#!pip install mysql-connector-python\n",
    "#!pip install fuzzywuzzy\n",
    "#!pip install python-Levenshtein\n",
    "#!pip install --upgrade pandas"
   ]
  },
  {
   "cell_type": "code",
   "execution_count": 2,
   "metadata": {},
   "outputs": [],
   "source": [
    "import pandas as pd\n",
    "import numpy as np\n",
    "import mysql.connector\n",
    "import datetime as dt\n",
    "import matplotlib.pyplot as plt\n",
    "import seaborn as sns\n",
    "import string\n",
    "#from fuzzywuzzy import fuzz\n",
    "#from fuzzywuzzy import process\n",
    "%matplotlib inline"
   ]
  },
  {
   "cell_type": "code",
   "execution_count": 3,
   "metadata": {},
   "outputs": [],
   "source": [
    "con = mysql.connector.connect(user='hbs-student', password='super-secure-password?',\n",
    "                              host='hbs-ds-060120.c1doesqrid0e.us-east-1.rds.amazonaws.com',\n",
    "                              database='movies')\n",
    "cur = con.cursor()"
   ]
  },
  {
   "cell_type": "markdown",
   "metadata": {},
   "source": [
    "# Data Cleaning"
   ]
  },
  {
   "cell_type": "markdown",
   "metadata": {},
   "source": [
    "### IMDB Titles"
   ]
  },
  {
   "cell_type": "code",
   "execution_count": 4,
   "metadata": {},
   "outputs": [],
   "source": [
    "query = ('''\n",
    "SELECT *\n",
    "FROM imdb_title_basics imdb_b\n",
    "JOIN imdb_title_crew imdb_c USING (tconst)\n",
    "JOIN imdb_title_ratings imdb_e USING (tconst)\n",
    "''')\n",
    "imdb_titles = pd.read_sql_query(query, con)\n",
    "#joining all IMDB title tables using title ids and name ids"
   ]
  },
  {
   "cell_type": "code",
   "execution_count": 5,
   "metadata": {
    "scrolled": true
   },
   "outputs": [
    {
     "data": {
      "text/plain": [
       "tconst                 0\n",
       "primary_title          0\n",
       "original_title         0\n",
       "start_year             0\n",
       "runtime_minutes     7620\n",
       "genres                 0\n",
       "directors              0\n",
       "writers            10561\n",
       "averagerating          0\n",
       "numvotes               0\n",
       "dtype: int64"
      ]
     },
     "execution_count": 5,
     "metadata": {},
     "output_type": "execute_result"
    }
   ],
   "source": [
    "imdb_titles.isna().sum()\n",
    "#checking for null values"
   ]
  },
  {
   "cell_type": "code",
   "execution_count": 6,
   "metadata": {},
   "outputs": [],
   "source": [
    "imdb_titles = imdb_titles.dropna(subset=['runtime_minutes'])\n",
    "imdb_titles = imdb_titles.dropna(subset=['writers'])\n",
    "#Removing rows with null values for runtime minutes and writers"
   ]
  },
  {
   "cell_type": "code",
   "execution_count": 7,
   "metadata": {},
   "outputs": [],
   "source": [
    "pd.set_option('display.max_columns',None)\n",
    "# Want to see all columns to see which are going to be useful"
   ]
  },
  {
   "cell_type": "code",
   "execution_count": 8,
   "metadata": {},
   "outputs": [],
   "source": [
    "imdb_titles['genres'] = imdb_titles['genres'].map(lambda x: x.split(','))\n",
    "imdb_titles['directors'] = imdb_titles['directors'].map(lambda x: x.split(','))\n",
    "imdb_titles['writers'] = imdb_titles['writers'].map(lambda x: x.split(','))\n",
    "# Converting genres, directors, writers to lists, so we can easily check most popular later."
   ]
  },
  {
   "cell_type": "code",
   "execution_count": 9,
   "metadata": {},
   "outputs": [],
   "source": [
    "imdb_titles['age_of_movie']= 2020 - imdb_titles['start_year']\n",
    "#Creating new column to have \"age of movie\" as a reference"
   ]
  },
  {
   "cell_type": "code",
   "execution_count": 10,
   "metadata": {},
   "outputs": [],
   "source": [
    "translator1 = str.maketrans('0123456789','..........')\n",
    "translator2 = str.maketrans('', '', string.punctuation)\n",
    "imdb_titles['dummy_title'] = imdb_titles.primary_title.map(lambda x: x.translate(translator1).translate(translator2).strip())\n",
    "#Dropping numbers and punctuation marks from primary_title to make a dummy key\n",
    "\n",
    "imdb_titles['dummy_title'] = imdb_titles['dummy_title'].str.replace('[ ]','_')\n",
    "imdb_titles['dummy_title'] = imdb_titles['dummy_title'].str.lower()\n",
    "imdb_titles['dummy_title'] = imdb_titles['dummy_title'].map(lambda x: x.strip())\n",
    "#Creating a dummy_title column, to be used for our dummy key"
   ]
  },
  {
   "cell_type": "code",
   "execution_count": 11,
   "metadata": {},
   "outputs": [],
   "source": [
    "imdb_titles['start_year'] = imdb_titles['start_year'].map(lambda x: str(x))\n",
    "#Turning start_year to string so that I can combine it with dummy_title in another column"
   ]
  },
  {
   "cell_type": "code",
   "execution_count": 12,
   "metadata": {},
   "outputs": [],
   "source": [
    "imdb_titles['dummy_key'] = imdb_titles['dummy_title'] + \"_\" + imdb_titles['start_year']\n",
    "#Creating a new column for dummy_key"
   ]
  },
  {
   "cell_type": "code",
   "execution_count": 13,
   "metadata": {},
   "outputs": [],
   "source": [
    "imdb_titles = imdb_titles.drop(columns=['dummy_title'])\n",
    "#removing dummy_title since I have the dummy_key I need"
   ]
  },
  {
   "cell_type": "markdown",
   "metadata": {},
   "source": [
    "### IMDB Crew"
   ]
  },
  {
   "cell_type": "code",
   "execution_count": 14,
   "metadata": {},
   "outputs": [],
   "source": [
    "query = ('''\n",
    "SELECT *\n",
    "FROM imdb_name_basics\n",
    "''')\n",
    "imdb_crew = pd.read_sql_query(query, con)"
   ]
  },
  {
   "cell_type": "code",
   "execution_count": 15,
   "metadata": {
    "scrolled": true
   },
   "outputs": [
    {
     "data": {
      "text/plain": [
       "nconst                     0\n",
       "primary_name               0\n",
       "birth_year            523912\n",
       "death_year            599865\n",
       "primary_profession         0\n",
       "known_for_titles           0\n",
       "dtype: int64"
      ]
     },
     "execution_count": 15,
     "metadata": {},
     "output_type": "execute_result"
    }
   ],
   "source": [
    "imdb_crew.isna().sum()\n",
    "# Checking for null values"
   ]
  },
  {
   "cell_type": "code",
   "execution_count": 16,
   "metadata": {
    "scrolled": true
   },
   "outputs": [],
   "source": [
    "imdb_crew = imdb_crew.fillna(0)\n",
    "#Replacing null values with 0"
   ]
  },
  {
   "cell_type": "code",
   "execution_count": 17,
   "metadata": {},
   "outputs": [],
   "source": [
    "imdb_crew['birth_year'] = imdb_crew['birth_year'].map(lambda x: int(x))\n",
    "imdb_crew['death_year'] = imdb_crew['death_year'].map(lambda x: int(x))\n",
    "#Converting birth years and death years to integer"
   ]
  },
  {
   "cell_type": "code",
   "execution_count": 18,
   "metadata": {},
   "outputs": [
    {
     "name": "stdout",
     "output_type": "stream",
     "text": [
      "<class 'pandas.core.frame.DataFrame'>\n",
      "RangeIndex: 606648 entries, 0 to 606647\n",
      "Data columns (total 6 columns):\n",
      " #   Column              Non-Null Count   Dtype \n",
      "---  ------              --------------   ----- \n",
      " 0   nconst              606648 non-null  object\n",
      " 1   primary_name        606648 non-null  object\n",
      " 2   birth_year          606648 non-null  int64 \n",
      " 3   death_year          606648 non-null  int64 \n",
      " 4   primary_profession  606648 non-null  object\n",
      " 5   known_for_titles    606648 non-null  object\n",
      "dtypes: int64(2), object(4)\n",
      "memory usage: 27.8+ MB\n"
     ]
    }
   ],
   "source": [
    "imdb_crew.info()"
   ]
  },
  {
   "cell_type": "code",
   "execution_count": 19,
   "metadata": {},
   "outputs": [],
   "source": [
    "imdb_crew['primary_profession'] = imdb_crew['primary_profession'].map(lambda x: x.split(','))\n",
    "imdb_crew['known_for_titles'] = imdb_crew['known_for_titles'].map(lambda x: x.split(','))\n",
    "#Converting these to lists so we can easily reference them later"
   ]
  },
  {
   "cell_type": "code",
   "execution_count": 20,
   "metadata": {},
   "outputs": [],
   "source": [
    "imdb_crew['age'] = imdb_crew.apply(lambda row: (2020 - row['birth_year']) if row['death_year'] == 0 else None, axis=1)\n",
    "#Adding an age column. If the age is 2020, it means that there is no birth year available. If the age is equal to None, it means the person is dead."
   ]
  },
  {
   "cell_type": "markdown",
   "metadata": {},
   "source": [
    "### BOM"
   ]
  },
  {
   "cell_type": "code",
   "execution_count": 21,
   "metadata": {},
   "outputs": [],
   "source": [
    "query = ('''\n",
    "SELECT * FROM bom_movie_gross\n",
    "''')\n",
    "bom = pd.read_sql_query(query, con)"
   ]
  },
  {
   "cell_type": "code",
   "execution_count": 22,
   "metadata": {},
   "outputs": [],
   "source": [
    "#drop Null value in domestic_gross\n",
    "bom = bom.dropna(subset =['domestic_gross'])\n",
    "\n",
    "#convert Null value in foreign_gross to 0\n",
    "bom.foreign_gross = bom.foreign_gross.fillna(0)\n",
    "\n",
    "#convert domestic_gross and foreign_gross from float to int\n",
    "bom.domestic_gross = bom.domestic_gross.map(lambda x: int(x))   \n",
    "bom.foreign_gross = bom.foreign_gross.map(lambda x: int(x))  "
   ]
  },
  {
   "cell_type": "code",
   "execution_count": 23,
   "metadata": {},
   "outputs": [],
   "source": [
    "#remove spaces on both end of strings\n",
    "bom.title = bom.title.map(lambda x: x.strip())\n",
    "bom.studio = bom.studio.map(lambda x: x.strip())"
   ]
  },
  {
   "cell_type": "code",
   "execution_count": 24,
   "metadata": {},
   "outputs": [],
   "source": [
    "#convert year to str\n",
    "bom['year'] = bom['year'].map(str)\n",
    "\n",
    "#remove all punctuation and numbers inside movie title\n",
    "translator1 = str.maketrans('0123456789','..........')\n",
    "translator2 = str.maketrans('', '', string.punctuation)\n",
    "bom['title_cleaned'] = bom.title.map(lambda x: x.translate(translator1).translate(translator2).strip())\n",
    "\n",
    "#combine title and year\n",
    "bom['title_cleaned'] = bom['title_cleaned'] + '_' + bom['year']\n",
    "\n",
    "#replace all empty spaces with _ and lower all string\n",
    "bom['title_cleaned'] = bom['title_cleaned'].str.replace(' ','_').str.lower()\n",
    "\n",
    "#convert year back to int\n",
    "bom['year'] = bom['year'].map(int)"
   ]
  },
  {
   "cell_type": "markdown",
   "metadata": {},
   "source": [
    "### TN"
   ]
  },
  {
   "cell_type": "code",
   "execution_count": 25,
   "metadata": {},
   "outputs": [],
   "source": [
    "query_tn = ('''\n",
    "SELECT * FROM tn_movie_budgets\n",
    "''')\n",
    "tn = pd.read_sql_query(query_tn, con)"
   ]
  },
  {
   "cell_type": "code",
   "execution_count": 26,
   "metadata": {},
   "outputs": [],
   "source": [
    "# convert release_date to date format\n",
    "tn.release_date = tn.release_date.map(lambda x: dt.datetime.strptime(x, '%b %d, %Y'))\n",
    "\n",
    "# convert production_budget, domestic_gross, worldwide_gross to date format\n",
    "tn.production_budget = tn.production_budget.map(lambda x: int(x.replace(',','').replace('$','')))\n",
    "tn.domestic_gross = tn.domestic_gross.map(lambda x: int(x.replace(',','').replace('$','')))\n",
    "tn.worldwide_gross = tn.worldwide_gross.map(lambda x: int(x.replace(',','').replace('$','')))\n",
    "\n",
    "#add profit column\n",
    "tn['profit'] = tn.worldwide_gross - tn.production_budget\n",
    "\n",
    "# add ROI column to TN table (ROI = profit/production_budget)\n",
    "tn['roi'] = tn.profit/tn.production_budget"
   ]
  },
  {
   "cell_type": "code",
   "execution_count": 27,
   "metadata": {},
   "outputs": [],
   "source": [
    "#add new column for release year\n",
    "tn['year'] = tn.release_date.map(lambda x: str(x.year))\n",
    "\n",
    "#remove all punctuation and numbers inside movie title\n",
    "translator1 = str.maketrans('0123456789','..........')\n",
    "translator2 = str.maketrans('', '', string.punctuation)\n",
    "tn['title_cleaned'] = tn.movie.map(lambda x: x.translate(translator1).translate(translator2).strip())\n",
    "\n",
    "#combine title and year\n",
    "tn['title_cleaned'] = tn['title_cleaned']+'_'+tn['year']\n",
    "\n",
    "#replace all empty spaces with _ and lower all string\n",
    "tn['title_cleaned'] = tn['title_cleaned'].str.replace(' ','_').str.lower()\n",
    "\n",
    "#drop column year\n",
    "tn = tn.drop(axis = 1, columns='year')"
   ]
  },
  {
   "cell_type": "markdown",
   "metadata": {},
   "source": [
    "### TMDB"
   ]
  },
  {
   "cell_type": "code",
   "execution_count": 28,
   "metadata": {},
   "outputs": [],
   "source": [
    "query_tmdb = ('''\n",
    "SELECT * FROM tmdb_movies\n",
    "''')\n",
    "tmdb = pd.read_sql_query(query_tmdb, con)"
   ]
  },
  {
   "cell_type": "code",
   "execution_count": 29,
   "metadata": {},
   "outputs": [],
   "source": [
    "query_tmdb_link = ('''\n",
    "SELECT * FROM tmdb_imdb_link\n",
    "''')\n",
    "tmdb_link = pd.read_sql_query(query_tmdb_link, con)"
   ]
  },
  {
   "cell_type": "code",
   "execution_count": 30,
   "metadata": {},
   "outputs": [],
   "source": [
    "#convert genre_ids to int\n",
    "tmdb.genre_ids.map(lambda x: int(x))\n",
    "\n",
    "#remove spaces on both end of strings\n",
    "tmdb.original_language = tmdb.original_language.map(lambda x: x.strip())\n",
    "tmdb.original_title = tmdb.original_title.map(lambda x: x.strip())\n",
    "tmdb.title = tmdb.title.map(lambda x: x.strip())"
   ]
  },
  {
   "cell_type": "code",
   "execution_count": 31,
   "metadata": {},
   "outputs": [],
   "source": [
    "#Join tmdb and tmdb_link tables\n",
    "tmdb = tmdb.join(tmdb_link.set_index('tmdb_id'), on = 'id', how = 'left')"
   ]
  },
  {
   "cell_type": "code",
   "execution_count": 32,
   "metadata": {},
   "outputs": [],
   "source": [
    "#clean the joined table\n",
    "tmdb.imdb_id = tmdb.imdb_id.fillna(0).map(lambda x: int(x))"
   ]
  },
  {
   "cell_type": "code",
   "execution_count": 33,
   "metadata": {},
   "outputs": [],
   "source": [
    "#add new column for release year\n",
    "tmdb['year'] = tmdb.release_date.map(lambda x: str(x.year))\n",
    "\n",
    "#remove all punctuation and numbers inside movie title\n",
    "translator1 = str.maketrans('0123456789','..........')\n",
    "translator2 = str.maketrans('', '', string.punctuation)\n",
    "tmdb['title_cleaned'] = tmdb.title.map(lambda x: x.translate(translator1).translate(translator2).strip())\n",
    "\n",
    "#combine title and year\n",
    "tmdb['title_cleaned'] = tmdb['title_cleaned']+'_'+tmdb['year']\n",
    "\n",
    "#replace all empty spaces with _ and lower all string\n",
    "tmdb['title_cleaned'] = tmdb['title_cleaned'].str.replace(' ','_').str.lower()\n",
    "\n",
    "#drop column year\n",
    "tmdb = tmdb.drop(axis = 1, columns='year')"
   ]
  },
  {
   "cell_type": "markdown",
   "metadata": {},
   "source": [
    "### RT"
   ]
  },
  {
   "cell_type": "code",
   "execution_count": 34,
   "metadata": {},
   "outputs": [],
   "source": [
    "query_rt_info = ('''\n",
    "SELECT * FROM rt_movie_info\n",
    "''')\n",
    "rt_info = pd.read_sql_query(query_rt_info, con)"
   ]
  },
  {
   "cell_type": "code",
   "execution_count": 35,
   "metadata": {},
   "outputs": [],
   "source": [
    "query_rt_reviews = ('''\n",
    "SELECT * FROM rt_reviews\n",
    "''')\n",
    "rt_reviews = pd.read_sql_query(query_rt_reviews, con)"
   ]
  },
  {
   "cell_type": "code",
   "execution_count": 36,
   "metadata": {},
   "outputs": [],
   "source": [
    "query_rt_link = ('''\n",
    "SELECT * FROM rt_imdb_link\n",
    "''')\n",
    "rt_link = pd.read_sql_query(query_rt_link, con)"
   ]
  },
  {
   "cell_type": "markdown",
   "metadata": {},
   "source": [
    "### RT_Info Cleaning"
   ]
  },
  {
   "cell_type": "code",
   "execution_count": 37,
   "metadata": {},
   "outputs": [
    {
     "name": "stderr",
     "output_type": "stream",
     "text": [
      "/anaconda3/lib/python3.7/site-packages/pandas/core/indexing.py:671: SettingWithCopyWarning: \n",
      "A value is trying to be set on a copy of a slice from a DataFrame\n",
      "\n",
      "See the caveats in the documentation: https://pandas.pydata.org/pandas-docs/stable/user_guide/indexing.html#returning-a-view-versus-a-copy\n",
      "  self._setitem_with_indexer(indexer, value)\n"
     ]
    }
   ],
   "source": [
    "#replace empty value in theater_date and dvd_date with Jan 1,1000\n",
    "rt_info['theater_date'].loc[rt_info.theater_date == ''] = 'Jan 1, 1000'\n",
    "rt_info['dvd_date'].loc[rt_info.dvd_date == ''] = 'Jan 1, 1000'"
   ]
  },
  {
   "cell_type": "code",
   "execution_count": 38,
   "metadata": {},
   "outputs": [],
   "source": [
    "#convert theater_date and dvd_date to datetime format\n",
    "rt_info.theater_date = rt_info.theater_date.map(lambda x: dt.datetime.strptime(x, '%b %d, %Y').date())\n",
    "rt_info.dvd_date = rt_info.dvd_date.map(lambda x: dt.datetime.strptime(x, '%b %d, %Y').date())"
   ]
  },
  {
   "cell_type": "code",
   "execution_count": 39,
   "metadata": {},
   "outputs": [],
   "source": [
    "#clean box_office date\n",
    "rt_info['box_office'].loc[rt_info.box_office == ''] = '0'\n",
    "rt_info['box_office'] = rt_info.box_office.map(lambda x: int(x.replace(',', '')))"
   ]
  },
  {
   "cell_type": "code",
   "execution_count": 40,
   "metadata": {},
   "outputs": [],
   "source": [
    "#clean runtime (replace empty value with 0)\n",
    "rt_info['runtime'].loc[rt_info.runtime == ''] = '0'\n",
    "rt_info['runtime'] = rt_info.runtime.map(lambda x: int(x.replace('minutes', '')))"
   ]
  },
  {
   "cell_type": "code",
   "execution_count": 41,
   "metadata": {},
   "outputs": [],
   "source": [
    "#remove spaces on both end of strings\n",
    "rt_info.synopsis = rt_info.synopsis.map(lambda x: x.strip())\n",
    "rt_info.rating = rt_info.rating.map(lambda x: x.strip())\n",
    "rt_info.genre = rt_info.genre.map(lambda x: x.strip())\n",
    "rt_info.director = rt_info.director.map(lambda x: x.strip())\n",
    "rt_info.writer = rt_info.writer.map(lambda x: x.strip())"
   ]
  },
  {
   "cell_type": "code",
   "execution_count": 42,
   "metadata": {},
   "outputs": [],
   "source": [
    "rt_info['genre'] = rt_info['genre'].map(lambda x: x.split('|'))\n",
    "rt_info['writer'] = rt_info['writer'].map(lambda x: x.split('|'))\n",
    "rt_info['director'] = rt_info['director'].map(lambda x: x.split('|'))\n",
    "#Converting genre, writer, director to list so we can reference them easily"
   ]
  },
  {
   "cell_type": "code",
   "execution_count": 43,
   "metadata": {},
   "outputs": [],
   "source": [
    "rt_info = rt_info.drop(columns=['box_office','currency'],axis=1)\n",
    "#Dropping box_office because we have better data on another table, dropping currency because we removed box office data"
   ]
  },
  {
   "cell_type": "markdown",
   "metadata": {},
   "source": [
    "### RT_Reviews Cleaning"
   ]
  },
  {
   "cell_type": "code",
   "execution_count": 44,
   "metadata": {},
   "outputs": [],
   "source": [
    "#convert date to datetime format\n",
    "rt_reviews.date = rt_reviews.date.map(lambda x: dt.datetime.strptime(x, '%B %d, %Y').date())"
   ]
  },
  {
   "cell_type": "code",
   "execution_count": 45,
   "metadata": {},
   "outputs": [],
   "source": [
    "#convert top_critic to int\n",
    "rt_reviews.top_critic = rt_reviews.top_critic.map(lambda x: int(x))"
   ]
  },
  {
   "cell_type": "code",
   "execution_count": 46,
   "metadata": {},
   "outputs": [],
   "source": [
    "#remove spaces on both end of strings\n",
    "rt_reviews.review = rt_reviews.review.map(lambda x: x.strip())\n",
    "rt_reviews.rating = rt_reviews.rating.map(lambda x: x.strip())\n",
    "rt_reviews.fresh = rt_reviews.fresh.map(lambda x: x.strip())\n",
    "rt_reviews.critic = rt_reviews.critic.map(lambda x: x.strip())\n",
    "rt_reviews.publisher = rt_reviews.publisher.map(lambda x: x.strip())"
   ]
  },
  {
   "cell_type": "markdown",
   "metadata": {},
   "source": [
    "### RT_link cleaning"
   ]
  },
  {
   "cell_type": "code",
   "execution_count": 47,
   "metadata": {},
   "outputs": [],
   "source": [
    "rt_link.year = rt_link.year.fillna(1000)"
   ]
  },
  {
   "cell_type": "code",
   "execution_count": 48,
   "metadata": {},
   "outputs": [
    {
     "name": "stdout",
     "output_type": "stream",
     "text": [
      "<class 'pandas.core.frame.DataFrame'>\n",
      "RangeIndex: 17468 entries, 0 to 17467\n",
      "Data columns (total 6 columns):\n",
      " #   Column       Non-Null Count  Dtype  \n",
      "---  ------       --------------  -----  \n",
      " 0   imdbid       17468 non-null  int64  \n",
      " 1   rtid         17468 non-null  int64  \n",
      " 2   title        17468 non-null  object \n",
      " 3   year         17468 non-null  float64\n",
      " 4   mpaa_rating  17468 non-null  object \n",
      " 5   runtime      17468 non-null  object \n",
      "dtypes: float64(1), int64(2), object(3)\n",
      "memory usage: 818.9+ KB\n"
     ]
    }
   ],
   "source": [
    "rt_link.info()"
   ]
  },
  {
   "cell_type": "code",
   "execution_count": 49,
   "metadata": {},
   "outputs": [],
   "source": [
    "#replace empty space to year 1000 in year\n",
    "rt_link.year = rt_link.year.fillna(1000)\n",
    "\n",
    "#convert date to datetime format\n",
    "rt_link.year = rt_link.year.map(lambda x: (int(x)))"
   ]
  },
  {
   "cell_type": "code",
   "execution_count": 50,
   "metadata": {},
   "outputs": [],
   "source": [
    "#replace empty space in runtime to 0\n",
    "rt_link['runtime'].loc[rt_link.runtime == ''] = '0'\n",
    "\n",
    "#convert runtime to int format\n",
    "rt_link.runtime = rt_link.runtime.map(lambda x: (int(x)))"
   ]
  },
  {
   "cell_type": "code",
   "execution_count": 51,
   "metadata": {},
   "outputs": [],
   "source": [
    "#convert year to str\n",
    "rt_link['year'] = rt_link['year'].map(str)\n",
    "\n",
    "#remove all punctuation and numbers inside movie title\n",
    "translator1 = str.maketrans('0123456789','..........')\n",
    "translator2 = str.maketrans('', '', string.punctuation)\n",
    "rt_link['title_cleaned'] = rt_link.title.map(lambda x: x.translate(translator1).translate(translator2).strip())\n",
    "\n",
    "#combine title and year\n",
    "rt_link['title_cleaned'] = rt_link['title_cleaned'] + '_' + rt_link['year']\n",
    "\n",
    "#replace all empty spaces with _ and lower all string\n",
    "rt_link['title_cleaned'] = rt_link['title_cleaned'].str.replace(' ','_').str.lower()\n",
    "\n",
    "#convert year back to int\n",
    "rt_link['year'] = rt_link['year'].map(int)"
   ]
  },
  {
   "cell_type": "markdown",
   "metadata": {},
   "source": [
    "# Financial Success Analysis"
   ]
  },
  {
   "cell_type": "markdown",
   "metadata": {},
   "source": [
    "## 1. What financial success matrix we should focus? (ROI vs Profit)"
   ]
  },
  {
   "cell_type": "markdown",
   "metadata": {},
   "source": [
    "### Find top hundreds movies after 2000 according to differetn financial success matrix"
   ]
  },
  {
   "cell_type": "markdown",
   "metadata": {},
   "source": [
    "Both BOM and TN have similar information about budget, but TN database is more complete so we decided to use TN to calculate profit."
   ]
  },
  {
   "cell_type": "code",
   "execution_count": 52,
   "metadata": {},
   "outputs": [],
   "source": [
    "# get top 200 revenue domestic movies after 2000\n",
    "top200_revenue_domestic = tn.loc[tn.release_date>dt.datetime(2000,1,1)].sort_values('domestic_gross',ascending=False).head(200)\n",
    "\n",
    "# get top 200 revenue worldwide movies after 2000\n",
    "top200_revenue_world = tn.loc[tn.release_date>dt.datetime(2000,1,1)].sort_values('worldwide_gross',ascending=False).head(200)\n",
    "\n",
    "# get top 200 profit movies after 2000\n",
    "top200_profit = tn.loc[tn.release_date>dt.datetime(2000,1,1)].sort_values('profit',ascending=False).head(200)\n",
    "\n",
    "#get top 200 ROI movies with worldwide_gross higher than 100 million\n",
    "top200_roi = tn.loc[(tn.release_date>dt.datetime(2000,1,1)) & (tn.worldwide_gross>100000000)].sort_values('roi',ascending=False).head(200)\n"
   ]
  },
  {
   "cell_type": "markdown",
   "metadata": {},
   "source": [
    "Combine table for top profit"
   ]
  },
  {
   "cell_type": "code",
   "execution_count": 53,
   "metadata": {},
   "outputs": [],
   "source": [
    "# Since there are less commone movie between imdb and tn tables. we select top 300 roi movies from tn\n",
    "# then combine it with imdb movie. We find 196 movies\n",
    "\n",
    "top300_profit = tn.loc[tn.release_date>dt.datetime(2000,1,1)].sort_values('profit',ascending=False).head(300)\n",
    "\n",
    "top196_profit_imdb = imdb_titles.loc[imdb_titles.dummy_key.isin(list(top300_profit.title_cleaned))]\n",
    "\n",
    "# drop original title\n",
    "top196_profit_imdb = top196_profit_imdb.drop(axis = 1, columns = 'original_title')\n",
    "\n",
    "#join tn and imdb database together for top 123 movies\n",
    "top196_profit = top196_profit_imdb.merge(\n",
    "    top300_profit, left_on='dummy_key', right_on ='title_cleaned').drop(\n",
    "    axis=1, columns=['start_year', 'id', 'movie', 'title_cleaned'])"
   ]
  },
  {
   "cell_type": "markdown",
   "metadata": {},
   "source": [
    "combine table for top ROI"
   ]
  },
  {
   "cell_type": "code",
   "execution_count": 54,
   "metadata": {},
   "outputs": [],
   "source": [
    "# Since there are less commone movie between imdb and tn tables. we select top 300 roi movies from tn\n",
    "# then combine it with imdb movie. We find 139 movies\n",
    "\n",
    "#get top 300 ROI movies with worldwide_gross higher than 100 million\n",
    "top300_roi = tn.loc[(tn.release_date>dt.datetime(2000,1,1)) & (tn.worldwide_gross>100000000)].sort_values('roi',ascending=False).head(300)\n",
    "\n",
    "top139_roi_imdb = imdb_titles.loc[imdb_titles.dummy_key.isin(list(top300_roi.title_cleaned))]\n",
    "\n",
    "# drop original title\n",
    "top139_roi_imdb = top139_roi_imdb.drop(axis = 1, columns = 'original_title')\n",
    "\n",
    "#join tn and imdb database together for top 103 movies\n",
    "top139_roi = top139_roi_imdb.merge(\n",
    "    top300_roi, left_on='dummy_key', right_on ='title_cleaned').drop(\n",
    "    axis=1, columns=['start_year', 'id', 'movie', 'title_cleaned'])\n",
    "top139_roi['roi'] = top139_roi['roi'].map(lambda x: round(x, 2))\n",
    "top139_roi = top139_roi.sort_values('roi',ascending=False)"
   ]
  },
  {
   "cell_type": "markdown",
   "metadata": {},
   "source": [
    "### Bar plot for top 15 profit and ROI movies.  Scartter plot for top 200 profit and ROI moves"
   ]
  },
  {
   "cell_type": "code",
   "execution_count": 55,
   "metadata": {},
   "outputs": [
    {
     "name": "stderr",
     "output_type": "stream",
     "text": [
      "/anaconda3/lib/python3.7/site-packages/scipy/stats/stats.py:1713: FutureWarning: Using a non-tuple sequence for multidimensional indexing is deprecated; use `arr[tuple(seq)]` instead of `arr[seq]`. In the future this will be interpreted as an array index, `arr[np.array(seq)]`, which will result either in an error or a different result.\n",
      "  return np.add.reduce(sorted[indexer] * weights, axis=axis) / sumval\n"
     ]
    },
    {
     "data": {
      "image/png": "[encoded data removed]",
      "text/plain": [
       "<Figure size 1152x1296 with 6 Axes>"
      ]
     },
     "metadata": {
      "needs_background": "light"
     },
     "output_type": "display_data"
    },
    {
     "name": "stdout",
     "output_type": "stream",
     "text": [
      "Top 200 movies according to profit:\n",
      "\n",
      "top 200 profit movies average production cost: 144 million\n",
      "top 200 profit movies median production cost: 142 million\n",
      "top 200 profit movies mean profit: 776 million\n",
      "top 200 profit movies median profit: 701 million\n",
      "top 200 profit movies mean ROI: 6\n",
      "top 200 profit movies median ROI: 4\n",
      "\n",
      "\n",
      "Top 200 movies according to ROI:\n",
      "\n",
      "top 200 ROI movies average production cost: 36 million\n",
      "top 200 ROI movies median production cost: 20 million\n",
      "top 200 ROI movies mean profit: 372 million\n",
      "top 200 ROI movies median profit: 246 million\n",
      "top 200 ROI movies mean ROI: 15\n",
      "top 200 ROI movies median ROI: 9\n",
      "\n"
     ]
    }
   ],
   "source": [
    "# use top200_profit table since it is most complete and contain all necessary information\n",
    "fig = plt.figure(figsize = (16,18))\n",
    "\n",
    "\n",
    "# top 15 profit movie bar plot\n",
    "ax1 = fig.add_subplot(2,2,1)\n",
    "x = top200_profit.head(15).movie\n",
    "y_revenue = top200_profit.head(15).worldwide_gross/1000000\n",
    "y_cost = top200_profit.head(15).production_budget/1000000\n",
    "y_roi = top200_profit.head(15).roi\n",
    "\n",
    "\n",
    "ax1.bar(x,y_revenue,width = 0.6, alpha=0.7, label = 'worldwide revenue')\n",
    "ax1.bar(x,y_cost,width = 0.6, alpha=0.9, label = 'production cost')\n",
    "\n",
    "plt.xticks(rotation=90, fontsize = 10)\n",
    "plt.yticks(fontsize = 10)\n",
    "ax1.set_ylabel('$ (million)', fontsize = 13)\n",
    "ax1.set_ylim(0,2800)\n",
    "ax1.legend(fontsize = 13)\n",
    "ax1.set_title('Top 15 profit movies worldwide', fontsize = 18)\n",
    "\n",
    "ax1_roi = ax1.twinx()\n",
    "ax1_roi.scatter(x,y_roi, marker = 'v', color = 'red', alpha=0.8, s=60, label='ROI')\n",
    "ax1_roi.set_ylabel('ROI', fontsize = 13)\n",
    "ax1_roi.set_ylim(0,120)\n",
    "ax1_roi.legend(bbox_to_anchor=(0.775, 0.91), fontsize = 13)\n",
    "\n",
    "#top 20 ROI movie bar plot\n",
    "ax2 = fig.add_subplot(2,2,2)\n",
    "x = top200_roi.head(15).movie\n",
    "y_revenue = top200_roi.head(15).worldwide_gross/1000000\n",
    "y_cost = top200_roi.head(15).production_budget/1000000\n",
    "y_roi = top200_roi.head(15).roi\n",
    "\n",
    "ax2.bar(x,y_revenue,width = 0.6, alpha=0.7, label = 'worldwide revenue')\n",
    "ax2.bar(x,y_cost,width = 0.6, alpha=0.9, label = 'production cost')\n",
    "plt.xticks(rotation=90, fontsize = 10)\n",
    "plt.yticks(fontsize = 10)\n",
    "ax2.set_ylabel('$ (million)', fontsize = 13)\n",
    "ax2.set_ylim(0,2800)\n",
    "ax2.legend(fontsize = 13)\n",
    "ax2.set_title('Top 15 ROI movies worldwide', fontsize = 18)\n",
    "\n",
    "ax2_roi = ax2.twinx()\n",
    "ax2_roi.scatter(x,y_roi, marker = 'v', color = 'red', alpha=0.8, s=60, label='ROI')\n",
    "ax2_roi.set_ylabel('ROI', fontsize = 13)\n",
    "ax2_roi.set_ylim(0,120)\n",
    "ax2_roi.legend(bbox_to_anchor=(0.775, 0.91), fontsize = 13)\n",
    "\n",
    "\n",
    "\n",
    "#top 200 profit movie scatter plot\n",
    "ax3 = fig.add_subplot(2,2,3)\n",
    "x = top200_profit.production_budget/1000000\n",
    "y = top200_profit.profit/1000000\n",
    "\n",
    "ax3 = sns.regplot(x=x, y=y)\n",
    "ax3.set_xlabel('Production cost ($ million)', fontsize = 13)\n",
    "ax3.set_ylabel('Profit ($ million)', fontsize = 13)\n",
    "ax3.set_title('Profit VS Cost (Top 200 profit movies)', fontsize = 18)\n",
    "ax3.set_xlim(0,450)\n",
    "ax3.set_ylim(0,2500)\n",
    "\n",
    "fig.tight_layout(pad=2.0)\n",
    "\n",
    "#top 200 ROI movie scatter plot \n",
    "ax4 = fig.add_subplot(2,2,4)\n",
    "x = top200_roi.production_budget/1000000\n",
    "y = top200_roi.profit/1000000\n",
    "\n",
    "ax4 = sns.regplot(x=x, y=y)\n",
    "ax4.set_xlabel('Production cost ($ million)', fontsize = 13)\n",
    "ax4.set_ylabel('Profit ($ million)', fontsize = 13)\n",
    "ax4.set_title('Profit VS Cost (Top 200 ROI movies)', fontsize = 18)\n",
    "ax4.set_xlim(0,450)\n",
    "ax4.set_ylim(0,2500)\n",
    "\n",
    "fig.tight_layout(pad=2.0)\n",
    "plt.show()\n",
    "\n",
    "\n",
    "\n",
    "print('Top 200 movies according to profit:'+'\\n\\n'+\n",
    "      f'top 200 profit movies average production cost: {int(top200_profit.production_budget.mean()/1000000)} million' +'\\n'+ \n",
    "      f'top 200 profit movies median production cost: {int(top200_profit.production_budget.median()/1000000)} million' +'\\n'+\n",
    "      f'top 200 profit movies mean profit: {int(top200_profit.worldwide_gross.mean()/1000000)} million' +'\\n'+\n",
    "      f'top 200 profit movies median profit: {int(top200_profit.worldwide_gross.median()/1000000)} million' +'\\n'+\n",
    "      f'top 200 profit movies mean ROI: {int(top200_profit.roi.mean())}' +'\\n'+\n",
    "      f'top 200 profit movies median ROI: {int(top200_profit.roi.median())}' +'\\n\\n\\n'\n",
    "     'Top 200 movies according to ROI:'+'\\n\\n'+\n",
    "      f'top 200 ROI movies average production cost: {int(top200_roi.production_budget.mean()/1000000)} million' +'\\n'+ \n",
    "      f'top 200 ROI movies median production cost: {int(top200_roi.production_budget.median()/1000000)} million' +'\\n'+\n",
    "      f'top 200 ROI movies mean profit: {int(top200_roi.worldwide_gross.mean()/1000000)} million' +'\\n'+\n",
    "      f'top 200 ROI movies median profit: {int(top200_roi.worldwide_gross.median()/1000000)} million' +'\\n'+\n",
    "      f'top 200 ROI movies mean ROI: {int(top200_roi.roi.mean())}' +'\\n'+\n",
    "      f'top 200 ROI movies median ROI: {int(top200_roi.roi.median())}' +'\\n')"
   ]
  },
  {
   "cell_type": "markdown",
   "metadata": {},
   "source": [
    "#### Conclusion: We should prioritize ROI since most of movies have lower production cost, which means lower risk for Microsoft in the beginning."
   ]
  },
  {
   "cell_type": "markdown",
   "metadata": {},
   "source": [
    "### 2. What genres we should pursue?"
   ]
  },
  {
   "cell_type": "code",
   "execution_count": 56,
   "metadata": {
    "scrolled": false
   },
   "outputs": [
    {
     "name": "stdout",
     "output_type": "stream",
     "text": [
      "The top 5 genres for top ROI movies are:\n",
      "Drama        0.16\n",
      "Comedy       0.12\n",
      "Action       0.10\n",
      "Adventure    0.09\n",
      "Thriller     0.08\n",
      "Name: genres, dtype: float64\n",
      "\n",
      "\n",
      "The top 5 genres for top profit movies are:\n",
      "Adventure    0.24\n",
      "Action       0.19\n",
      "Comedy       0.11\n",
      "Sci-Fi       0.09\n",
      "Animation    0.09\n",
      "Name: genres, dtype: float64\n"
     ]
    }
   ],
   "source": [
    "# Find top genres for top ROI movies\n",
    "#explode genres to multiple rows\n",
    "top139_roi_genres = top139_roi.explode('genres')\n",
    "\n",
    "#count genres\n",
    "genres_count_roi = top139_roi_genres.genres.value_counts()\n",
    "\n",
    "#change count to percentage\n",
    "genres_percentage_roi = round(genres_count_roi.map(lambda x: x/genres_count_roi.sum()),2)\n",
    "\n",
    "# FInd top genres for top profit movies\n",
    "#explode genres to multiple rows\n",
    "top196_profit_genres = top196_profit.explode('genres')\n",
    "\n",
    "#count genres\n",
    "genres_count_profit = top196_profit_genres.genres.value_counts()\n",
    "\n",
    "#change count to percentage\n",
    "genres_percentage_profit = round(genres_count_profit.map(lambda x: x/genres_count_profit.sum()),2)\n",
    "\n",
    "print(f'''The top 5 genres for top ROI movies are:\\n{genres_percentage_roi.head(5)}\\n\\n\n",
    "The top 5 genres for top profit movies are:\\n{genres_percentage_profit.head(5)}''')"
   ]
  },
  {
   "cell_type": "code",
   "execution_count": 57,
   "metadata": {},
   "outputs": [
    {
     "name": "stderr",
     "output_type": "stream",
     "text": [
      "/anaconda3/lib/python3.7/site-packages/ipykernel_launcher.py:4: SettingWithCopyWarning: \n",
      "A value is trying to be set on a copy of a slice from a DataFrame.\n",
      "Try using .loc[row_indexer,col_indexer] = value instead\n",
      "\n",
      "See the caveats in the documentation: https://pandas.pydata.org/pandas-docs/stable/user_guide/indexing.html#returning-a-view-versus-a-copy\n",
      "  after removing the cwd from sys.path.\n",
      "/anaconda3/lib/python3.7/site-packages/ipykernel_launcher.py:5: SettingWithCopyWarning: \n",
      "A value is trying to be set on a copy of a slice from a DataFrame.\n",
      "Try using .loc[row_indexer,col_indexer] = value instead\n",
      "\n",
      "See the caveats in the documentation: https://pandas.pydata.org/pandas-docs/stable/user_guide/indexing.html#returning-a-view-versus-a-copy\n",
      "  \"\"\"\n",
      "/anaconda3/lib/python3.7/site-packages/ipykernel_launcher.py:6: SettingWithCopyWarning: \n",
      "A value is trying to be set on a copy of a slice from a DataFrame.\n",
      "Try using .loc[row_indexer,col_indexer] = value instead\n",
      "\n",
      "See the caveats in the documentation: https://pandas.pydata.org/pandas-docs/stable/user_guide/indexing.html#returning-a-view-versus-a-copy\n",
      "  \n",
      "/anaconda3/lib/python3.7/site-packages/ipykernel_launcher.py:7: SettingWithCopyWarning: \n",
      "A value is trying to be set on a copy of a slice from a DataFrame.\n",
      "Try using .loc[row_indexer,col_indexer] = value instead\n",
      "\n",
      "See the caveats in the documentation: https://pandas.pydata.org/pandas-docs/stable/user_guide/indexing.html#returning-a-view-versus-a-copy\n",
      "  import sys\n",
      "/anaconda3/lib/python3.7/site-packages/ipykernel_launcher.py:8: SettingWithCopyWarning: \n",
      "A value is trying to be set on a copy of a slice from a DataFrame.\n",
      "Try using .loc[row_indexer,col_indexer] = value instead\n",
      "\n",
      "See the caveats in the documentation: https://pandas.pydata.org/pandas-docs/stable/user_guide/indexing.html#returning-a-view-versus-a-copy\n",
      "  \n",
      "/anaconda3/lib/python3.7/site-packages/ipykernel_launcher.py:13: SettingWithCopyWarning: \n",
      "A value is trying to be set on a copy of a slice from a DataFrame.\n",
      "Try using .loc[row_indexer,col_indexer] = value instead\n",
      "\n",
      "See the caveats in the documentation: https://pandas.pydata.org/pandas-docs/stable/user_guide/indexing.html#returning-a-view-versus-a-copy\n",
      "  del sys.path[0]\n",
      "/anaconda3/lib/python3.7/site-packages/ipykernel_launcher.py:14: SettingWithCopyWarning: \n",
      "A value is trying to be set on a copy of a slice from a DataFrame.\n",
      "Try using .loc[row_indexer,col_indexer] = value instead\n",
      "\n",
      "See the caveats in the documentation: https://pandas.pydata.org/pandas-docs/stable/user_guide/indexing.html#returning-a-view-versus-a-copy\n",
      "  \n",
      "/anaconda3/lib/python3.7/site-packages/ipykernel_launcher.py:15: SettingWithCopyWarning: \n",
      "A value is trying to be set on a copy of a slice from a DataFrame.\n",
      "Try using .loc[row_indexer,col_indexer] = value instead\n",
      "\n",
      "See the caveats in the documentation: https://pandas.pydata.org/pandas-docs/stable/user_guide/indexing.html#returning-a-view-versus-a-copy\n",
      "  from ipykernel import kernelapp as app\n",
      "/anaconda3/lib/python3.7/site-packages/ipykernel_launcher.py:16: SettingWithCopyWarning: \n",
      "A value is trying to be set on a copy of a slice from a DataFrame.\n",
      "Try using .loc[row_indexer,col_indexer] = value instead\n",
      "\n",
      "See the caveats in the documentation: https://pandas.pydata.org/pandas-docs/stable/user_guide/indexing.html#returning-a-view-versus-a-copy\n",
      "  app.launch_new_instance()\n",
      "/anaconda3/lib/python3.7/site-packages/ipykernel_launcher.py:17: SettingWithCopyWarning: \n",
      "A value is trying to be set on a copy of a slice from a DataFrame.\n",
      "Try using .loc[row_indexer,col_indexer] = value instead\n",
      "\n",
      "See the caveats in the documentation: https://pandas.pydata.org/pandas-docs/stable/user_guide/indexing.html#returning-a-view-versus-a-copy\n"
     ]
    }
   ],
   "source": [
    "#Pick only top 5 genres movie from top ROI movies\n",
    "top139_roi_top5genres = top139_roi_genres.loc[top139_roi_genres.genres.isin(genres_percentage_roi.head(5).index)]\n",
    "#change money units to million\n",
    "top139_roi_top5genres['production_budget_million'] = top139_roi_top5genres.production_budget.map(lambda x: x/1000000)\n",
    "top139_roi_top5genres['profit_million'] = top139_roi_top5genres.profit.map(lambda x: x/1000000)\n",
    "top139_roi_top5genres['domestic_gross_million'] = top139_roi_top5genres.domestic_gross.map(lambda x: x/1000000)\n",
    "top139_roi_top5genres['worldwide_gross_million'] = top139_roi_top5genres.worldwide_gross.map(lambda x: x/1000000)\n",
    "top139_roi_top5genres['table'] = 'roi'\n",
    "\n",
    "#Pick only top 5 genres movie from top profit movies\n",
    "top196_profit_top5genres = top196_profit_genres.loc[top196_profit_genres.genres.isin(genres_percentage_profit.head(5).index)]\n",
    "#change money units to million\n",
    "top196_profit_top5genres['production_budget_million'] = top196_profit_top5genres.production_budget.map(lambda x: x/1000000)\n",
    "top196_profit_top5genres['profit_million'] = top196_profit_top5genres.profit.map(lambda x: x/1000000)\n",
    "top196_profit_top5genres['domestic_gross_million'] = top196_profit_top5genres.domestic_gross.map(lambda x: x/1000000)\n",
    "top196_profit_top5genres['worldwide_gross_million'] = top196_profit_top5genres.worldwide_gross.map(lambda x: x/1000000)\n",
    "top196_profit_top5genres['table'] = 'profit'\n",
    "\n",
    "\n",
    "#combine above two table together in order to plot lmplot later\n",
    "top_joined = pd.concat([top139_roi_top5genres,top196_profit_top5genres])"
   ]
  },
  {
   "cell_type": "code",
   "execution_count": 58,
   "metadata": {
    "scrolled": true
   },
   "outputs": [
    {
     "data": {
      "image/png": "[encoded data removed]",
      "text/plain": [
       "<Figure size 864x360 with 2 Axes>"
      ]
     },
     "metadata": {
      "needs_background": "light"
     },
     "output_type": "display_data"
    },
    {
     "data": {
      "image/png": "[encoded data removed]",
      "text/plain": [
       "<Figure size 808.125x360 with 2 Axes>"
      ]
     },
     "metadata": {
      "needs_background": "light"
     },
     "output_type": "display_data"
    }
   ],
   "source": [
    "# plot bar plot for genres and regression plot\n",
    "fig = plt.figure(figsize = (12,5))\n",
    "\n",
    "\n",
    "# top 5 genres for ROI movie bar plot\n",
    "ax1 = fig.add_subplot(1,2,1)\n",
    "x = genres_percentage_roi.head(5).index\n",
    "y = genres_percentage_roi.head(5).values\n",
    "\n",
    "\n",
    "ax1.bar(x,y,width = 0.4, alpha=0.7, label = 'proportion')\n",
    "\n",
    "plt.xticks(fontsize = 12)\n",
    "plt.yticks(fontsize = 10)\n",
    "ax1.set_ylabel('proportion', fontsize = 13)\n",
    "ax1.set_ylim(0,0.25)\n",
    "ax1.legend(fontsize = 13)\n",
    "ax1.set_title('Top 5 genres for top ROI movies', fontsize = 16)\n",
    "\n",
    "\n",
    "# top 5 genres for profit movie bar plot\n",
    "ax2 = fig.add_subplot(1,2,2)\n",
    "x = genres_percentage_profit.head(5).index\n",
    "y = genres_percentage_profit.head(5).values\n",
    "\n",
    "ax2.bar(x,y,width = 0.4, alpha=0.7, label = 'proportion')\n",
    "\n",
    "plt.xticks(fontsize = 12)\n",
    "plt.yticks(fontsize = 10)\n",
    "ax2.set_ylabel('proportion', fontsize = 13)\n",
    "ax2.set_ylim(0,0.25)\n",
    "ax2.legend(fontsize = 13)\n",
    "ax2.set_title('Top 5 genres for top profit movies', fontsize = 16)\n",
    "\n",
    "\n",
    "#top genres  regression plot for ROI and profit\n",
    "ax3 = sns.lmplot(x='production_budget_million', y='profit_million', hue = 'genres', col='table', data = top_joined)\n",
    "ax3.set(xlim=(0, 450))\n",
    "ax3.set(ylim=(0, 2000))\n",
    "\n",
    "plt.show()"
   ]
  },
  {
   "cell_type": "markdown",
   "metadata": {},
   "source": [
    "#### Conclusion: We should priotize comedy movies since it has higher ROI and also cheap production cost. In the same time, we can also focus on action and adventure movies, since they also have high ROI and  profit"
   ]
  },
  {
   "cell_type": "markdown",
   "metadata": {},
   "source": [
    "### 3. What directors and writers we shuld hire?"
   ]
  },
  {
   "cell_type": "code",
   "execution_count": 59,
   "metadata": {
    "scrolled": true
   },
   "outputs": [
    {
     "data": {
      "text/html": [
       "<div>\n",
       "<style scoped>\n",
       "    .dataframe tbody tr th:only-of-type {\n",
       "        vertical-align: middle;\n",
       "    }\n",
       "\n",
       "    .dataframe tbody tr th {\n",
       "        vertical-align: top;\n",
       "    }\n",
       "\n",
       "    .dataframe thead th {\n",
       "        text-align: right;\n",
       "    }\n",
       "</style>\n",
       "<table border=\"1\" class=\"dataframe\">\n",
       "  <thead>\n",
       "    <tr style=\"text-align: right;\">\n",
       "      <th></th>\n",
       "      <th>tconst</th>\n",
       "      <th>primary_title</th>\n",
       "      <th>runtime_minutes</th>\n",
       "      <th>genres</th>\n",
       "      <th>directors</th>\n",
       "      <th>writers</th>\n",
       "      <th>averagerating</th>\n",
       "      <th>numvotes</th>\n",
       "      <th>age_of_movie</th>\n",
       "      <th>dummy_key</th>\n",
       "      <th>release_date</th>\n",
       "      <th>production_budget</th>\n",
       "      <th>domestic_gross</th>\n",
       "      <th>worldwide_gross</th>\n",
       "      <th>profit</th>\n",
       "      <th>roi</th>\n",
       "    </tr>\n",
       "  </thead>\n",
       "  <tbody>\n",
       "    <tr>\n",
       "      <th>45</th>\n",
       "      <td>tt1560985</td>\n",
       "      <td>The Devil Inside</td>\n",
       "      <td>83.0</td>\n",
       "      <td>[Horror]</td>\n",
       "      <td>[nm0068587]</td>\n",
       "      <td>[nm0068587, nm1834343]</td>\n",
       "      <td>4.2</td>\n",
       "      <td>33522</td>\n",
       "      <td>8</td>\n",
       "      <td>the_devil_inside_2012</td>\n",
       "      <td>2012-01-06</td>\n",
       "      <td>1000000</td>\n",
       "      <td>53262945</td>\n",
       "      <td>101759490</td>\n",
       "      <td>100759490</td>\n",
       "      <td>100.76</td>\n",
       "    </tr>\n",
       "    <tr>\n",
       "      <th>44</th>\n",
       "      <td>tt1536044</td>\n",
       "      <td>Paranormal Activity 2</td>\n",
       "      <td>91.0</td>\n",
       "      <td>[Horror]</td>\n",
       "      <td>[nm0931095]</td>\n",
       "      <td>[nm0675219, nm0484907, nm2317082, nm2305431]</td>\n",
       "      <td>5.7</td>\n",
       "      <td>93122</td>\n",
       "      <td>10</td>\n",
       "      <td>paranormal_activity_2010</td>\n",
       "      <td>2010-10-20</td>\n",
       "      <td>3000000</td>\n",
       "      <td>84752907</td>\n",
       "      <td>177512032</td>\n",
       "      <td>174512032</td>\n",
       "      <td>58.17</td>\n",
       "    </tr>\n",
       "    <tr>\n",
       "      <th>125</th>\n",
       "      <td>tt5052448</td>\n",
       "      <td>Get Out</td>\n",
       "      <td>104.0</td>\n",
       "      <td>[Horror, Mystery, Thriller]</td>\n",
       "      <td>[nm1443502]</td>\n",
       "      <td>[nm1443502]</td>\n",
       "      <td>7.7</td>\n",
       "      <td>400474</td>\n",
       "      <td>3</td>\n",
       "      <td>get_out_2017</td>\n",
       "      <td>2017-02-24</td>\n",
       "      <td>5000000</td>\n",
       "      <td>176040665</td>\n",
       "      <td>255367951</td>\n",
       "      <td>250367951</td>\n",
       "      <td>50.07</td>\n",
       "    </tr>\n",
       "    <tr>\n",
       "      <th>61</th>\n",
       "      <td>tt1778304</td>\n",
       "      <td>Paranormal Activity 3</td>\n",
       "      <td>83.0</td>\n",
       "      <td>[Horror, Mystery, Thriller]</td>\n",
       "      <td>[nm1413364, nm1160962]</td>\n",
       "      <td>[nm0484907, nm2305431]</td>\n",
       "      <td>5.8</td>\n",
       "      <td>85689</td>\n",
       "      <td>9</td>\n",
       "      <td>paranormal_activity_2011</td>\n",
       "      <td>2011-10-21</td>\n",
       "      <td>5000000</td>\n",
       "      <td>104028807</td>\n",
       "      <td>207039844</td>\n",
       "      <td>202039844</td>\n",
       "      <td>40.41</td>\n",
       "    </tr>\n",
       "    <tr>\n",
       "      <th>102</th>\n",
       "      <td>tt3322940</td>\n",
       "      <td>Annabelle</td>\n",
       "      <td>99.0</td>\n",
       "      <td>[Horror, Mystery, Thriller]</td>\n",
       "      <td>[nm0502954]</td>\n",
       "      <td>[nm2477891]</td>\n",
       "      <td>5.4</td>\n",
       "      <td>122039</td>\n",
       "      <td>6</td>\n",
       "      <td>annabelle_2014</td>\n",
       "      <td>2014-10-03</td>\n",
       "      <td>6500000</td>\n",
       "      <td>84273813</td>\n",
       "      <td>256862920</td>\n",
       "      <td>250362920</td>\n",
       "      <td>38.52</td>\n",
       "    </tr>\n",
       "  </tbody>\n",
       "</table>\n",
       "</div>"
      ],
      "text/plain": [
       "        tconst          primary_title  runtime_minutes  \\\n",
       "45   tt1560985       The Devil Inside             83.0   \n",
       "44   tt1536044  Paranormal Activity 2             91.0   \n",
       "125  tt5052448                Get Out            104.0   \n",
       "61   tt1778304  Paranormal Activity 3             83.0   \n",
       "102  tt3322940              Annabelle             99.0   \n",
       "\n",
       "                          genres               directors  \\\n",
       "45                      [Horror]             [nm0068587]   \n",
       "44                      [Horror]             [nm0931095]   \n",
       "125  [Horror, Mystery, Thriller]             [nm1443502]   \n",
       "61   [Horror, Mystery, Thriller]  [nm1413364, nm1160962]   \n",
       "102  [Horror, Mystery, Thriller]             [nm0502954]   \n",
       "\n",
       "                                          writers  averagerating  numvotes  \\\n",
       "45                         [nm0068587, nm1834343]            4.2     33522   \n",
       "44   [nm0675219, nm0484907, nm2317082, nm2305431]            5.7     93122   \n",
       "125                                   [nm1443502]            7.7    400474   \n",
       "61                         [nm0484907, nm2305431]            5.8     85689   \n",
       "102                                   [nm2477891]            5.4    122039   \n",
       "\n",
       "     age_of_movie                 dummy_key release_date  production_budget  \\\n",
       "45              8     the_devil_inside_2012   2012-01-06            1000000   \n",
       "44             10  paranormal_activity_2010   2010-10-20            3000000   \n",
       "125             3              get_out_2017   2017-02-24            5000000   \n",
       "61              9  paranormal_activity_2011   2011-10-21            5000000   \n",
       "102             6            annabelle_2014   2014-10-03            6500000   \n",
       "\n",
       "     domestic_gross  worldwide_gross     profit     roi  \n",
       "45         53262945        101759490  100759490  100.76  \n",
       "44         84752907        177512032  174512032   58.17  \n",
       "125       176040665        255367951  250367951   50.07  \n",
       "61        104028807        207039844  202039844   40.41  \n",
       "102        84273813        256862920  250362920   38.52  "
      ]
     },
     "execution_count": 59,
     "metadata": {},
     "output_type": "execute_result"
    }
   ],
   "source": [
    "top139_roi.head()"
   ]
  },
  {
   "cell_type": "code",
   "execution_count": 60,
   "metadata": {},
   "outputs": [
    {
     "data": {
      "text/html": [
       "<div>\n",
       "<style scoped>\n",
       "    .dataframe tbody tr th:only-of-type {\n",
       "        vertical-align: middle;\n",
       "    }\n",
       "\n",
       "    .dataframe tbody tr th {\n",
       "        vertical-align: top;\n",
       "    }\n",
       "\n",
       "    .dataframe thead th {\n",
       "        text-align: right;\n",
       "    }\n",
       "</style>\n",
       "<table border=\"1\" class=\"dataframe\">\n",
       "  <thead>\n",
       "    <tr style=\"text-align: right;\">\n",
       "      <th></th>\n",
       "      <th>nconst</th>\n",
       "      <th>primary_name</th>\n",
       "      <th>birth_year</th>\n",
       "      <th>death_year</th>\n",
       "      <th>primary_profession</th>\n",
       "      <th>known_for_titles</th>\n",
       "      <th>age</th>\n",
       "    </tr>\n",
       "  </thead>\n",
       "  <tbody>\n",
       "    <tr>\n",
       "      <th>0</th>\n",
       "      <td>nm0000002</td>\n",
       "      <td>Lauren Bacall</td>\n",
       "      <td>1924</td>\n",
       "      <td>2014</td>\n",
       "      <td>[actress, soundtrack]</td>\n",
       "      <td>[tt0038355, tt0117057, tt0071877, tt0037382]</td>\n",
       "      <td>NaN</td>\n",
       "    </tr>\n",
       "    <tr>\n",
       "      <th>1</th>\n",
       "      <td>nm0000003</td>\n",
       "      <td>Brigitte Bardot</td>\n",
       "      <td>1934</td>\n",
       "      <td>0</td>\n",
       "      <td>[actress, soundtrack, producer]</td>\n",
       "      <td>[tt0049189, tt0057345, tt0054452, tt0059956]</td>\n",
       "      <td>86.0</td>\n",
       "    </tr>\n",
       "    <tr>\n",
       "      <th>2</th>\n",
       "      <td>nm0000005</td>\n",
       "      <td>Ingmar Bergman</td>\n",
       "      <td>1918</td>\n",
       "      <td>2007</td>\n",
       "      <td>[writer, director, actor]</td>\n",
       "      <td>[tt0069467, tt0050986, tt0083922, tt0050976]</td>\n",
       "      <td>NaN</td>\n",
       "    </tr>\n",
       "    <tr>\n",
       "      <th>3</th>\n",
       "      <td>nm0000006</td>\n",
       "      <td>Ingrid Bergman</td>\n",
       "      <td>1915</td>\n",
       "      <td>1982</td>\n",
       "      <td>[actress, soundtrack, producer]</td>\n",
       "      <td>[tt0071877, tt0036855, tt0038109, tt0038787]</td>\n",
       "      <td>NaN</td>\n",
       "    </tr>\n",
       "    <tr>\n",
       "      <th>4</th>\n",
       "      <td>nm0000007</td>\n",
       "      <td>Humphrey Bogart</td>\n",
       "      <td>1899</td>\n",
       "      <td>1957</td>\n",
       "      <td>[actor, soundtrack, producer]</td>\n",
       "      <td>[tt0034583, tt0033870, tt0037382, tt0043265]</td>\n",
       "      <td>NaN</td>\n",
       "    </tr>\n",
       "  </tbody>\n",
       "</table>\n",
       "</div>"
      ],
      "text/plain": [
       "      nconst     primary_name  birth_year  death_year  \\\n",
       "0  nm0000002    Lauren Bacall        1924        2014   \n",
       "1  nm0000003  Brigitte Bardot        1934           0   \n",
       "2  nm0000005   Ingmar Bergman        1918        2007   \n",
       "3  nm0000006   Ingrid Bergman        1915        1982   \n",
       "4  nm0000007  Humphrey Bogart        1899        1957   \n",
       "\n",
       "                primary_profession  \\\n",
       "0            [actress, soundtrack]   \n",
       "1  [actress, soundtrack, producer]   \n",
       "2        [writer, director, actor]   \n",
       "3  [actress, soundtrack, producer]   \n",
       "4    [actor, soundtrack, producer]   \n",
       "\n",
       "                               known_for_titles   age  \n",
       "0  [tt0038355, tt0117057, tt0071877, tt0037382]   NaN  \n",
       "1  [tt0049189, tt0057345, tt0054452, tt0059956]  86.0  \n",
       "2  [tt0069467, tt0050986, tt0083922, tt0050976]   NaN  \n",
       "3  [tt0071877, tt0036855, tt0038109, tt0038787]   NaN  \n",
       "4  [tt0034583, tt0033870, tt0037382, tt0043265]   NaN  "
      ]
     },
     "execution_count": 60,
     "metadata": {},
     "output_type": "execute_result"
    }
   ],
   "source": [
    "imdb_crew.head()"
   ]
  },
  {
   "cell_type": "code",
   "execution_count": 63,
   "metadata": {},
   "outputs": [
    {
     "name": "stdout",
     "output_type": "stream",
     "text": [
      "The top 5 directors for top ROI movies are:\n",
      "Pierre Coffin        4\n",
      "James Wan            4\n",
      "David O. Russell     3\n",
      "Chris Renaud         3\n",
      "David F. Sandberg    2\n",
      "Name: primary_name, dtype: int64\n",
      "\n",
      "\n",
      "The top 5 writers for top ROI movies are:\n",
      "Ken Daurio            4\n",
      "Cinco Paul            4\n",
      "James DeMonaco        3\n",
      "Christopher Landon    3\n",
      "Leigh Whannell        3\n",
      "Name: primary_name, dtype: int64\n"
     ]
    }
   ],
   "source": [
    "# Find top directors for top ROI movies\n",
    "#explode directors to multiple rows\n",
    "top139_roi_directors = top139_roi.explode('directors')\n",
    "#only select directors who are alive by merging imdb crew table\n",
    "top_roi_directors_alive = pd.merge(top139_roi_directors,imdb_crew,how = 'left', left_on = 'directors', right_on = 'nconst')\n",
    "top_roi_directors_alive = top_roi_directors_alive.loc[top_roi_directors_alive.death_year == 0]\n",
    "#count directors\n",
    "directors_count_roi = top_roi_directors_alive.primary_name.value_counts()\n",
    "\n",
    "\n",
    "# Find top writers for top ROI movies\n",
    "#explode writers to multiple rows\n",
    "top139_roi_writers = top139_roi.explode('writers')\n",
    "#only select writers who are alive by merging imdb crew table\n",
    "top_roi_writers_alive = pd.merge(top139_roi_writers,imdb_crew,how = 'left', left_on = 'writers', right_on = 'nconst')\n",
    "top_roi_writers_alive = top_roi_writers_alive.loc[top_roi_writers_alive.death_year == 0]\n",
    "#count writers\n",
    "writers_count_roi = top_roi_writers_alive.primary_name.value_counts()\n",
    "\n",
    "\n",
    "# # Find top directors for top profit movies\n",
    "# #explode directors to multiple rows\n",
    "# top196_profit_directors = top196_profit.explode('directors')\n",
    "# #count directors\n",
    "# directors_count_roi = top196_profit_directors.directors.value_counts()\n",
    "\n",
    "\n",
    "# # Find top writers for top ROI movies\n",
    "# #explode writers to multiple rows\n",
    "# top196_profit_writers = top196_profit.explode('writers')\n",
    "# #count writers\n",
    "# writers_count_roi = top196_profit_writers.writers.value_counts()\n",
    "\n",
    "\n",
    "print(f'''The top 5 directors for top ROI movies are:\\n{directors_count_roi.head(5)}\\n\\n\n",
    "The top 5 writers for top ROI movies are:\\n{writers_count_roi.head(5)}''')"
   ]
  },
  {
   "cell_type": "markdown",
   "metadata": {},
   "source": [
    "# Top 200 Highest Rated Movies after 2000"
   ]
  },
  {
   "cell_type": "markdown",
   "metadata": {},
   "source": [
    "### Because the ratings on the RT table are inconsistent (Some show A+, some 4/5, some 7.5/10, etc), I will use the IMDB and TMDB ratings"
   ]
  },
  {
   "cell_type": "code",
   "execution_count": null,
   "metadata": {},
   "outputs": [],
   "source": [
    "#To get tmdb['imdb_id'] to line up with the imdb table, I want to remove the \"tt\" at the beginning of the values in the imdb_titles['tconst'] column.\n",
    "imdb_titles['tconst'] = imdb_titles['tconst'].str[2:]\n",
    "#Similarly, I want to make sure that tmdb['imdb_id'] has 7 digits, using 0 as a filler, so that they match\n",
    "tmdb['imdb_id'] = tmdb['imdb_id'].astype(str).str.rjust(7,'0')"
   ]
  },
  {
   "cell_type": "code",
   "execution_count": null,
   "metadata": {
    "scrolled": true
   },
   "outputs": [],
   "source": [
    "rating = imdb_titles.merge(tmdb,left_on='tconst',right_on='imdb_id')"
   ]
  },
  {
   "cell_type": "code",
   "execution_count": null,
   "metadata": {},
   "outputs": [],
   "source": [
    "#Dropping some less relevant columns\n",
    "rating = rating.drop(columns=['original_title_x','original_title_y','id','genre_ids'])"
   ]
  },
  {
   "cell_type": "code",
   "execution_count": null,
   "metadata": {
    "scrolled": true
   },
   "outputs": [],
   "source": [
    "#Dropping all movies released before the year 2000\n",
    "rating['start_year'] = rating['start_year'].map(lambda x: int(x))\n",
    "rating.drop(rating[rating.start_year < 2000].index)"
   ]
  },
  {
   "cell_type": "code",
   "execution_count": null,
   "metadata": {},
   "outputs": [],
   "source": [
    "rating['aggregate_score'] = round(rating.apply(lambda row: row['averagerating'] * row['vote_average'],axis=1),2)\n",
    "#Creating an aggregate score: (IMDB Rating) * (TMDB average rating)"
   ]
  },
  {
   "cell_type": "code",
   "execution_count": null,
   "metadata": {},
   "outputs": [],
   "source": [
    "rating['total_votes'] = rating['numvotes'] + rating['vote_count']\n",
    "#Creating new column 'total votes'"
   ]
  },
  {
   "cell_type": "code",
   "execution_count": null,
   "metadata": {},
   "outputs": [],
   "source": [
    "low_votes = rating[rating['total_votes'] < 20000].index\n",
    "#Identifying rows where total votes is less than 20,000 because their ratings will be less relevant to my analysis"
   ]
  },
  {
   "cell_type": "code",
   "execution_count": null,
   "metadata": {},
   "outputs": [],
   "source": [
    "rating.drop(low_votes, inplace=True)\n",
    "#Removing those rows"
   ]
  },
  {
   "cell_type": "code",
   "execution_count": null,
   "metadata": {
    "scrolled": false
   },
   "outputs": [],
   "source": [
    "rating['aggregate_score'] = rating['aggregate_score'].map(lambda x: x*100 / max(rating['aggregate_score']))\n",
    "rating['aggregate_score'] = round(rating['aggregate_score'],2)\n",
    "#Standardizing the aggregate score on a scale of 0 to 100, and rounding it to 2 decimal places"
   ]
  },
  {
   "cell_type": "code",
   "execution_count": null,
   "metadata": {},
   "outputs": [],
   "source": [
    "top_200_rating = rating.sort_values(by=['aggregate_score'],ascending=False).head(200)\n",
    "#Sorting by highest rated to lowest"
   ]
  },
  {
   "cell_type": "markdown",
   "metadata": {},
   "source": [
    "## What are the best rated films since 2000?"
   ]
  },
  {
   "cell_type": "code",
   "execution_count": null,
   "metadata": {
    "scrolled": true
   },
   "outputs": [],
   "source": [
    "sns.set(style=\"whitegrid\")\n",
    "rating_title_score_barplot = sns.barplot(x='primary_title',y='aggregate_score',data=top_200_rating.head(20))\n",
    "rating_title_score_barplot = rating_title_score_barplot.set(xlabel='Film Title',ylabel='Aggregate Score', title = \"Top 20 Rated Films\")\n",
    "plt.xticks(rotation=90)\n"
   ]
  },
  {
   "cell_type": "markdown",
   "metadata": {},
   "source": [
    "# Analysis of above graph goes here"
   ]
  },
  {
   "cell_type": "code",
   "execution_count": null,
   "metadata": {},
   "outputs": [],
   "source": [
    "print('Sample Aggregate Score mean:', round(rating.aggregate_score.mean(),2))\n",
    "print('Sample Aggregate Score sd:', round(rating.aggregate_score.std(),2))\n",
    "print('Top 200 Aggregate Score mean:', round(top_200_rating.aggregate_score.mean(),2))\n",
    "print('Top 200 Aggregate Score sd:', round(top_200_rating.aggregate_score.std(),2))\n"
   ]
  },
  {
   "cell_type": "markdown",
   "metadata": {},
   "source": [
    "## Of these films, which genres are most prevalent? "
   ]
  },
  {
   "cell_type": "code",
   "execution_count": null,
   "metadata": {},
   "outputs": [],
   "source": [
    "genres_popularity = top_200_rating [['primary_title', 'popularity', 'genres','aggregate_score','total_votes']]"
   ]
  },
  {
   "cell_type": "code",
   "execution_count": null,
   "metadata": {},
   "outputs": [],
   "source": [
    "genres_popularity = genres_popularity.explode('genres')"
   ]
  },
  {
   "cell_type": "code",
   "execution_count": null,
   "metadata": {},
   "outputs": [],
   "source": [
    "genres_popularity['genres'] = genres_popularity['genres'].map(lambda x: str(x))\n",
    "#Converting genres column to a string, so that I can count its frequency"
   ]
  },
  {
   "cell_type": "code",
   "execution_count": null,
   "metadata": {
    "scrolled": false
   },
   "outputs": [],
   "source": [
    "genre_count = sns.countplot(x='genres',data=genres_popularity,order = genres_popularity['genres'].value_counts().index)\n",
    "genre_count = genre_count.set(xlabel='Genre',ylabel='Count', title = \"Frequency of Genre in top 200 rated films\")\n",
    "plt.xticks(rotation=90)"
   ]
  },
  {
   "cell_type": "markdown",
   "metadata": {},
   "source": [
    "# Analysis of above graph goes here"
   ]
  },
  {
   "cell_type": "code",
   "execution_count": null,
   "metadata": {},
   "outputs": [],
   "source": [
    "top_3_genres = genres_popularity[genres_popularity['genres'].isin(['Adventure','Action','Drama']) ]\n",
    "#Picking films only from the top 3 genres"
   ]
  },
  {
   "cell_type": "markdown",
   "metadata": {},
   "source": [
    "# What is the relationship between a film's review score and the number of reviews?"
   ]
  },
  {
   "cell_type": "code",
   "execution_count": null,
   "metadata": {
    "scrolled": false
   },
   "outputs": [],
   "source": [
    "scatter_score_totalvotes = sns.lmplot(x='aggregate_score',y='total_votes',data=top_3_genres,hue='genres',scatter_kws={'alpha':0.5})\n",
    "scatter_score_totalvotes.set(xlabel='Aggregate Score',ylabel='Total Votes', title = \"Relationship between Popularity & Score, top 3 genres\")\n",
    "\n"
   ]
  },
  {
   "cell_type": "code",
   "execution_count": null,
   "metadata": {},
   "outputs": [],
   "source": [
    "#Less votes doesn't mean lower quality for drama, probably means less revenue despite high rating, higher popularity with action and adventure"
   ]
  },
  {
   "cell_type": "markdown",
   "metadata": {},
   "source": [
    "# Analysis of above graph goes here"
   ]
  },
  {
   "cell_type": "markdown",
   "metadata": {},
   "source": [
    "## Analyzing the top 3 genres, what is the relationship between a films review score and its popularity?"
   ]
  },
  {
   "cell_type": "code",
   "execution_count": null,
   "metadata": {
    "scrolled": false
   },
   "outputs": [],
   "source": [
    "scatter_score_popularity = sns.lmplot(x='aggregate_score',y='popularity',data=top_3_genres,hue='genres',scatter_kws={'alpha':0.5})\n",
    "scatter_score_popularity.set(xlabel='Aggregate Score',ylabel='Popularity', title = \"Relationship between Popularity & Score, top 3 genres\")\n",
    "\n"
   ]
  },
  {
   "cell_type": "markdown",
   "metadata": {},
   "source": [
    "# Analysis of above graph goes here"
   ]
  },
  {
   "cell_type": "code",
   "execution_count": null,
   "metadata": {},
   "outputs": [],
   "source": [
    "top_200_directors = top_200_rating [['primary_title', 'popularity', 'genres','aggregate_score','total_votes','directors']]\n",
    "#Creating a new table to identify best directors of top 200 films"
   ]
  },
  {
   "cell_type": "code",
   "execution_count": null,
   "metadata": {},
   "outputs": [],
   "source": [
    "top_200_directors = top_200_directors.explode('directors')\n",
    "#Splitting directors into different rows"
   ]
  },
  {
   "cell_type": "code",
   "execution_count": null,
   "metadata": {},
   "outputs": [],
   "source": [
    "top_200_directors = top_200_directors.merge(imdb_crew,right_on='nconst',left_on='directors')\n",
    "#Joining imdb_crew table to identify direcotrs by their ID"
   ]
  },
  {
   "cell_type": "code",
   "execution_count": null,
   "metadata": {
    "scrolled": false
   },
   "outputs": [],
   "source": [
    "top_200_directors = top_200_directors[['primary_title','popularity','aggregate_score','total_votes','primary_name','death_year']]\n",
    "#Keeping only the columns that I will need"
   ]
  },
  {
   "cell_type": "code",
   "execution_count": null,
   "metadata": {},
   "outputs": [],
   "source": [
    "top_200_directors = top_200_directors.drop(top_200_directors[top_200_directors['death_year'] != 0].index)\n",
    "#Removing all deceased directors"
   ]
  },
  {
   "cell_type": "markdown",
   "metadata": {},
   "source": [
    "## Which directors should we consider hiring? (That is, those who have worked on the highest number of highly rated films)"
   ]
  },
  {
   "cell_type": "code",
   "execution_count": null,
   "metadata": {
    "scrolled": false
   },
   "outputs": [],
   "source": [
    "top_directors_rating = sns.countplot(x='primary_name',data=top_200_directors,order = top_200_directors['primary_name'].value_counts().head(25).index)\n",
    "top_directors_rating = top_directors_rating.set(xlabel='Director Name',ylabel='Number of Top 200 Films Directed', title = \"Top 25 Directors (Rating)\")\n",
    "plt.xticks(rotation=90)"
   ]
  },
  {
   "cell_type": "code",
   "execution_count": null,
   "metadata": {},
   "outputs": [],
   "source": [
    "# Maybe try to separate films by genre with color of graph"
   ]
  },
  {
   "cell_type": "markdown",
   "metadata": {},
   "source": [
    "# Analysis of above graph goes here"
   ]
  },
  {
   "cell_type": "code",
   "execution_count": null,
   "metadata": {},
   "outputs": [],
   "source": [
    "top_200_writers = top_200_rating [['primary_title', 'popularity', 'genres','aggregate_score','total_votes','writers']]\n",
    "#Following same process for top writers"
   ]
  },
  {
   "cell_type": "code",
   "execution_count": null,
   "metadata": {},
   "outputs": [],
   "source": [
    "top_200_writers = top_200_writers.explode('writers')"
   ]
  },
  {
   "cell_type": "code",
   "execution_count": null,
   "metadata": {},
   "outputs": [],
   "source": [
    "top_200_writers = top_200_writers.merge(imdb_crew,right_on='nconst',left_on='writers')"
   ]
  },
  {
   "cell_type": "code",
   "execution_count": null,
   "metadata": {},
   "outputs": [],
   "source": [
    "top_200_writers = top_200_writers[['primary_title','popularity','aggregate_score','total_votes','primary_name','death_year']]"
   ]
  },
  {
   "cell_type": "code",
   "execution_count": null,
   "metadata": {},
   "outputs": [],
   "source": [
    "top_200_writers = top_200_writers.drop(top_200_writers[top_200_writers['death_year'] != 0].index)"
   ]
  },
  {
   "cell_type": "markdown",
   "metadata": {},
   "source": [
    "## Which writers should we consider hiring? (That is, those who have worked on the highest number of highly rated films)"
   ]
  },
  {
   "cell_type": "code",
   "execution_count": null,
   "metadata": {
    "scrolled": false
   },
   "outputs": [],
   "source": [
    "top_writers_rating = sns.countplot(x='primary_name',data=top_200_writers,order = top_200_writers['primary_name'].value_counts().head(30).index)\n",
    "top_writers_rating = top_writers_rating.set(xlabel='Writer Name',ylabel='Number of Top 200 Films Written', title = \"Top 30 Writers (Rating)\")\n",
    "plt.xticks(rotation=90)"
   ]
  },
  {
   "cell_type": "code",
   "execution_count": null,
   "metadata": {},
   "outputs": [],
   "source": [
    "# Maybe try to separate films by genre with color of graph. Notice how directors makes way more of a difference"
   ]
  },
  {
   "cell_type": "markdown",
   "metadata": {},
   "source": [
    "# Analysis of above graph goes here"
   ]
  },
  {
   "cell_type": "markdown",
   "metadata": {},
   "source": [
    "## Review Rating Findings Recap\n",
    "    1. Observation 1\n",
    "    2. Observation 2\n",
    "    3. Observation 3\n",
    "\n",
    "## Business Recommendations\n",
    "    1. Recommendation 1\n",
    "    2. Recommendation 2\n",
    "    3. Recommendation 3\n",
    "\n",
    "## Limitations\n",
    "    1. Limitation 1\n",
    "    2. Limitation 2\n",
    "    3. Limitation 3"
   ]
  },
  {
   "cell_type": "code",
   "execution_count": null,
   "metadata": {},
   "outputs": [],
   "source": []
  },
  {
   "cell_type": "code",
   "execution_count": null,
   "metadata": {},
   "outputs": [],
   "source": []
  },
  {
   "cell_type": "code",
   "execution_count": null,
   "metadata": {},
   "outputs": [],
   "source": []
  }
 ],
 "metadata": {
  "kernelspec": {
   "display_name": "Python 3",
   "language": "python",
   "name": "python3"
  },
  "language_info": {
   "codemirror_mode": {
    "name": "ipython",
    "version": 3
   },
   "file_extension": ".py",
   "mimetype": "text/x-python",
   "name": "python",
   "nbconvert_exporter": "python",
   "pygments_lexer": "ipython3",
   "version": "3.7.1"
  }
 },
 "nbformat": 4,
 "nbformat_minor": 4
}
